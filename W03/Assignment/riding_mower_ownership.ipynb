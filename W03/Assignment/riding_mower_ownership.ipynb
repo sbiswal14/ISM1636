{
 "cells": [
  {
   "cell_type": "markdown",
   "id": "410e8355-0316-4954-8895-89243243d3e7",
   "metadata": {},
   "source": [
    "###  Subash Chandra Biswal (U77884251) ###"
   ]
  },
  {
   "cell_type": "code",
   "execution_count": 374,
   "id": "b8d76f57-55c2-4f8d-b28b-0675c220fbb1",
   "metadata": {},
   "outputs": [],
   "source": [
    "# import numpy and pandas libraries\n",
    "import numpy as np\n",
    "import pandas as pd\n",
    "from sklearn.preprocessing import LabelEncoder\n",
    "from sklearn.model_selection import train_test_split\n",
    "from sklearn import preprocessing\n",
    "from sklearn.impute import SimpleImputer\n",
    "from sklearn.svm import SVC\n",
    "from sklearn.metrics import confusion_matrix\n",
    "from matplotlib import pyplot as plt\n",
    "# set random seed to ensure that results are repeatable\n",
    "np.random.seed(1)"
   ]
  },
  {
   "cell_type": "code",
   "execution_count": 375,
   "id": "79755566-84cc-4932-8857-39e6fc6472b0",
   "metadata": {},
   "outputs": [
    {
     "data": {
      "text/html": [
       "<div>\n",
       "<style scoped>\n",
       "    .dataframe tbody tr th:only-of-type {\n",
       "        vertical-align: middle;\n",
       "    }\n",
       "\n",
       "    .dataframe tbody tr th {\n",
       "        vertical-align: top;\n",
       "    }\n",
       "\n",
       "    .dataframe thead th {\n",
       "        text-align: right;\n",
       "    }\n",
       "</style>\n",
       "<table border=\"1\" class=\"dataframe\">\n",
       "  <thead>\n",
       "    <tr style=\"text-align: right;\">\n",
       "      <th></th>\n",
       "      <th>Income</th>\n",
       "      <th>Lot_Size</th>\n",
       "      <th>Ownership</th>\n",
       "    </tr>\n",
       "  </thead>\n",
       "  <tbody>\n",
       "    <tr>\n",
       "      <th>0</th>\n",
       "      <td>60.0</td>\n",
       "      <td>18.4</td>\n",
       "      <td>Owner</td>\n",
       "    </tr>\n",
       "    <tr>\n",
       "      <th>1</th>\n",
       "      <td>85.5</td>\n",
       "      <td>16.8</td>\n",
       "      <td>Owner</td>\n",
       "    </tr>\n",
       "    <tr>\n",
       "      <th>2</th>\n",
       "      <td>64.8</td>\n",
       "      <td>21.6</td>\n",
       "      <td>Owner</td>\n",
       "    </tr>\n",
       "  </tbody>\n",
       "</table>\n",
       "</div>"
      ],
      "text/plain": [
       "   Income  Lot_Size Ownership\n",
       "0    60.0      18.4     Owner\n",
       "1    85.5      16.8     Owner\n",
       "2    64.8      21.6     Owner"
      ]
     },
     "execution_count": 375,
     "metadata": {},
     "output_type": "execute_result"
    }
   ],
   "source": [
    "# load data\n",
    "mowers = pd.read_csv(\"./data/RidingMowers.csv\")\n",
    "\n",
    "mowers.head(3)"
   ]
  },
  {
   "cell_type": "code",
   "execution_count": 436,
   "id": "d3dc562c-e040-44ef-ab6e-66560cb26ba1",
   "metadata": {},
   "outputs": [
    {
     "name": "stdout",
     "output_type": "stream",
     "text": [
      "<class 'pandas.core.frame.DataFrame'>\n",
      "RangeIndex: 24 entries, 0 to 23\n",
      "Data columns (total 3 columns):\n",
      " #   Column     Non-Null Count  Dtype  \n",
      "---  ------     --------------  -----  \n",
      " 0   Income     24 non-null     float64\n",
      " 1   Lot_Size   24 non-null     float64\n",
      " 2   Ownership  24 non-null     int32  \n",
      "dtypes: float64(2), int32(1)\n",
      "memory usage: 608.0 bytes\n"
     ]
    }
   ],
   "source": [
    "mowers.info()\n"
   ]
  },
  {
   "cell_type": "code",
   "execution_count": 376,
   "id": "59246bc8-9805-4d57-839f-247a6ac4becc",
   "metadata": {},
   "outputs": [
    {
     "data": {
      "text/html": [
       "<div>\n",
       "<style scoped>\n",
       "    .dataframe tbody tr th:only-of-type {\n",
       "        vertical-align: middle;\n",
       "    }\n",
       "\n",
       "    .dataframe tbody tr th {\n",
       "        vertical-align: top;\n",
       "    }\n",
       "\n",
       "    .dataframe thead th {\n",
       "        text-align: right;\n",
       "    }\n",
       "</style>\n",
       "<table border=\"1\" class=\"dataframe\">\n",
       "  <thead>\n",
       "    <tr style=\"text-align: right;\">\n",
       "      <th></th>\n",
       "      <th>Income</th>\n",
       "      <th>Lot_Size</th>\n",
       "    </tr>\n",
       "  </thead>\n",
       "  <tbody>\n",
       "    <tr>\n",
       "      <th>count</th>\n",
       "      <td>24.000000</td>\n",
       "      <td>24.000000</td>\n",
       "    </tr>\n",
       "    <tr>\n",
       "      <th>mean</th>\n",
       "      <td>68.437500</td>\n",
       "      <td>18.950000</td>\n",
       "    </tr>\n",
       "    <tr>\n",
       "      <th>std</th>\n",
       "      <td>19.793144</td>\n",
       "      <td>2.428275</td>\n",
       "    </tr>\n",
       "    <tr>\n",
       "      <th>min</th>\n",
       "      <td>33.000000</td>\n",
       "      <td>14.000000</td>\n",
       "    </tr>\n",
       "    <tr>\n",
       "      <th>25%</th>\n",
       "      <td>52.350000</td>\n",
       "      <td>17.500000</td>\n",
       "    </tr>\n",
       "    <tr>\n",
       "      <th>50%</th>\n",
       "      <td>64.800000</td>\n",
       "      <td>19.000000</td>\n",
       "    </tr>\n",
       "    <tr>\n",
       "      <th>75%</th>\n",
       "      <td>83.100000</td>\n",
       "      <td>20.800000</td>\n",
       "    </tr>\n",
       "    <tr>\n",
       "      <th>max</th>\n",
       "      <td>110.100000</td>\n",
       "      <td>23.600000</td>\n",
       "    </tr>\n",
       "  </tbody>\n",
       "</table>\n",
       "</div>"
      ],
      "text/plain": [
       "           Income   Lot_Size\n",
       "count   24.000000  24.000000\n",
       "mean    68.437500  18.950000\n",
       "std     19.793144   2.428275\n",
       "min     33.000000  14.000000\n",
       "25%     52.350000  17.500000\n",
       "50%     64.800000  19.000000\n",
       "75%     83.100000  20.800000\n",
       "max    110.100000  23.600000"
      ]
     },
     "execution_count": 376,
     "metadata": {},
     "output_type": "execute_result"
    }
   ],
   "source": [
    "mowers.describe()"
   ]
  },
  {
   "cell_type": "code",
   "execution_count": 377,
   "id": "8da12350-9a22-43f7-b843-d93bd7145e51",
   "metadata": {},
   "outputs": [
    {
     "data": {
      "text/html": [
       "<style type=\"text/css\">\n",
       "#T_f2293 thead>tr>th {\n",
       "  text-align: left;\n",
       "}\n",
       "#T_f2293_row0_col0, #T_f2293_row1_col0, #T_f2293_row2_col0 {\n",
       "  text-align: left;\n",
       "  font-size: 12px;\n",
       "  vertical-align: middle;\n",
       "  width: 5%;\n",
       "  max-width: 50px;\n",
       "  min-width: 20px;\n",
       "}\n",
       "#T_f2293_row0_col1, #T_f2293_row1_col1, #T_f2293_row2_col1 {\n",
       "  text-align: left;\n",
       "  font-size: 12px;\n",
       "  vertical-align: middle;\n",
       "  width: 15%;\n",
       "  max-width: 200px;\n",
       "  min-width: 100px;\n",
       "  word-break: break-word;\n",
       "}\n",
       "#T_f2293_row0_col2, #T_f2293_row1_col2, #T_f2293_row2_col2 {\n",
       "  text-align: left;\n",
       "  font-size: 12px;\n",
       "  vertical-align: middle;\n",
       "  width: 30%;\n",
       "  min-width: 100px;\n",
       "}\n",
       "#T_f2293_row0_col3, #T_f2293_row1_col3, #T_f2293_row2_col3 {\n",
       "  text-align: left;\n",
       "  font-size: 12px;\n",
       "  vertical-align: middle;\n",
       "  width: 25%;\n",
       "  min-width: 100px;\n",
       "}\n",
       "#T_f2293_row0_col4, #T_f2293_row1_col4, #T_f2293_row2_col4 {\n",
       "  text-align: left;\n",
       "  font-size: 12px;\n",
       "  vertical-align: middle;\n",
       "  width: 20%;\n",
       "  min-width: 150px;\n",
       "}\n",
       "#T_f2293_row0_col5, #T_f2293_row1_col5, #T_f2293_row2_col5 {\n",
       "  text-align: left;\n",
       "  font-size: 12px;\n",
       "  vertical-align: middle;\n",
       "  width: 10%;\n",
       "}\n",
       "</style>\n",
       "<table id=\"T_f2293\">\n",
       "  <caption><strong>Data Frame Summary</strong><br>mowers<br>Dimensions: 24 x 3<br>Duplicates: 0</caption>\n",
       "  <thead>\n",
       "    <tr>\n",
       "      <th id=\"T_f2293_level0_col0\" class=\"col_heading level0 col0\" >No</th>\n",
       "      <th id=\"T_f2293_level0_col1\" class=\"col_heading level0 col1\" >Variable</th>\n",
       "      <th id=\"T_f2293_level0_col2\" class=\"col_heading level0 col2\" >Stats / Values</th>\n",
       "      <th id=\"T_f2293_level0_col3\" class=\"col_heading level0 col3\" >Freqs / (% of Valid)</th>\n",
       "      <th id=\"T_f2293_level0_col4\" class=\"col_heading level0 col4\" >Graph</th>\n",
       "      <th id=\"T_f2293_level0_col5\" class=\"col_heading level0 col5\" >Missing</th>\n",
       "    </tr>\n",
       "  </thead>\n",
       "  <tbody>\n",
       "    <tr>\n",
       "      <td id=\"T_f2293_row0_col0\" class=\"data row0 col0\" >1</td>\n",
       "      <td id=\"T_f2293_row0_col1\" class=\"data row0 col1\" ><strong>Income</strong><br>[float64]</td>\n",
       "      <td id=\"T_f2293_row0_col2\" class=\"data row0 col2\" >Mean (sd) : 68.4 (19.8)<br>min < med < max:<br>33.0 < 64.8 < 110.1<br>IQR (CV) : 30.8 (3.5)</td>\n",
       "      <td id=\"T_f2293_row0_col3\" class=\"data row0 col3\" >22 distinct values</td>\n",
       "      <td id=\"T_f2293_row0_col4\" class=\"data row0 col4\" ><img src = \"tmp\\mowers_000.png\"></img></td>\n",
       "      <td id=\"T_f2293_row0_col5\" class=\"data row0 col5\" >0<br>(0.0%)</td>\n",
       "    </tr>\n",
       "    <tr>\n",
       "      <td id=\"T_f2293_row1_col0\" class=\"data row1 col0\" >2</td>\n",
       "      <td id=\"T_f2293_row1_col1\" class=\"data row1 col1\" ><strong>Lot_Size</strong><br>[float64]</td>\n",
       "      <td id=\"T_f2293_row1_col2\" class=\"data row1 col2\" >Mean (sd) : 19.0 (2.4)<br>min < med < max:<br>14.0 < 19.0 < 23.6<br>IQR (CV) : 3.3 (7.8)</td>\n",
       "      <td id=\"T_f2293_row1_col3\" class=\"data row1 col3\" >18 distinct values</td>\n",
       "      <td id=\"T_f2293_row1_col4\" class=\"data row1 col4\" ><img src = \"tmp\\mowers_001.png\"></img></td>\n",
       "      <td id=\"T_f2293_row1_col5\" class=\"data row1 col5\" >0<br>(0.0%)</td>\n",
       "    </tr>\n",
       "    <tr>\n",
       "      <td id=\"T_f2293_row2_col0\" class=\"data row2 col0\" >3</td>\n",
       "      <td id=\"T_f2293_row2_col1\" class=\"data row2 col1\" ><strong>Ownership</strong><br>[object]</td>\n",
       "      <td id=\"T_f2293_row2_col2\" class=\"data row2 col2\" >1. Owner<br>2. Nonowner</td>\n",
       "      <td id=\"T_f2293_row2_col3\" class=\"data row2 col3\" >12 (50.0%)<br>12 (50.0%)</td>\n",
       "      <td id=\"T_f2293_row2_col4\" class=\"data row2 col4\" ><img src = \"tmp\\mowers_002.png\"></img></td>\n",
       "      <td id=\"T_f2293_row2_col5\" class=\"data row2 col5\" >0<br>(0.0%)</td>\n",
       "    </tr>\n",
       "  </tbody>\n",
       "</table>\n"
      ],
      "text/plain": [
       "<pandas.io.formats.style.Styler at 0x1864f950e20>"
      ]
     },
     "execution_count": 377,
     "metadata": {},
     "output_type": "execute_result"
    }
   ],
   "source": [
    "# summary of the data\n",
    "import summarytools\n",
    "from summarytools import dfSummary\n",
    "dfSummary(mowers)"
   ]
  },
  {
   "cell_type": "markdown",
   "id": "78334a80-f586-42b0-a80e-3221b81db5b1",
   "metadata": {},
   "source": [
    "## About the Data ##\n",
    "\n",
    "The dataset has 24 rows of mower ownership data. This has 12 owners and 12 nonowners for different incomes and lot sizes."
   ]
  },
  {
   "cell_type": "code",
   "execution_count": 437,
   "id": "07300acc-8ff2-4a44-a083-b3d88beed49e",
   "metadata": {},
   "outputs": [
    {
     "data": {
      "text/plain": [
       "Income       0\n",
       "Lot_Size     0\n",
       "Ownership    0\n",
       "dtype: int64"
      ]
     },
     "execution_count": 437,
     "metadata": {},
     "output_type": "execute_result"
    }
   ],
   "source": [
    "# Check the missing values by summing the total na's for each variable\n",
    "mowers.isna().sum()"
   ]
  },
  {
   "cell_type": "markdown",
   "id": "3aa528f1-5e98-4be8-995c-3f3c2c576abd",
   "metadata": {},
   "source": [
    "The dataset has no missing values for any of the variables."
   ]
  },
  {
   "cell_type": "code",
   "execution_count": 379,
   "id": "0673e9c5-4269-44fe-ae4b-2237699a3b54",
   "metadata": {},
   "outputs": [
    {
     "data": {
      "text/plain": [
       "['Ownership']"
      ]
     },
     "execution_count": 379,
     "metadata": {},
     "output_type": "execute_result"
    }
   ],
   "source": [
    "# create a list of these catagorical variables\n",
    "category_var_list = list(mowers.select_dtypes(include='object').columns)\n",
    "category_var_list"
   ]
  },
  {
   "cell_type": "markdown",
   "id": "8ad9ddb0-5d7d-4927-876d-609c52c8e8c5",
   "metadata": {},
   "source": [
    "The dataset has only one categorical variable which is a target variable. We only have to assign binary values to the target variable."
   ]
  },
  {
   "cell_type": "markdown",
   "id": "a367982f-96f3-464a-9730-bcc8255f0738",
   "metadata": {},
   "source": [
    "## Transform the target variable ##\n",
    "\n",
    "The target variable has only two categories and so we can assign binary values to the target data."
   ]
  },
  {
   "cell_type": "code",
   "execution_count": 380,
   "id": "ab95729b-3b19-4f88-afd5-a21f85e94bf4",
   "metadata": {},
   "outputs": [
    {
     "name": "stdout",
     "output_type": "stream",
     "text": [
      "Category: Ownership Values: ['Owner' 'Nonowner']\n"
     ]
    }
   ],
   "source": [
    "# explore the categorical variable values - often there are typos here that need to be fixed.\n",
    "for cat in category_var_list: # generally, we want to avoid for loops and use a functional style (i.e. list comprehension)\n",
    "    print(f\"Category: {cat} Values: {mowers[cat].unique()}\")"
   ]
  },
  {
   "cell_type": "code",
   "execution_count": 381,
   "id": "e3ee3032-2a13-490d-8a1e-c4f90d9a142d",
   "metadata": {},
   "outputs": [],
   "source": [
    "mowers['Ownership'] = (mowers['Ownership'] == 'Owner').astype(int)"
   ]
  },
  {
   "cell_type": "code",
   "execution_count": 272,
   "id": "461a8ea9-401c-4562-b4c7-a665c64af32d",
   "metadata": {},
   "outputs": [
    {
     "data": {
      "text/html": [
       "<div>\n",
       "<style scoped>\n",
       "    .dataframe tbody tr th:only-of-type {\n",
       "        vertical-align: middle;\n",
       "    }\n",
       "\n",
       "    .dataframe tbody tr th {\n",
       "        vertical-align: top;\n",
       "    }\n",
       "\n",
       "    .dataframe thead th {\n",
       "        text-align: right;\n",
       "    }\n",
       "</style>\n",
       "<table border=\"1\" class=\"dataframe\">\n",
       "  <thead>\n",
       "    <tr style=\"text-align: right;\">\n",
       "      <th></th>\n",
       "      <th>Income</th>\n",
       "      <th>Lot_Size</th>\n",
       "      <th>Ownership</th>\n",
       "    </tr>\n",
       "  </thead>\n",
       "  <tbody>\n",
       "    <tr>\n",
       "      <th>0</th>\n",
       "      <td>60.0</td>\n",
       "      <td>18.4</td>\n",
       "      <td>1</td>\n",
       "    </tr>\n",
       "    <tr>\n",
       "      <th>1</th>\n",
       "      <td>85.5</td>\n",
       "      <td>16.8</td>\n",
       "      <td>1</td>\n",
       "    </tr>\n",
       "    <tr>\n",
       "      <th>2</th>\n",
       "      <td>64.8</td>\n",
       "      <td>21.6</td>\n",
       "      <td>1</td>\n",
       "    </tr>\n",
       "    <tr>\n",
       "      <th>3</th>\n",
       "      <td>61.5</td>\n",
       "      <td>20.8</td>\n",
       "      <td>1</td>\n",
       "    </tr>\n",
       "    <tr>\n",
       "      <th>4</th>\n",
       "      <td>87.0</td>\n",
       "      <td>23.6</td>\n",
       "      <td>1</td>\n",
       "    </tr>\n",
       "  </tbody>\n",
       "</table>\n",
       "</div>"
      ],
      "text/plain": [
       "   Income  Lot_Size  Ownership\n",
       "0    60.0      18.4          1\n",
       "1    85.5      16.8          1\n",
       "2    64.8      21.6          1\n",
       "3    61.5      20.8          1\n",
       "4    87.0      23.6          1"
      ]
     },
     "execution_count": 272,
     "metadata": {},
     "output_type": "execute_result"
    }
   ],
   "source": [
    "mowers.head()"
   ]
  },
  {
   "cell_type": "markdown",
   "id": "c75cf649-40e7-421f-806e-80b876d291b7",
   "metadata": {},
   "source": [
    "## Plot the Data ##"
   ]
  },
  {
   "cell_type": "code",
   "execution_count": 382,
   "id": "49819e6e-e62c-4331-9c28-da14c9af6826",
   "metadata": {},
   "outputs": [
    {
     "data": {
      "image/png": "[encoded data removed]",
      "text/plain": [
       "<Figure size 432x288 with 1 Axes>"
      ]
     },
     "metadata": {
      "needs_background": "light"
     },
     "output_type": "display_data"
    }
   ],
   "source": [
    "fig = plt.figure()\n",
    "ax = fig.add_subplot()\n",
    "#ax.scatter(X, y, c=y.iloc[:,0])\n",
    "colors = np.array([\"blue\", \"red\"])\n",
    "ax.scatter(mowers['Income'], mowers['Lot_Size'], c=colors[np.ravel(mowers['Ownership'])])\n",
    "ax.set_xlabel('Income')\n",
    "ax.set_ylabel('Lot Size')\n",
    "ax.set_title('SVM')\n",
    "ax.legend(('Owner','Nonowner'),loc=1)\n",
    "plt.show()"
   ]
  },
  {
   "cell_type": "markdown",
   "id": "637afe98-3b43-4409-bdf6-08fd3cddf018",
   "metadata": {},
   "source": [
    "We can see that the data points are clearly divided into two classes with few data points overlapped. We can assume that simple linear function is required to cut the datapoints into two classes."
   ]
  },
  {
   "cell_type": "markdown",
   "id": "ea6e7795-d792-48f4-b423-a4866f6f6891",
   "metadata": {},
   "source": [
    "## Train-Test Split ##"
   ]
  },
  {
   "cell_type": "code",
   "execution_count": 424,
   "id": "55ecc7b4-548e-45b5-8479-ec3ef100ff46",
   "metadata": {},
   "outputs": [],
   "source": [
    "# split the data into validation and training set\n",
    "train_df, test_df = train_test_split(mowers, test_size=0.30)\n",
    "\n",
    "# to reduce repetition in later code, create variables to represent the columns\n",
    "# that are our predictors and target\n",
    "target = 'Ownership'\n",
    "predictors = list(mowers.columns)\n",
    "predictors.remove(target)"
   ]
  },
  {
   "cell_type": "code",
   "execution_count": 425,
   "id": "5a5b18bf-bc25-4548-b5b7-f07c3fbd2a62",
   "metadata": {},
   "outputs": [
    {
     "data": {
      "text/html": [
       "<div>\n",
       "<style scoped>\n",
       "    .dataframe tbody tr th:only-of-type {\n",
       "        vertical-align: middle;\n",
       "    }\n",
       "\n",
       "    .dataframe tbody tr th {\n",
       "        vertical-align: top;\n",
       "    }\n",
       "\n",
       "    .dataframe thead th {\n",
       "        text-align: right;\n",
       "    }\n",
       "</style>\n",
       "<table border=\"1\" class=\"dataframe\">\n",
       "  <thead>\n",
       "    <tr style=\"text-align: right;\">\n",
       "      <th></th>\n",
       "      <th>Income</th>\n",
       "      <th>Lot_Size</th>\n",
       "      <th>Ownership</th>\n",
       "    </tr>\n",
       "  </thead>\n",
       "  <tbody>\n",
       "    <tr>\n",
       "      <th>11</th>\n",
       "      <td>81.0</td>\n",
       "      <td>20.0</td>\n",
       "      <td>1</td>\n",
       "    </tr>\n",
       "    <tr>\n",
       "      <th>20</th>\n",
       "      <td>47.4</td>\n",
       "      <td>16.4</td>\n",
       "      <td>0</td>\n",
       "    </tr>\n",
       "    <tr>\n",
       "      <th>22</th>\n",
       "      <td>51.0</td>\n",
       "      <td>14.0</td>\n",
       "      <td>0</td>\n",
       "    </tr>\n",
       "    <tr>\n",
       "      <th>5</th>\n",
       "      <td>110.1</td>\n",
       "      <td>19.2</td>\n",
       "      <td>1</td>\n",
       "    </tr>\n",
       "    <tr>\n",
       "      <th>19</th>\n",
       "      <td>66.0</td>\n",
       "      <td>18.4</td>\n",
       "      <td>0</td>\n",
       "    </tr>\n",
       "    <tr>\n",
       "      <th>6</th>\n",
       "      <td>108.0</td>\n",
       "      <td>17.6</td>\n",
       "      <td>1</td>\n",
       "    </tr>\n",
       "    <tr>\n",
       "      <th>4</th>\n",
       "      <td>87.0</td>\n",
       "      <td>23.6</td>\n",
       "      <td>1</td>\n",
       "    </tr>\n",
       "    <tr>\n",
       "      <th>18</th>\n",
       "      <td>59.4</td>\n",
       "      <td>16.0</td>\n",
       "      <td>0</td>\n",
       "    </tr>\n",
       "  </tbody>\n",
       "</table>\n",
       "</div>"
      ],
      "text/plain": [
       "    Income  Lot_Size  Ownership\n",
       "11    81.0      20.0          1\n",
       "20    47.4      16.4          0\n",
       "22    51.0      14.0          0\n",
       "5    110.1      19.2          1\n",
       "19    66.0      18.4          0\n",
       "6    108.0      17.6          1\n",
       "4     87.0      23.6          1\n",
       "18    59.4      16.0          0"
      ]
     },
     "execution_count": 425,
     "metadata": {},
     "output_type": "execute_result"
    }
   ],
   "source": [
    "test_df"
   ]
  },
  {
   "cell_type": "code",
   "execution_count": 426,
   "id": "76439a4d-b74e-47a7-8dc5-edcb4832f996",
   "metadata": {},
   "outputs": [],
   "source": [
    "train_X = train_df[predictors]\n",
    "train_y = train_df[target] # train_target is now a series objecttrain_df.to_csv('airbnb_train_df.csv', index=False)\n",
    "test_X = test_df[predictors]\n",
    "test_y = test_df[target] # validation_target is now a series object"
   ]
  },
  {
   "cell_type": "code",
   "execution_count": 427,
   "id": "1dcd231b-707a-4ec3-92dc-aba9c1304cb8",
   "metadata": {},
   "outputs": [],
   "source": [
    "performance = pd.DataFrame({\"model\": [], \"Accuracy\": [], \"Precision\": [], \"Recall\": [], \"F1\": []})"
   ]
  },
  {
   "cell_type": "markdown",
   "id": "5aeace3b-c6fc-4942-a76a-a71a6fc47cf5",
   "metadata": {},
   "source": [
    "## SVM model with Liner Kernel ##"
   ]
  },
  {
   "cell_type": "code",
   "execution_count": 428,
   "id": "28913593-139a-443a-8f8a-1bf77d5e11c1",
   "metadata": {},
   "outputs": [],
   "source": [
    "svm_lin_model = SVC(kernel=\"linear\", probability = True)\n",
    "_ = svm_lin_model.fit(train_X, np.ravel(train_y))"
   ]
  },
  {
   "cell_type": "code",
   "execution_count": 429,
   "id": "43144a2f-57b3-4f04-a6c0-4bf8934ad6d4",
   "metadata": {},
   "outputs": [],
   "source": [
    "model_preds = svm_lin_model.predict(test_X)\n",
    "c_matrix = confusion_matrix(test_y, model_preds)\n",
    "TP = c_matrix[1][1]\n",
    "TN = c_matrix[0][0]\n",
    "FP = c_matrix[0][1]\n",
    "FN = c_matrix[1][0]\n",
    "performance = pd.concat([performance, pd.DataFrame({'model':\"linear svm\", \n",
    "                                                    'Accuracy': [(TP+TN)/(TP+TN+FP+FN)], \n",
    "                                                    'Precision': [TP/(TP+FP)], \n",
    "                                                    'Recall': [TP/(TP+FN)], \n",
    "                                                    'F1': [2*TP/(2*TP+FP+FN)]\n",
    "                                                     }, index=[0])])"
   ]
  },
  {
   "cell_type": "markdown",
   "id": "6d58de19-1c8e-4304-8668-0a902d251286",
   "metadata": {},
   "source": [
    "## SVM model with rbf Kernel ##"
   ]
  },
  {
   "cell_type": "code",
   "execution_count": 430,
   "id": "bab10579-9d01-40cd-b82b-5864dcac9855",
   "metadata": {},
   "outputs": [],
   "source": [
    "svm_rbf_model = SVC(kernel=\"rbf\", C=10, gamma='scale', probability = True)\n",
    "_ = svm_rbf_model.fit(train_X, np.ravel(train_y))"
   ]
  },
  {
   "cell_type": "code",
   "execution_count": 431,
   "id": "05f4890a-4501-4b6e-8c5b-37562ac9e7af",
   "metadata": {},
   "outputs": [],
   "source": [
    "model_preds = svm_rbf_model.predict(test_X)\n",
    "c_matrix = confusion_matrix(test_y, model_preds)\n",
    "TP = c_matrix[1][1]\n",
    "TN = c_matrix[0][0]\n",
    "FP = c_matrix[0][1]\n",
    "FN = c_matrix[1][0]\n",
    "performance = pd.concat([performance, pd.DataFrame({'model':\"rbf svm\", \n",
    "                                                    'Accuracy': [(TP+TN)/(TP+TN+FP+FN)], \n",
    "                                                    'Precision': [TP/(TP+FP)], \n",
    "                                                    'Recall': [TP/(TP+FN)], \n",
    "                                                    'F1': [2*TP/(2*TP+FP+FN)]\n",
    "                                                     }, index=[0])])"
   ]
  },
  {
   "cell_type": "markdown",
   "id": "cc210761-7745-416b-a2e7-5522e74eaad7",
   "metadata": {},
   "source": [
    "## SVM Model with poly kernel ##"
   ]
  },
  {
   "cell_type": "code",
   "execution_count": 432,
   "id": "6e10daf1-23e4-47b3-8e25-ef23706c04ba",
   "metadata": {},
   "outputs": [],
   "source": [
    "svm_poly_model = SVC(kernel=\"poly\", degree=3, coef0=1, C=10, probability = True)\n",
    "_ = svm_poly_model.fit(train_X, np.ravel(train_y))"
   ]
  },
  {
   "cell_type": "code",
   "execution_count": 433,
   "id": "da8a9788-7d80-4449-8969-3e6f86031b8c",
   "metadata": {},
   "outputs": [],
   "source": [
    "model_preds = svm_poly_model.predict(test_X)\n",
    "c_matrix = confusion_matrix(test_y, model_preds)\n",
    "TP = c_matrix[1][1]\n",
    "TN = c_matrix[0][0]\n",
    "FP = c_matrix[0][1]\n",
    "FN = c_matrix[1][0]\n",
    "performance = pd.concat([performance, pd.DataFrame({'model':\"poly svm\", \n",
    "                                                    'Accuracy': [(TP+TN)/(TP+TN+FP+FN)], \n",
    "                                                    'Precision': [TP/(TP+FP)], \n",
    "                                                    'Recall': [TP/(TP+FN)], \n",
    "                                                    'F1': [2*TP/(2*TP+FP+FN)]\n",
    "                                                     }, index=[0])])"
   ]
  },
  {
   "cell_type": "markdown",
   "id": "16449d14-7eb1-4f0e-b034-b83c4339fbb4",
   "metadata": {},
   "source": [
    "## Performance Analysis ##\n",
    "\n",
    "The performance metrices indicate that the SVM model with linear kernel performs best in all measures. We can choose this model as our final model for prediction."
   ]
  },
  {
   "cell_type": "code",
   "execution_count": 434,
   "id": "68514603-b3c6-4f16-9a43-cf15b38bbbf2",
   "metadata": {},
   "outputs": [
    {
     "data": {
      "text/html": [
       "<div>\n",
       "<style scoped>\n",
       "    .dataframe tbody tr th:only-of-type {\n",
       "        vertical-align: middle;\n",
       "    }\n",
       "\n",
       "    .dataframe tbody tr th {\n",
       "        vertical-align: top;\n",
       "    }\n",
       "\n",
       "    .dataframe thead th {\n",
       "        text-align: right;\n",
       "    }\n",
       "</style>\n",
       "<table border=\"1\" class=\"dataframe\">\n",
       "  <thead>\n",
       "    <tr style=\"text-align: right;\">\n",
       "      <th></th>\n",
       "      <th>model</th>\n",
       "      <th>Accuracy</th>\n",
       "      <th>Precision</th>\n",
       "      <th>Recall</th>\n",
       "      <th>F1</th>\n",
       "    </tr>\n",
       "  </thead>\n",
       "  <tbody>\n",
       "    <tr>\n",
       "      <th>0</th>\n",
       "      <td>linear svm</td>\n",
       "      <td>1.000</td>\n",
       "      <td>1.0</td>\n",
       "      <td>1.0</td>\n",
       "      <td>1.000000</td>\n",
       "    </tr>\n",
       "    <tr>\n",
       "      <th>0</th>\n",
       "      <td>rbf svm</td>\n",
       "      <td>0.875</td>\n",
       "      <td>0.8</td>\n",
       "      <td>1.0</td>\n",
       "      <td>0.888889</td>\n",
       "    </tr>\n",
       "    <tr>\n",
       "      <th>0</th>\n",
       "      <td>poly svm</td>\n",
       "      <td>0.750</td>\n",
       "      <td>1.0</td>\n",
       "      <td>0.5</td>\n",
       "      <td>0.666667</td>\n",
       "    </tr>\n",
       "  </tbody>\n",
       "</table>\n",
       "</div>"
      ],
      "text/plain": [
       "        model  Accuracy  Precision  Recall        F1\n",
       "0  linear svm     1.000        1.0     1.0  1.000000\n",
       "0     rbf svm     0.875        0.8     1.0  0.888889\n",
       "0    poly svm     0.750        1.0     0.5  0.666667"
      ]
     },
     "execution_count": 434,
     "metadata": {},
     "output_type": "execute_result"
    }
   ],
   "source": [
    "## 4.0 Summary\n",
    "\n",
    "performance"
   ]
  },
  {
   "cell_type": "markdown",
   "id": "a2aa6520-2f1a-468c-bc8b-1344d198b6a5",
   "metadata": {},
   "source": [
    "## Make a pickle file of the model  ##"
   ]
  },
  {
   "cell_type": "code",
   "execution_count": 435,
   "id": "62fa2329-911f-496c-8e7c-adeda25e3256",
   "metadata": {},
   "outputs": [],
   "source": [
    "import pickle\n",
    "\n",
    "# save model\n",
    "pickle.dump(svm_lin_model, open('./data/lawn_riding_mowers.pkl', \"wb\"))"
   ]
  },
  {
   "cell_type": "code",
   "execution_count": null,
   "id": "f1d48ad8-8296-48a7-b3e7-584f55085488",
   "metadata": {},
   "outputs": [],
   "source": []
  }
 ],
 "metadata": {
  "kernelspec": {
   "display_name": "Python 3 (ipykernel)",
   "language": "python",
   "name": "python3"
  },
  "language_info": {
   "codemirror_mode": {
    "name": "ipython",
    "version": 3
   },
   "file_extension": ".py",
   "mimetype": "text/x-python",
   "name": "python",
   "nbconvert_exporter": "python",
   "pygments_lexer": "ipython3",
   "version": "3.9.12"
  }
 },
 "nbformat": 4,
 "nbformat_minor": 5
}
