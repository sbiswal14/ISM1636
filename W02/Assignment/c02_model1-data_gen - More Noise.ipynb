{
 "cells": [
  {
   "cell_type": "markdown",
   "id": "66d01c8a-f0cd-42af-aff9-8ba0bbd3c47e",
   "metadata": {
    "slideshow": {
     "slide_type": "slide"
    },
    "tags": []
   },
   "source": [
    "# Predictive Modeling Example"
   ]
  },
  {
   "cell_type": "markdown",
   "id": "049ea964-ba9d-46aa-af88-d13550f27638",
   "metadata": {
    "slideshow": {
     "slide_type": "slide"
    },
    "tags": []
   },
   "source": [
    "## Step 1: Import a number of libraries that we expect to use"
   ]
  },
  {
   "cell_type": "code",
   "execution_count": 1,
   "id": "cca96620-674f-43be-9633-3546127c263b",
   "metadata": {
    "slideshow": {
     "slide_type": "fragment"
    },
    "tags": []
   },
   "outputs": [],
   "source": [
    "import matplotlib.pyplot as plt\n",
    "import numpy as np\n",
    "import pandas as pd\n",
    "\n",
    "np.random.seed(1) # set this to ensure the results are repeatable. "
   ]
  },
  {
   "cell_type": "markdown",
   "id": "bcc3ce3b-c9bd-4631-a2ae-c02ebcd2879b",
   "metadata": {
    "slideshow": {
     "slide_type": "subslide"
    },
    "tags": []
   },
   "source": [
    "## Step 2:  Define a hidden linear relationship/model\n",
    "\n",
    "First let's define our relationship (normally, this is hidden, but since we are creating the data, we will need to identify this)"
   ]
  },
  {
   "cell_type": "code",
   "execution_count": 2,
   "id": "73a337be-a2a5-46ab-9cfe-e92239ccc80f",
   "metadata": {
    "slideshow": {
     "slide_type": "fragment"
    },
    "tags": []
   },
   "outputs": [],
   "source": [
    "b1 = 30.5 # slope for x\n",
    "b0 = 20   # y intercept"
   ]
  },
  {
   "cell_type": "markdown",
   "id": "109c2612-b01f-4f95-b2f1-8058ef587cb9",
   "metadata": {},
   "source": [
    "## Step 3: Create input and output data using the model"
   ]
  },
  {
   "cell_type": "markdown",
   "id": "0a1f9324-21c7-4274-be39-739be7a23ef0",
   "metadata": {},
   "source": [
    "Let's set the number of observations that we will synthesize..."
   ]
  },
  {
   "cell_type": "code",
   "execution_count": 3,
   "id": "3297e902-0eb7-4370-a9d6-315105f13be1",
   "metadata": {},
   "outputs": [],
   "source": [
    "sample_size = 1000"
   ]
  },
  {
   "cell_type": "markdown",
   "id": "cff2bfd5-dc57-4e16-91ba-82ebe8173eb8",
   "metadata": {},
   "source": [
    "We need to create a set of X (input) values. We could simply create a linear sequence..."
   ]
  },
  {
   "cell_type": "code",
   "execution_count": 4,
   "id": "3fb8b3a7-bb5c-4b57-984a-f8078fe820c1",
   "metadata": {},
   "outputs": [],
   "source": [
    "# create sample_size number of x values between 0 and 100\n",
    "X = np.linspace(0, 100, sample_size)"
   ]
  },
  {
   "cell_type": "markdown",
   "id": "6a9464a8-d5c8-40f6-aba5-dacdaedde139",
   "metadata": {},
   "source": [
    "OR, to better similate 'real world' data, let's select 1000 "
   ]
  },
  {
   "cell_type": "code",
   "execution_count": 5,
   "id": "8cfdff81-d71e-422d-ad78-676716656a67",
   "metadata": {
    "slideshow": {
     "slide_type": "fragment"
    },
    "tags": []
   },
   "outputs": [],
   "source": [
    "x_mean = 100\n",
    "x_stdev = 10\n",
    "X = np.round(np.random.normal(x_mean, x_stdev, sample_size),2)"
   ]
  },
  {
   "cell_type": "markdown",
   "id": "ac088d37-d2bf-4cb9-82dd-52498c789381",
   "metadata": {},
   "source": [
    "Once we have the X values (input), we can generate y values using our 'hidden' model..."
   ]
  },
  {
   "cell_type": "code",
   "execution_count": 6,
   "id": "d19db905-c954-4fd8-8d7e-0c0fdec12170",
   "metadata": {},
   "outputs": [],
   "source": [
    "y = b0 + b1 * X "
   ]
  },
  {
   "cell_type": "markdown",
   "id": "712473cb-9c8e-44da-8f5f-2fd011c51685",
   "metadata": {},
   "source": [
    "But, this is rather boring data to analyze, because the 'hidden' model is not really hidden at all..."
   ]
  },
  {
   "cell_type": "code",
   "execution_count": 7,
   "id": "44bf74cd-a678-4534-b84a-dd568bf19a86",
   "metadata": {},
   "outputs": [
    {
     "data": {
      "image/png": "[encoded data removed]",
      "text/plain": [
       "<Figure size 432x288 with 1 Axes>"
      ]
     },
     "metadata": {
      "needs_background": "light"
     },
     "output_type": "display_data"
    }
   ],
   "source": [
    "fig = plt.figure()\n",
    "ax = fig.add_subplot()\n",
    "\n",
    "ax.scatter(X, y, color='red')\n",
    "\n",
    "ax.set_xlabel('input')\n",
    "ax.set_ylabel('target')\n",
    "plt.tight_layout()\n",
    "plt.show()"
   ]
  },
  {
   "cell_type": "markdown",
   "id": "b6b39e70-09c6-48e9-bd2d-84336dbcee85",
   "metadata": {},
   "source": [
    "## Step 4: Add some random noise to 'hide' the model"
   ]
  },
  {
   "cell_type": "markdown",
   "id": "612a9e2e-63ed-407d-bac1-82a0aaebf348",
   "metadata": {},
   "source": [
    "Now, let's obscure the model by adding noise to the data by adding errors that are randomly selected from a norma distribution"
   ]
  },
  {
   "cell_type": "code",
   "execution_count": 9,
   "id": "07667953-196d-42d2-808d-24d1d5120fdb",
   "metadata": {},
   "outputs": [],
   "source": [
    "e_mean = 0\n",
    "e_stdev = 150\n",
    "e = np.round(np.random.normal(e_mean, e_stdev, sample_size), 2) # round to two decimal places\n",
    "y = y + e"
   ]
  },
  {
   "cell_type": "markdown",
   "id": "b2d94f93-a2bb-4ccd-b9a5-daec087f8ea7",
   "metadata": {},
   "source": [
    "## Step 5: Explore the resulting synthesized data"
   ]
  },
  {
   "cell_type": "markdown",
   "id": "82e031c0-87a9-4015-938a-0bf1eb51898b",
   "metadata": {
    "slideshow": {
     "slide_type": "fragment"
    },
    "tags": []
   },
   "source": [
    "Now, let's look at a scatter plot of both the X and y data with the noise added in..."
   ]
  },
  {
   "cell_type": "code",
   "execution_count": 10,
   "id": "c792dab9-889d-4eca-9d7f-5d10df52da3c",
   "metadata": {
    "slideshow": {
     "slide_type": "subslide"
    },
    "tags": []
   },
   "outputs": [
    {
     "data": {
      "image/png": "[encoded data removed]",
      "text/plain": [
       "<Figure size 432x288 with 1 Axes>"
      ]
     },
     "metadata": {
      "needs_background": "light"
     },
     "output_type": "display_data"
    }
   ],
   "source": [
    "fig = plt.figure()\n",
    "ax = fig.add_subplot()\n",
    "\n",
    "ax.scatter(X, y, color='red')\n",
    "\n",
    "ax.set_xlabel('input')\n",
    "ax.set_ylabel('target')\n",
    "plt.tight_layout()\n",
    "plt.show()"
   ]
  },
  {
   "cell_type": "markdown",
   "id": "b533d757-2f20-4893-b899-f945216ad4ee",
   "metadata": {},
   "source": [
    "### Step 6: Create a pandas data frame from the data"
   ]
  },
  {
   "cell_type": "markdown",
   "id": "e103183b-7070-4bdf-9259-1332b67cfd8d",
   "metadata": {},
   "source": [
    "Since our goal is to generate data that we can analyze with another notebook (for practice), let's save this data to a csv. \n",
    "\n",
    "First we will create a dataframe with the data we just similated..."
   ]
  },
  {
   "cell_type": "code",
   "execution_count": 11,
   "id": "96ccd040-cf1d-4773-a801-30bcb5348e05",
   "metadata": {},
   "outputs": [
    {
     "data": {
      "text/html": [
       "<div>\n",
       "<style scoped>\n",
       "    .dataframe tbody tr th:only-of-type {\n",
       "        vertical-align: middle;\n",
       "    }\n",
       "\n",
       "    .dataframe tbody tr th {\n",
       "        vertical-align: top;\n",
       "    }\n",
       "\n",
       "    .dataframe thead th {\n",
       "        text-align: right;\n",
       "    }\n",
       "</style>\n",
       "<table border=\"1\" class=\"dataframe\">\n",
       "  <thead>\n",
       "    <tr style=\"text-align: right;\">\n",
       "      <th></th>\n",
       "      <th>input</th>\n",
       "      <th>target</th>\n",
       "    </tr>\n",
       "  </thead>\n",
       "  <tbody>\n",
       "    <tr>\n",
       "      <th>0</th>\n",
       "      <td>116.24</td>\n",
       "      <td>3608.10</td>\n",
       "    </tr>\n",
       "    <tr>\n",
       "      <th>1</th>\n",
       "      <td>93.88</td>\n",
       "      <td>2432.66</td>\n",
       "    </tr>\n",
       "    <tr>\n",
       "      <th>2</th>\n",
       "      <td>94.72</td>\n",
       "      <td>2943.34</td>\n",
       "    </tr>\n",
       "  </tbody>\n",
       "</table>\n",
       "</div>"
      ],
      "text/plain": [
       "    input   target\n",
       "0  116.24  3608.10\n",
       "1   93.88  2432.66\n",
       "2   94.72  2943.34"
      ]
     },
     "execution_count": 11,
     "metadata": {},
     "output_type": "execute_result"
    }
   ],
   "source": [
    "df = pd.DataFrame({'input': X, 'target': y})\n",
    "df.head(3)"
   ]
  },
  {
   "cell_type": "markdown",
   "id": "8854ec86-6d59-43ec-a31d-8b75e4c87abe",
   "metadata": {},
   "source": [
    "## Step 7: Save the data frame contents to a csv"
   ]
  },
  {
   "cell_type": "markdown",
   "id": "b57643b6-1af2-4e03-905d-0c4dfb87534a",
   "metadata": {},
   "source": [
    "Lastly, let's save the data we created to a csv file. This saved data will be used to practice finding hidden relationships in data."
   ]
  },
  {
   "cell_type": "code",
   "execution_count": 12,
   "id": "bedb0d18-e61b-49e3-93ac-c0756abae6f7",
   "metadata": {
    "tags": []
   },
   "outputs": [],
   "source": [
    "df.to_csv('./data/c02_dataset_1_more_noise.csv', index=False)"
   ]
  },
  {
   "cell_type": "code",
   "execution_count": null,
   "id": "3132899f-4a99-4b04-8cab-13745519390f",
   "metadata": {},
   "outputs": [],
   "source": []
  }
 ],
 "metadata": {
  "kernelspec": {
   "display_name": "Python 3 (ipykernel)",
   "language": "python",
   "name": "python3"
  },
  "language_info": {
   "codemirror_mode": {
    "name": "ipython",
    "version": 3
   },
   "file_extension": ".py",
   "mimetype": "text/x-python",
   "name": "python",
   "nbconvert_exporter": "python",
   "pygments_lexer": "ipython3",
   "version": "3.9.12"
  },
  "vscode": {
   "interpreter": {
    "hash": "b056086e24cb5602cbcb82122035cd3d6ee2ccbf5df29c16e348c108b0f83be3"
   }
  }
 },
 "nbformat": 4,
 "nbformat_minor": 5
}
