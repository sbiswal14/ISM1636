{
 "cells": [
  {
   "cell_type": "markdown",
   "id": "66d01c8a-f0cd-42af-aff9-8ba0bbd3c47e",
   "metadata": {
    "slideshow": {
     "slide_type": "slide"
    },
    "tags": []
   },
   "source": [
    "# Predictive Modeling Example"
   ]
  },
  {
   "cell_type": "markdown",
   "id": "049ea964-ba9d-46aa-af88-d13550f27638",
   "metadata": {
    "slideshow": {
     "slide_type": "slide"
    },
    "tags": []
   },
   "source": [
    "## Step 1: Import the libraries we will use in this notebook"
   ]
  },
  {
   "cell_type": "code",
   "execution_count": 1,
   "id": "cca96620-674f-43be-9633-3546127c263b",
   "metadata": {
    "slideshow": {
     "slide_type": "fragment"
    },
    "tags": []
   },
   "outputs": [],
   "source": [
    "import matplotlib.pyplot as plt\n",
    "import numpy as np\n",
    "import pandas as pd\n",
    "from sklearn.linear_model import LinearRegression\n",
    "\n",
    "np.random.seed(1) # set this to ensure the results are repeatable. "
   ]
  },
  {
   "cell_type": "markdown",
   "id": "31b63237-2a6b-40be-a7c9-9fd854b52339",
   "metadata": {},
   "source": [
    "## Step 2: Load the given data that we will model"
   ]
  },
  {
   "cell_type": "code",
   "execution_count": 9,
   "id": "7815e222-9aae-4b39-999e-689dcea5aeb8",
   "metadata": {},
   "outputs": [
    {
     "data": {
      "text/html": [
       "<div>\n",
       "<style scoped>\n",
       "    .dataframe tbody tr th:only-of-type {\n",
       "        vertical-align: middle;\n",
       "    }\n",
       "\n",
       "    .dataframe tbody tr th {\n",
       "        vertical-align: top;\n",
       "    }\n",
       "\n",
       "    .dataframe thead th {\n",
       "        text-align: right;\n",
       "    }\n",
       "</style>\n",
       "<table border=\"1\" class=\"dataframe\">\n",
       "  <thead>\n",
       "    <tr style=\"text-align: right;\">\n",
       "      <th></th>\n",
       "      <th>input</th>\n",
       "      <th>target</th>\n",
       "    </tr>\n",
       "  </thead>\n",
       "  <tbody>\n",
       "    <tr>\n",
       "      <th>0</th>\n",
       "      <td>104.90</td>\n",
       "      <td>3174.720</td>\n",
       "    </tr>\n",
       "    <tr>\n",
       "      <th>1</th>\n",
       "      <td>102.39</td>\n",
       "      <td>2978.925</td>\n",
       "    </tr>\n",
       "    <tr>\n",
       "      <th>2</th>\n",
       "      <td>95.52</td>\n",
       "      <td>2995.800</td>\n",
       "    </tr>\n",
       "  </tbody>\n",
       "</table>\n",
       "</div>"
      ],
      "text/plain": [
       "    input    target\n",
       "0  104.90  3174.720\n",
       "1  102.39  2978.925\n",
       "2   95.52  2995.800"
      ]
     },
     "execution_count": 9,
     "metadata": {},
     "output_type": "execute_result"
    }
   ],
   "source": [
    "df = pd.read_csv('./data/c02_dataset_1.csv')\n",
    "\n",
    "df.head(3)"
   ]
  },
  {
   "cell_type": "markdown",
   "id": "da72a683-7346-4719-a391-df74dc12e636",
   "metadata": {},
   "source": [
    "Seperate out the input m(X) and the target (y)"
   ]
  },
  {
   "cell_type": "code",
   "execution_count": 10,
   "id": "d684c6ea-96f6-49db-9f35-c4588d83033f",
   "metadata": {
    "slideshow": {
     "slide_type": "subslide"
    },
    "tags": []
   },
   "outputs": [],
   "source": [
    "X=df[['input']]\n",
    "y=df[['target']]"
   ]
  },
  {
   "cell_type": "markdown",
   "id": "9659bd78-3ccf-4add-af07-ce79a5a197f1",
   "metadata": {},
   "source": [
    "For educational purposes, let's look at the first five values in X and y (note how X is an array of lists)"
   ]
  },
  {
   "cell_type": "markdown",
   "id": "2251b80d-af86-4eb1-87b3-4852081028c3",
   "metadata": {},
   "source": [
    "## Step 3: Explore the given data\n",
    "\n",
    "Often we will do much more than this, but at least look at things using a scatterplot"
   ]
  },
  {
   "cell_type": "code",
   "execution_count": 11,
   "id": "8ba59a2e-a02a-4ea4-a73a-1ac6ba1d0056",
   "metadata": {},
   "outputs": [
    {
     "data": {
      "image/png": "[encoded data removed]",
      "text/plain": [
       "<Figure size 432x288 with 1 Axes>"
      ]
     },
     "metadata": {
      "needs_background": "light"
     },
     "output_type": "display_data"
    }
   ],
   "source": [
    "fig = plt.figure()\n",
    "ax = fig.add_subplot()\n",
    "\n",
    "ax.scatter(X, y, color='red')\n",
    "\n",
    "ax.set_xlabel('input')\n",
    "ax.set_ylabel('target')\n",
    "plt.tight_layout()\n",
    "plt.show()"
   ]
  },
  {
   "cell_type": "markdown",
   "id": "6545c4b0-4a61-4343-b7cf-db7f746b5d3c",
   "metadata": {},
   "source": [
    "## Step 4: Fit the model\n",
    "\n",
    "Fit the linear regression model to the dataset"
   ]
  },
  {
   "cell_type": "code",
   "execution_count": 12,
   "id": "8f566ef6-b1b2-4091-b9fb-f33c27832c5f",
   "metadata": {},
   "outputs": [],
   "source": [
    "lin_reg=LinearRegression()\n",
    "_ = lin_reg.fit(X,y)\n",
    "\n",
    "# OR, we could combine the two lines above to one as follows...\n",
    "#lin_reg = LinearRegression().fit(X,y)"
   ]
  },
  {
   "cell_type": "markdown",
   "id": "b45e77cb-607a-4ef4-87ae-8fde787ed7ad",
   "metadata": {},
   "source": [
    "## Step 5: Analyze the linear regression model's performance"
   ]
  },
  {
   "cell_type": "markdown",
   "id": "ce57d2bf-91cd-4a8b-9383-621f0b0d1f68",
   "metadata": {},
   "source": [
    "Visualize the linear regression model results"
   ]
  },
  {
   "cell_type": "code",
   "execution_count": 13,
   "id": "847d4c77-85d5-4d8e-a939-6724e34413de",
   "metadata": {},
   "outputs": [
    {
     "data": {
      "image/png": "[encoded data removed]",
      "text/plain": [
       "<Figure size 432x288 with 1 Axes>"
      ]
     },
     "metadata": {
      "needs_background": "light"
     },
     "output_type": "display_data"
    }
   ],
   "source": [
    "fig = plt.figure()\n",
    "ax = fig.add_subplot()\n",
    "\n",
    "ax.scatter(X, y, color='red')\n",
    "ax.scatter(X, lin_reg.predict(X), color='blue')\n",
    "\n",
    "ax.set_title('Linear Regression')\n",
    "ax.set_xlabel('input')\n",
    "ax.set_ylabel('target')\n",
    "plt.tight_layout()\n",
    "plt.show()"
   ]
  },
  {
   "cell_type": "code",
   "execution_count": 14,
   "id": "0fbed7d8",
   "metadata": {},
   "outputs": [],
   "source": [
    "b0 = lin_reg.intercept_[0]\n",
    "b1 = lin_reg.coef_[0][0]\n",
    "r2 = lin_reg.score(X, y)"
   ]
  },
  {
   "cell_type": "markdown",
   "id": "3119300c-f6c4-41f9-87fd-99915f171fdb",
   "metadata": {},
   "source": [
    "... using fstring formatting, we can display these values as follows..."
   ]
  },
  {
   "cell_type": "code",
   "execution_count": 15,
   "id": "2af1b220-0199-40aa-adc3-aecd7a9bb36d",
   "metadata": {},
   "outputs": [
    {
     "name": "stdout",
     "output_type": "stream",
     "text": [
      "Y = 9.67 + 30.55x\n",
      "R^2: 0.837\n"
     ]
    }
   ],
   "source": [
    "print(f\"Y = {b0:.2f} + {b1:.2f}x\")\n",
    "print(f\"R^2: {lin_reg.score(X, y):.3f}\") \n",
    "# for more on fstrings see here...\n",
    "# https://www.freecodecamp.org/news/python-f-strings-tutorial-how-to-use-f-strings-for-string-formatting/"
   ]
  },
  {
   "cell_type": "code",
   "execution_count": null,
   "id": "7a202d79-de44-47a0-b957-5a9a97f77dea",
   "metadata": {},
   "outputs": [],
   "source": []
  }
 ],
 "metadata": {
  "kernelspec": {
   "display_name": "Python 3 (ipykernel)",
   "language": "python",
   "name": "python3"
  },
  "language_info": {
   "codemirror_mode": {
    "name": "ipython",
    "version": 3
   },
   "file_extension": ".py",
   "mimetype": "text/x-python",
   "name": "python",
   "nbconvert_exporter": "python",
   "pygments_lexer": "ipython3",
   "version": "3.9.12"
  },
  "vscode": {
   "interpreter": {
    "hash": "b056086e24cb5602cbcb82122035cd3d6ee2ccbf5df29c16e348c108b0f83be3"
   }
  }
 },
 "nbformat": 4,
 "nbformat_minor": 5
}
