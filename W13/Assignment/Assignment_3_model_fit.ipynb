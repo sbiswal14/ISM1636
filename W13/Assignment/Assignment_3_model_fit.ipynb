{
 "cells": [
  {
   "cell_type": "markdown",
   "metadata": {},
   "source": [
    "# Model fit on Time series data\n",
    "## Subash Chandra Biswal (U77884251)"
   ]
  },
  {
   "cell_type": "markdown",
   "metadata": {},
   "source": [
    "### Data Set Information:\n",
    "\n",
    "Hourly Interstate 94 Westbound traffic volume for MN DoT ATR station 301, roughly midway between Minneapolis and St Paul, MN. Hourly weather features and holidays included for impacts on traffic volume.\n",
    "\n",
    "\n",
    "Attribute Information:\n",
    "\n",
    "- **holiday :** Categorical US National holidays plus regional holiday, Minnesota State Fair\n",
    "- **temp :** Numeric Average temp in kelvin\n",
    "- **rain_1h :** Numeric Amount in mm of rain that occurred in the hour\n",
    "- **snow_1h :** Numeric Amount in mm of snow that occurred in the hour\n",
    "- **clouds_all :** Numeric Percentage of cloud cover\n",
    "- **weather_main :** Categorical Short textual description of the current weather\n",
    "- **weather_description :** Categorical Longer textual description of the current weather\n",
    "- **date_time :** DateTime Hour of the data collected in local CST time\n",
    "- **traffic_volume :** Numeric Hourly I-94 ATR 301 reported westbound traffic volume\n",
    "\n",
    "**Source:** UCI Machine Learning Repository (https://archive.ics.uci.edu/ml/datasets/Metro+Interstate+Traffic+Volume)\n"
   ]
  },
  {
   "cell_type": "code",
   "execution_count": 1,
   "metadata": {},
   "outputs": [],
   "source": [
    "import pandas as pd\n",
    "import numpy as np\n",
    "# Common imports\n",
    "import numpy as np\n",
    "import tensorflow as tf\n",
    "from tensorflow import keras\n",
    "import pandas as pd\n",
    "import matplotlib.pyplot as plt\n",
    "\n",
    "np.random.seed(1)\n",
    "tf.random.set_seed(1)"
   ]
  },
  {
   "cell_type": "markdown",
   "metadata": {},
   "source": [
    "## Load dataset"
   ]
  },
  {
   "cell_type": "code",
   "execution_count": 2,
   "metadata": {},
   "outputs": [
    {
     "data": {
      "text/html": [
       "<div>\n",
       "<style scoped>\n",
       "    .dataframe tbody tr th:only-of-type {\n",
       "        vertical-align: middle;\n",
       "    }\n",
       "\n",
       "    .dataframe tbody tr th {\n",
       "        vertical-align: top;\n",
       "    }\n",
       "\n",
       "    .dataframe thead th {\n",
       "        text-align: right;\n",
       "    }\n",
       "</style>\n",
       "<table border=\"1\" class=\"dataframe\">\n",
       "  <thead>\n",
       "    <tr style=\"text-align: right;\">\n",
       "      <th></th>\n",
       "      <th>temp</th>\n",
       "      <th>rain_1h</th>\n",
       "      <th>snow_1h</th>\n",
       "      <th>clouds_all</th>\n",
       "      <th>traffic_volume</th>\n",
       "    </tr>\n",
       "  </thead>\n",
       "  <tbody>\n",
       "    <tr>\n",
       "      <th>0</th>\n",
       "      <td>288.28</td>\n",
       "      <td>0.0</td>\n",
       "      <td>0.0</td>\n",
       "      <td>40</td>\n",
       "      <td>5545</td>\n",
       "    </tr>\n",
       "    <tr>\n",
       "      <th>1</th>\n",
       "      <td>289.36</td>\n",
       "      <td>0.0</td>\n",
       "      <td>0.0</td>\n",
       "      <td>75</td>\n",
       "      <td>4516</td>\n",
       "    </tr>\n",
       "    <tr>\n",
       "      <th>2</th>\n",
       "      <td>289.58</td>\n",
       "      <td>0.0</td>\n",
       "      <td>0.0</td>\n",
       "      <td>90</td>\n",
       "      <td>4767</td>\n",
       "    </tr>\n",
       "    <tr>\n",
       "      <th>3</th>\n",
       "      <td>290.13</td>\n",
       "      <td>0.0</td>\n",
       "      <td>0.0</td>\n",
       "      <td>90</td>\n",
       "      <td>5026</td>\n",
       "    </tr>\n",
       "    <tr>\n",
       "      <th>4</th>\n",
       "      <td>291.14</td>\n",
       "      <td>0.0</td>\n",
       "      <td>0.0</td>\n",
       "      <td>75</td>\n",
       "      <td>4918</td>\n",
       "    </tr>\n",
       "    <tr>\n",
       "      <th>...</th>\n",
       "      <td>...</td>\n",
       "      <td>...</td>\n",
       "      <td>...</td>\n",
       "      <td>...</td>\n",
       "      <td>...</td>\n",
       "    </tr>\n",
       "    <tr>\n",
       "      <th>48199</th>\n",
       "      <td>283.45</td>\n",
       "      <td>0.0</td>\n",
       "      <td>0.0</td>\n",
       "      <td>75</td>\n",
       "      <td>3543</td>\n",
       "    </tr>\n",
       "    <tr>\n",
       "      <th>48200</th>\n",
       "      <td>282.76</td>\n",
       "      <td>0.0</td>\n",
       "      <td>0.0</td>\n",
       "      <td>90</td>\n",
       "      <td>2781</td>\n",
       "    </tr>\n",
       "    <tr>\n",
       "      <th>48201</th>\n",
       "      <td>282.73</td>\n",
       "      <td>0.0</td>\n",
       "      <td>0.0</td>\n",
       "      <td>90</td>\n",
       "      <td>2159</td>\n",
       "    </tr>\n",
       "    <tr>\n",
       "      <th>48202</th>\n",
       "      <td>282.09</td>\n",
       "      <td>0.0</td>\n",
       "      <td>0.0</td>\n",
       "      <td>90</td>\n",
       "      <td>1450</td>\n",
       "    </tr>\n",
       "    <tr>\n",
       "      <th>48203</th>\n",
       "      <td>282.12</td>\n",
       "      <td>0.0</td>\n",
       "      <td>0.0</td>\n",
       "      <td>90</td>\n",
       "      <td>954</td>\n",
       "    </tr>\n",
       "  </tbody>\n",
       "</table>\n",
       "<p>48204 rows × 5 columns</p>\n",
       "</div>"
      ],
      "text/plain": [
       "         temp  rain_1h  snow_1h  clouds_all  traffic_volume\n",
       "0      288.28      0.0      0.0          40            5545\n",
       "1      289.36      0.0      0.0          75            4516\n",
       "2      289.58      0.0      0.0          90            4767\n",
       "3      290.13      0.0      0.0          90            5026\n",
       "4      291.14      0.0      0.0          75            4918\n",
       "...       ...      ...      ...         ...             ...\n",
       "48199  283.45      0.0      0.0          75            3543\n",
       "48200  282.76      0.0      0.0          90            2781\n",
       "48201  282.73      0.0      0.0          90            2159\n",
       "48202  282.09      0.0      0.0          90            1450\n",
       "48203  282.12      0.0      0.0          90             954\n",
       "\n",
       "[48204 rows x 5 columns]"
      ]
     },
     "execution_count": 2,
     "metadata": {},
     "output_type": "execute_result"
    }
   ],
   "source": [
    "traffic_data = pd.read_csv(\"traffic_data.csv\")\n",
    "traffic_data"
   ]
  },
  {
   "cell_type": "code",
   "execution_count": 3,
   "metadata": {},
   "outputs": [
    {
     "data": {
      "text/plain": [
       "array([[ 288.28,    0.  ,    0.  ,   40.  , 5545.  ],\n",
       "       [ 289.36,    0.  ,    0.  ,   75.  , 4516.  ],\n",
       "       [ 289.58,    0.  ,    0.  ,   90.  , 4767.  ],\n",
       "       ...,\n",
       "       [ 282.73,    0.  ,    0.  ,   90.  , 2159.  ],\n",
       "       [ 282.09,    0.  ,    0.  ,   90.  , 1450.  ],\n",
       "       [ 282.12,    0.  ,    0.  ,   90.  ,  954.  ]])"
      ]
     },
     "execution_count": 3,
     "metadata": {},
     "output_type": "execute_result"
    }
   ],
   "source": [
    "arr2D = traffic_data.to_numpy() # convert the dataframe to a numpy array\n",
    "arr2D"
   ]
  },
  {
   "cell_type": "markdown",
   "metadata": {},
   "source": [
    "The 2D data above is not not our input to the recurrent network - we have seven feaures, but no observations. Observations will be the sequences length number of rows.\n"
   ]
  },
  {
   "cell_type": "code",
   "execution_count": 4,
   "metadata": {},
   "outputs": [],
   "source": [
    "def create_sequences(data, seq_length):\n",
    "    obs = []\n",
    "    print(obs)    \n",
    "    for i in range(len(data)-seq_length-1):\n",
    "        obs.append(data[i:(i+seq_length)+1])\n",
    "    return np.array(obs)"
   ]
  },
  {
   "cell_type": "code",
   "execution_count": 5,
   "metadata": {},
   "outputs": [
    {
     "name": "stdout",
     "output_type": "stream",
     "text": [
      "[]\n"
     ]
    },
    {
     "data": {
      "text/plain": [
       "array([[[2.8828e+02, 0.0000e+00, 0.0000e+00, 4.0000e+01, 5.5450e+03],\n",
       "        [2.8936e+02, 0.0000e+00, 0.0000e+00, 7.5000e+01, 4.5160e+03],\n",
       "        [2.8958e+02, 0.0000e+00, 0.0000e+00, 9.0000e+01, 4.7670e+03],\n",
       "        ...,\n",
       "        [2.9114e+02, 0.0000e+00, 0.0000e+00, 7.5000e+01, 4.9180e+03],\n",
       "        [2.9172e+02, 0.0000e+00, 0.0000e+00, 1.0000e+00, 5.1810e+03],\n",
       "        [2.9317e+02, 0.0000e+00, 0.0000e+00, 1.0000e+00, 5.5840e+03]],\n",
       "\n",
       "       [[2.8936e+02, 0.0000e+00, 0.0000e+00, 7.5000e+01, 4.5160e+03],\n",
       "        [2.8958e+02, 0.0000e+00, 0.0000e+00, 9.0000e+01, 4.7670e+03],\n",
       "        [2.9013e+02, 0.0000e+00, 0.0000e+00, 9.0000e+01, 5.0260e+03],\n",
       "        ...,\n",
       "        [2.9172e+02, 0.0000e+00, 0.0000e+00, 1.0000e+00, 5.1810e+03],\n",
       "        [2.9317e+02, 0.0000e+00, 0.0000e+00, 1.0000e+00, 5.5840e+03],\n",
       "        [2.9386e+02, 0.0000e+00, 0.0000e+00, 1.0000e+00, 6.0150e+03]],\n",
       "\n",
       "       [[2.8958e+02, 0.0000e+00, 0.0000e+00, 9.0000e+01, 4.7670e+03],\n",
       "        [2.9013e+02, 0.0000e+00, 0.0000e+00, 9.0000e+01, 5.0260e+03],\n",
       "        [2.9114e+02, 0.0000e+00, 0.0000e+00, 7.5000e+01, 4.9180e+03],\n",
       "        ...,\n",
       "        [2.9317e+02, 0.0000e+00, 0.0000e+00, 1.0000e+00, 5.5840e+03],\n",
       "        [2.9386e+02, 0.0000e+00, 0.0000e+00, 1.0000e+00, 6.0150e+03],\n",
       "        [2.9414e+02, 0.0000e+00, 0.0000e+00, 2.0000e+01, 5.7910e+03]],\n",
       "\n",
       "       ...,\n",
       "\n",
       "       [[2.8384e+02, 0.0000e+00, 0.0000e+00, 7.5000e+01, 4.3020e+03],\n",
       "        [2.8384e+02, 0.0000e+00, 0.0000e+00, 7.5000e+01, 4.3020e+03],\n",
       "        [2.8438e+02, 0.0000e+00, 0.0000e+00, 7.5000e+01, 4.2830e+03],\n",
       "        ...,\n",
       "        [2.8420e+02, 2.5000e-01, 0.0000e+00, 7.5000e+01, 3.9470e+03],\n",
       "        [2.8345e+02, 0.0000e+00, 0.0000e+00, 7.5000e+01, 3.5430e+03],\n",
       "        [2.8276e+02, 0.0000e+00, 0.0000e+00, 9.0000e+01, 2.7810e+03]],\n",
       "\n",
       "       [[2.8384e+02, 0.0000e+00, 0.0000e+00, 7.5000e+01, 4.3020e+03],\n",
       "        [2.8438e+02, 0.0000e+00, 0.0000e+00, 7.5000e+01, 4.2830e+03],\n",
       "        [2.8479e+02, 0.0000e+00, 0.0000e+00, 7.5000e+01, 4.1320e+03],\n",
       "        ...,\n",
       "        [2.8345e+02, 0.0000e+00, 0.0000e+00, 7.5000e+01, 3.5430e+03],\n",
       "        [2.8276e+02, 0.0000e+00, 0.0000e+00, 9.0000e+01, 2.7810e+03],\n",
       "        [2.8273e+02, 0.0000e+00, 0.0000e+00, 9.0000e+01, 2.1590e+03]],\n",
       "\n",
       "       [[2.8438e+02, 0.0000e+00, 0.0000e+00, 7.5000e+01, 4.2830e+03],\n",
       "        [2.8479e+02, 0.0000e+00, 0.0000e+00, 7.5000e+01, 4.1320e+03],\n",
       "        [2.8420e+02, 2.5000e-01, 0.0000e+00, 7.5000e+01, 3.9470e+03],\n",
       "        ...,\n",
       "        [2.8276e+02, 0.0000e+00, 0.0000e+00, 9.0000e+01, 2.7810e+03],\n",
       "        [2.8273e+02, 0.0000e+00, 0.0000e+00, 9.0000e+01, 2.1590e+03],\n",
       "        [2.8209e+02, 0.0000e+00, 0.0000e+00, 9.0000e+01, 1.4500e+03]]])"
      ]
     },
     "execution_count": 5,
     "metadata": {},
     "output_type": "execute_result"
    }
   ],
   "source": [
    "RNN_input = create_sequences(arr2D, 6)\n",
    "RNN_input"
   ]
  },
  {
   "cell_type": "code",
   "execution_count": 6,
   "metadata": {},
   "outputs": [
    {
     "data": {
      "text/plain": [
       "(48197, 7, 5)"
      ]
     },
     "execution_count": 6,
     "metadata": {},
     "output_type": "execute_result"
    }
   ],
   "source": [
    "RNN_input.shape"
   ]
  },
  {
   "cell_type": "code",
   "execution_count": 7,
   "metadata": {},
   "outputs": [
    {
     "data": {
      "text/plain": [
       "array([[2.8438e+02, 0.0000e+00, 0.0000e+00, 7.5000e+01, 4.2830e+03],\n",
       "       [2.8479e+02, 0.0000e+00, 0.0000e+00, 7.5000e+01, 4.1320e+03],\n",
       "       [2.8420e+02, 2.5000e-01, 0.0000e+00, 7.5000e+01, 3.9470e+03],\n",
       "       [2.8345e+02, 0.0000e+00, 0.0000e+00, 7.5000e+01, 3.5430e+03],\n",
       "       [2.8276e+02, 0.0000e+00, 0.0000e+00, 9.0000e+01, 2.7810e+03],\n",
       "       [2.8273e+02, 0.0000e+00, 0.0000e+00, 9.0000e+01, 2.1590e+03],\n",
       "       [2.8209e+02, 0.0000e+00, 0.0000e+00, 9.0000e+01, 1.4500e+03]])"
      ]
     },
     "execution_count": 7,
     "metadata": {},
     "output_type": "execute_result"
    }
   ],
   "source": [
    "RNN_input[-1]"
   ]
  },
  {
   "cell_type": "code",
   "execution_count": 8,
   "metadata": {},
   "outputs": [
    {
     "data": {
      "text/plain": [
       "array([ 289.36,    0.  ,    0.  ,   75.  , 4516.  ])"
      ]
     },
     "execution_count": 8,
     "metadata": {},
     "output_type": "execute_result"
    }
   ],
   "source": [
    "arr2D[1]"
   ]
  },
  {
   "cell_type": "markdown",
   "metadata": {},
   "source": [
    "Review the data we have created above.  We have 48204 'observations', each with 6 time steps and 5 features (temp, rain_1h, snow_1h, clouds_all, and traffic_volume). The last row of each observation is the target value we want to predict. We only need the traffic value from the last row of each observation (the other values are not needed - because if you're trying to predict tomorrow's traffic volume, you don't have any measures from tomorrow, because it's the future :) )."
   ]
  },
  {
   "cell_type": "markdown",
   "metadata": {},
   "source": [
    "Let's now extract our target variable. In this case, we want to predict the next day's traffic volume, so we will extract the last traffic volume from each sequence (observation)."
   ]
  },
  {
   "cell_type": "code",
   "execution_count": 9,
   "metadata": {},
   "outputs": [
    {
     "data": {
      "text/plain": [
       "array([5584., 6015., 5791., ..., 2781., 2159., 1450.])"
      ]
     },
     "execution_count": 9,
     "metadata": {},
     "output_type": "execute_result"
    }
   ],
   "source": [
    "y = RNN_input[:,-1,-1] # the 3 is the index of the column, and the 0 is the index of the row\n",
    "y"
   ]
  },
  {
   "cell_type": "code",
   "execution_count": 10,
   "metadata": {},
   "outputs": [
    {
     "data": {
      "text/plain": [
       "array([[[2.8828e+02, 0.0000e+00, 0.0000e+00, 4.0000e+01, 5.5450e+03],\n",
       "        [2.8936e+02, 0.0000e+00, 0.0000e+00, 7.5000e+01, 4.5160e+03],\n",
       "        [2.8958e+02, 0.0000e+00, 0.0000e+00, 9.0000e+01, 4.7670e+03],\n",
       "        [2.9013e+02, 0.0000e+00, 0.0000e+00, 9.0000e+01, 5.0260e+03],\n",
       "        [2.9114e+02, 0.0000e+00, 0.0000e+00, 7.5000e+01, 4.9180e+03],\n",
       "        [2.9172e+02, 0.0000e+00, 0.0000e+00, 1.0000e+00, 5.1810e+03]],\n",
       "\n",
       "       [[2.8936e+02, 0.0000e+00, 0.0000e+00, 7.5000e+01, 4.5160e+03],\n",
       "        [2.8958e+02, 0.0000e+00, 0.0000e+00, 9.0000e+01, 4.7670e+03],\n",
       "        [2.9013e+02, 0.0000e+00, 0.0000e+00, 9.0000e+01, 5.0260e+03],\n",
       "        [2.9114e+02, 0.0000e+00, 0.0000e+00, 7.5000e+01, 4.9180e+03],\n",
       "        [2.9172e+02, 0.0000e+00, 0.0000e+00, 1.0000e+00, 5.1810e+03],\n",
       "        [2.9317e+02, 0.0000e+00, 0.0000e+00, 1.0000e+00, 5.5840e+03]],\n",
       "\n",
       "       [[2.8958e+02, 0.0000e+00, 0.0000e+00, 9.0000e+01, 4.7670e+03],\n",
       "        [2.9013e+02, 0.0000e+00, 0.0000e+00, 9.0000e+01, 5.0260e+03],\n",
       "        [2.9114e+02, 0.0000e+00, 0.0000e+00, 7.5000e+01, 4.9180e+03],\n",
       "        [2.9172e+02, 0.0000e+00, 0.0000e+00, 1.0000e+00, 5.1810e+03],\n",
       "        [2.9317e+02, 0.0000e+00, 0.0000e+00, 1.0000e+00, 5.5840e+03],\n",
       "        [2.9386e+02, 0.0000e+00, 0.0000e+00, 1.0000e+00, 6.0150e+03]],\n",
       "\n",
       "       ...,\n",
       "\n",
       "       [[2.8384e+02, 0.0000e+00, 0.0000e+00, 7.5000e+01, 4.3020e+03],\n",
       "        [2.8384e+02, 0.0000e+00, 0.0000e+00, 7.5000e+01, 4.3020e+03],\n",
       "        [2.8438e+02, 0.0000e+00, 0.0000e+00, 7.5000e+01, 4.2830e+03],\n",
       "        [2.8479e+02, 0.0000e+00, 0.0000e+00, 7.5000e+01, 4.1320e+03],\n",
       "        [2.8420e+02, 2.5000e-01, 0.0000e+00, 7.5000e+01, 3.9470e+03],\n",
       "        [2.8345e+02, 0.0000e+00, 0.0000e+00, 7.5000e+01, 3.5430e+03]],\n",
       "\n",
       "       [[2.8384e+02, 0.0000e+00, 0.0000e+00, 7.5000e+01, 4.3020e+03],\n",
       "        [2.8438e+02, 0.0000e+00, 0.0000e+00, 7.5000e+01, 4.2830e+03],\n",
       "        [2.8479e+02, 0.0000e+00, 0.0000e+00, 7.5000e+01, 4.1320e+03],\n",
       "        [2.8420e+02, 2.5000e-01, 0.0000e+00, 7.5000e+01, 3.9470e+03],\n",
       "        [2.8345e+02, 0.0000e+00, 0.0000e+00, 7.5000e+01, 3.5430e+03],\n",
       "        [2.8276e+02, 0.0000e+00, 0.0000e+00, 9.0000e+01, 2.7810e+03]],\n",
       "\n",
       "       [[2.8438e+02, 0.0000e+00, 0.0000e+00, 7.5000e+01, 4.2830e+03],\n",
       "        [2.8479e+02, 0.0000e+00, 0.0000e+00, 7.5000e+01, 4.1320e+03],\n",
       "        [2.8420e+02, 2.5000e-01, 0.0000e+00, 7.5000e+01, 3.9470e+03],\n",
       "        [2.8345e+02, 0.0000e+00, 0.0000e+00, 7.5000e+01, 3.5430e+03],\n",
       "        [2.8276e+02, 0.0000e+00, 0.0000e+00, 9.0000e+01, 2.7810e+03],\n",
       "        [2.8273e+02, 0.0000e+00, 0.0000e+00, 9.0000e+01, 2.1590e+03]]])"
      ]
     },
     "execution_count": 10,
     "metadata": {},
     "output_type": "execute_result"
    }
   ],
   "source": [
    "X = RNN_input[:,0:6,0:5] # the 3 is the index of the column, and the 0 is the index of the row\n",
    "X"
   ]
  },
  {
   "cell_type": "code",
   "execution_count": 11,
   "metadata": {},
   "outputs": [
    {
     "name": "stdout",
     "output_type": "stream",
     "text": [
      "(48197, 6, 5)\n",
      "(48197,)\n"
     ]
    }
   ],
   "source": [
    "print(X.shape)\n",
    "print(y.shape)"
   ]
  },
  {
   "cell_type": "markdown",
   "metadata": {},
   "source": [
    "### Create dataframe to save the results"
   ]
  },
  {
   "cell_type": "code",
   "execution_count": 12,
   "metadata": {},
   "outputs": [],
   "source": [
    "df_results = pd.DataFrame({'model': [], 'time': [], 'error': []})"
   ]
  },
  {
   "cell_type": "markdown",
   "metadata": {},
   "source": [
    "## Fit the data to a Recurrent neural network"
   ]
  },
  {
   "cell_type": "code",
   "execution_count": 13,
   "metadata": {},
   "outputs": [],
   "source": [
    "X_train = X[:int(len(X)*0.8)]\n",
    "X_test = X[int(len(X)*0.8):]\n",
    "y_train = y[:int(len(y)*0.8)]\n",
    "y_test = y[int(len(y)*0.8):]\n",
    "X_train = X_train.astype('float32')\n",
    "X_test = X_test.astype('float32')\n",
    "y_train = y_train.astype('float32')\n",
    "y_test = y_test.astype('float32')"
   ]
  },
  {
   "cell_type": "code",
   "execution_count": 14,
   "metadata": {},
   "outputs": [
    {
     "data": {
      "text/plain": [
       "38557"
      ]
     },
     "execution_count": 14,
     "metadata": {},
     "output_type": "execute_result"
    }
   ],
   "source": [
    "int(len(X)*0.8)"
   ]
  },
  {
   "cell_type": "code",
   "execution_count": 15,
   "metadata": {},
   "outputs": [
    {
     "data": {
      "text/plain": [
       "array([[5584.],\n",
       "       [6015.],\n",
       "       [5791.],\n",
       "       ...,\n",
       "       [3045.],\n",
       "       [3045.],\n",
       "       [2704.]], dtype=float32)"
      ]
     },
     "execution_count": 15,
     "metadata": {},
     "output_type": "execute_result"
    }
   ],
   "source": [
    "y_train = y_train.reshape(-1,1)\n",
    "y_train"
   ]
  },
  {
   "cell_type": "code",
   "execution_count": 16,
   "metadata": {},
   "outputs": [
    {
     "data": {
      "text/plain": [
       "array([[2704.],\n",
       "       [2704.],\n",
       "       [2204.],\n",
       "       ...,\n",
       "       [2781.],\n",
       "       [2159.],\n",
       "       [1450.]], dtype=float32)"
      ]
     },
     "execution_count": 16,
     "metadata": {},
     "output_type": "execute_result"
    }
   ],
   "source": [
    "y_test = y_test.reshape(-1,1)\n",
    "y_test"
   ]
  },
  {
   "cell_type": "code",
   "execution_count": 17,
   "metadata": {},
   "outputs": [
    {
     "name": "stdout",
     "output_type": "stream",
     "text": [
      "(38557, 6, 5)\n",
      "(9640, 6, 5)\n",
      "(38557, 1)\n",
      "(9640, 1)\n"
     ]
    }
   ],
   "source": [
    "print(X_train.shape)\n",
    "print(X_test.shape)\n",
    "print(y_train.shape)\n",
    "print(y_test.shape)"
   ]
  },
  {
   "cell_type": "code",
   "execution_count": 18,
   "metadata": {},
   "outputs": [
    {
     "data": {
      "text/plain": [
       "array([[[2.8828e+02, 0.0000e+00, 0.0000e+00, 4.0000e+01, 5.5450e+03],\n",
       "        [2.8936e+02, 0.0000e+00, 0.0000e+00, 7.5000e+01, 4.5160e+03],\n",
       "        [2.8958e+02, 0.0000e+00, 0.0000e+00, 9.0000e+01, 4.7670e+03],\n",
       "        [2.9013e+02, 0.0000e+00, 0.0000e+00, 9.0000e+01, 5.0260e+03],\n",
       "        [2.9114e+02, 0.0000e+00, 0.0000e+00, 7.5000e+01, 4.9180e+03],\n",
       "        [2.9172e+02, 0.0000e+00, 0.0000e+00, 1.0000e+00, 5.1810e+03]],\n",
       "\n",
       "       [[2.8936e+02, 0.0000e+00, 0.0000e+00, 7.5000e+01, 4.5160e+03],\n",
       "        [2.8958e+02, 0.0000e+00, 0.0000e+00, 9.0000e+01, 4.7670e+03],\n",
       "        [2.9013e+02, 0.0000e+00, 0.0000e+00, 9.0000e+01, 5.0260e+03],\n",
       "        [2.9114e+02, 0.0000e+00, 0.0000e+00, 7.5000e+01, 4.9180e+03],\n",
       "        [2.9172e+02, 0.0000e+00, 0.0000e+00, 1.0000e+00, 5.1810e+03],\n",
       "        [2.9317e+02, 0.0000e+00, 0.0000e+00, 1.0000e+00, 5.5840e+03]],\n",
       "\n",
       "       [[2.8958e+02, 0.0000e+00, 0.0000e+00, 9.0000e+01, 4.7670e+03],\n",
       "        [2.9013e+02, 0.0000e+00, 0.0000e+00, 9.0000e+01, 5.0260e+03],\n",
       "        [2.9114e+02, 0.0000e+00, 0.0000e+00, 7.5000e+01, 4.9180e+03],\n",
       "        [2.9172e+02, 0.0000e+00, 0.0000e+00, 1.0000e+00, 5.1810e+03],\n",
       "        [2.9317e+02, 0.0000e+00, 0.0000e+00, 1.0000e+00, 5.5840e+03],\n",
       "        [2.9386e+02, 0.0000e+00, 0.0000e+00, 1.0000e+00, 6.0150e+03]],\n",
       "\n",
       "       ...,\n",
       "\n",
       "       [[2.7415e+02, 0.0000e+00, 0.0000e+00, 9.0000e+01, 5.8580e+03],\n",
       "        [2.7435e+02, 0.0000e+00, 0.0000e+00, 9.0000e+01, 4.2970e+03],\n",
       "        [2.7435e+02, 0.0000e+00, 0.0000e+00, 9.0000e+01, 4.2970e+03],\n",
       "        [2.7435e+02, 0.0000e+00, 0.0000e+00, 9.0000e+01, 4.2970e+03],\n",
       "        [2.7435e+02, 0.0000e+00, 0.0000e+00, 9.0000e+01, 4.2970e+03],\n",
       "        [2.7462e+02, 0.0000e+00, 0.0000e+00, 9.0000e+01, 3.0450e+03]],\n",
       "\n",
       "       [[2.7435e+02, 0.0000e+00, 0.0000e+00, 9.0000e+01, 4.2970e+03],\n",
       "        [2.7435e+02, 0.0000e+00, 0.0000e+00, 9.0000e+01, 4.2970e+03],\n",
       "        [2.7435e+02, 0.0000e+00, 0.0000e+00, 9.0000e+01, 4.2970e+03],\n",
       "        [2.7435e+02, 0.0000e+00, 0.0000e+00, 9.0000e+01, 4.2970e+03],\n",
       "        [2.7462e+02, 0.0000e+00, 0.0000e+00, 9.0000e+01, 3.0450e+03],\n",
       "        [2.7462e+02, 0.0000e+00, 0.0000e+00, 9.0000e+01, 3.0450e+03]],\n",
       "\n",
       "       [[2.7435e+02, 0.0000e+00, 0.0000e+00, 9.0000e+01, 4.2970e+03],\n",
       "        [2.7435e+02, 0.0000e+00, 0.0000e+00, 9.0000e+01, 4.2970e+03],\n",
       "        [2.7435e+02, 0.0000e+00, 0.0000e+00, 9.0000e+01, 4.2970e+03],\n",
       "        [2.7462e+02, 0.0000e+00, 0.0000e+00, 9.0000e+01, 3.0450e+03],\n",
       "        [2.7462e+02, 0.0000e+00, 0.0000e+00, 9.0000e+01, 3.0450e+03],\n",
       "        [2.7462e+02, 0.0000e+00, 0.0000e+00, 9.0000e+01, 3.0450e+03]]],\n",
       "      dtype=float32)"
      ]
     },
     "execution_count": 18,
     "metadata": {},
     "output_type": "execute_result"
    }
   ],
   "source": [
    "X_train"
   ]
  },
  {
   "cell_type": "markdown",
   "metadata": {},
   "source": [
    "Now, we need to split out data into train and test and normalize the data."
   ]
  },
  {
   "cell_type": "markdown",
   "metadata": {},
   "source": [
    "We are now ready to fit the data to a recurrent neural network.  We will use LSTM and GRU for this dataset.  We will use the mean squared error loss function and the adam optimizer. Our input consists of 38557 observations, each with 6 time steps and 5 features.  Our target is the traffic volume for the last time step of each observation."
   ]
  },
  {
   "cell_type": "markdown",
   "metadata": {},
   "source": [
    "# LSTM with one layer"
   ]
  },
  {
   "cell_type": "code",
   "execution_count": 22,
   "metadata": {},
   "outputs": [],
   "source": [
    "from keras import Sequential\n",
    "from keras.layers import Dense\n",
    "from keras.layers import LSTM\n",
    "n_steps = 6\n",
    "n_inputs = 5\n",
    "\n",
    "lstm_model = Sequential()\n",
    "lstm_model.add(LSTM(32, input_shape=(n_steps, n_inputs)))\n",
    "lstm_model.add(Dense(1))\n",
    "lstm_model.compile(loss='mean_squared_error', optimizer='adam')"
   ]
  },
  {
   "cell_type": "code",
   "execution_count": 23,
   "metadata": {},
   "outputs": [
    {
     "name": "stdout",
     "output_type": "stream",
     "text": [
      "Epoch 1/20\n",
      "9640/9640 [==============================] - 97s 10ms/step - loss: 14114177.0000\n",
      "Epoch 2/20\n",
      "9640/9640 [==============================] - 89s 9ms/step - loss: 13191055.0000\n",
      "Epoch 3/20\n",
      "9640/9640 [==============================] - 87s 9ms/step - loss: 12313330.0000\n",
      "Epoch 4/20\n",
      "9640/9640 [==============================] - 89s 9ms/step - loss: 11483977.0000\n",
      "Epoch 5/20\n",
      "9640/9640 [==============================] - 89s 9ms/step - loss: 10699431.0000\n",
      "Epoch 6/20\n",
      "9640/9640 [==============================] - 100s 10ms/step - loss: 9954467.0000\n",
      "Epoch 7/20\n",
      "9640/9640 [==============================] - 102s 11ms/step - loss: 9246014.0000\n",
      "Epoch 8/20\n",
      "9640/9640 [==============================] - 102s 11ms/step - loss: 8568731.0000\n",
      "Epoch 9/20\n",
      "9640/9640 [==============================] - 84s 9ms/step - loss: 7891817.0000\n",
      "Epoch 10/20\n",
      "9640/9640 [==============================] - 87s 9ms/step - loss: 7243341.0000\n",
      "Epoch 11/20\n",
      "9640/9640 [==============================] - 89s 9ms/step - loss: 6637675.0000\n",
      "Epoch 12/20\n",
      "9640/9640 [==============================] - 88s 9ms/step - loss: 6072448.5000\n",
      "Epoch 13/20\n",
      "9640/9640 [==============================] - 88s 9ms/step - loss: 5541808.0000\n",
      "Epoch 14/20\n",
      "9640/9640 [==============================] - 88s 9ms/step - loss: 5054429.5000\n",
      "Epoch 15/20\n",
      "9640/9640 [==============================] - 88s 9ms/step - loss: 4603989.0000\n",
      "Epoch 16/20\n",
      "9640/9640 [==============================] - 90s 9ms/step - loss: 4189284.7500\n",
      "Epoch 17/20\n",
      "9640/9640 [==============================] - 91s 9ms/step - loss: 3813819.2500\n",
      "Epoch 18/20\n",
      "9640/9640 [==============================] - 91s 9ms/step - loss: 3472529.0000\n",
      "Epoch 19/20\n",
      "9640/9640 [==============================] - 91s 9ms/step - loss: 3163588.2500\n",
      "Epoch 20/20\n",
      "9640/9640 [==============================] - 92s 10ms/step - loss: 2883518.2500\n"
     ]
    }
   ],
   "source": [
    "import time\n",
    "start_time = time.time()\n",
    "\n",
    "lstm_model.fit(X_train, y_train, epochs=20, batch_size=4, verbose=1)\n",
    "\n",
    "end_time = time.time()"
   ]
  },
  {
   "cell_type": "code",
   "execution_count": 24,
   "metadata": {},
   "outputs": [
    {
     "name": "stdout",
     "output_type": "stream",
     "text": [
      "302/302 [==============================] - 3s 6ms/step\n"
     ]
    },
    {
     "data": {
      "text/plain": [
       "array([[2464.113 ],\n",
       "       [2653.8755],\n",
       "       [2542.7827],\n",
       "       ...,\n",
       "       [2987.7666],\n",
       "       [2464.195 ],\n",
       "       [2329.617 ]], dtype=float32)"
      ]
     },
     "execution_count": 24,
     "metadata": {},
     "output_type": "execute_result"
    }
   ],
   "source": [
    "y_pred = lstm_model.predict(X_test)\n",
    "\n",
    "y_pred"
   ]
  },
  {
   "cell_type": "code",
   "execution_count": 25,
   "metadata": {},
   "outputs": [
    {
     "data": {
      "text/html": [
       "<div>\n",
       "<style scoped>\n",
       "    .dataframe tbody tr th:only-of-type {\n",
       "        vertical-align: middle;\n",
       "    }\n",
       "\n",
       "    .dataframe tbody tr th {\n",
       "        vertical-align: top;\n",
       "    }\n",
       "\n",
       "    .dataframe thead th {\n",
       "        text-align: right;\n",
       "    }\n",
       "</style>\n",
       "<table border=\"1\" class=\"dataframe\">\n",
       "  <thead>\n",
       "    <tr style=\"text-align: right;\">\n",
       "      <th></th>\n",
       "      <th>actual</th>\n",
       "      <th>predicted</th>\n",
       "      <th>residual</th>\n",
       "    </tr>\n",
       "  </thead>\n",
       "  <tbody>\n",
       "    <tr>\n",
       "      <th>0</th>\n",
       "      <td>2704.0</td>\n",
       "      <td>2464.113037</td>\n",
       "      <td>239.886963</td>\n",
       "    </tr>\n",
       "    <tr>\n",
       "      <th>1</th>\n",
       "      <td>2704.0</td>\n",
       "      <td>2653.875488</td>\n",
       "      <td>50.124512</td>\n",
       "    </tr>\n",
       "    <tr>\n",
       "      <th>2</th>\n",
       "      <td>2204.0</td>\n",
       "      <td>2542.782715</td>\n",
       "      <td>-338.782715</td>\n",
       "    </tr>\n",
       "    <tr>\n",
       "      <th>3</th>\n",
       "      <td>2204.0</td>\n",
       "      <td>2334.047852</td>\n",
       "      <td>-130.047852</td>\n",
       "    </tr>\n",
       "    <tr>\n",
       "      <th>4</th>\n",
       "      <td>1713.0</td>\n",
       "      <td>2447.326660</td>\n",
       "      <td>-734.326660</td>\n",
       "    </tr>\n",
       "    <tr>\n",
       "      <th>...</th>\n",
       "      <td>...</td>\n",
       "      <td>...</td>\n",
       "      <td>...</td>\n",
       "    </tr>\n",
       "    <tr>\n",
       "      <th>9635</th>\n",
       "      <td>3947.0</td>\n",
       "      <td>2987.766602</td>\n",
       "      <td>959.233398</td>\n",
       "    </tr>\n",
       "    <tr>\n",
       "      <th>9636</th>\n",
       "      <td>3543.0</td>\n",
       "      <td>2987.766602</td>\n",
       "      <td>555.233398</td>\n",
       "    </tr>\n",
       "    <tr>\n",
       "      <th>9637</th>\n",
       "      <td>2781.0</td>\n",
       "      <td>2987.766602</td>\n",
       "      <td>-206.766602</td>\n",
       "    </tr>\n",
       "    <tr>\n",
       "      <th>9638</th>\n",
       "      <td>2159.0</td>\n",
       "      <td>2464.195068</td>\n",
       "      <td>-305.195068</td>\n",
       "    </tr>\n",
       "    <tr>\n",
       "      <th>9639</th>\n",
       "      <td>1450.0</td>\n",
       "      <td>2329.616943</td>\n",
       "      <td>-879.616943</td>\n",
       "    </tr>\n",
       "  </tbody>\n",
       "</table>\n",
       "<p>9640 rows × 3 columns</p>\n",
       "</div>"
      ],
      "text/plain": [
       "      actual    predicted    residual\n",
       "0     2704.0  2464.113037  239.886963\n",
       "1     2704.0  2653.875488   50.124512\n",
       "2     2204.0  2542.782715 -338.782715\n",
       "3     2204.0  2334.047852 -130.047852\n",
       "4     1713.0  2447.326660 -734.326660\n",
       "...      ...          ...         ...\n",
       "9635  3947.0  2987.766602  959.233398\n",
       "9636  3543.0  2987.766602  555.233398\n",
       "9637  2781.0  2987.766602 -206.766602\n",
       "9638  2159.0  2464.195068 -305.195068\n",
       "9639  1450.0  2329.616943 -879.616943\n",
       "\n",
       "[9640 rows x 3 columns]"
      ]
     },
     "execution_count": 25,
     "metadata": {},
     "output_type": "execute_result"
    }
   ],
   "source": [
    "results = pd.DataFrame()\n",
    "\n",
    "results['actual'] = y_test.flatten()\n",
    "results['predicted'] = y_pred.flatten()\n",
    "results['residual'] = results['actual'] - results['predicted']\n",
    "\n",
    "results"
   ]
  },
  {
   "cell_type": "code",
   "execution_count": 26,
   "metadata": {},
   "outputs": [
    {
     "data": {
      "image/png": "[encoded data removed]",
      "text/plain": [
       "<Figure size 640x480 with 1 Axes>"
      ]
     },
     "metadata": {},
     "output_type": "display_data"
    }
   ],
   "source": [
    "from matplotlib import pyplot as plt\n",
    "\n",
    "plt.plot(results['actual'], label = 'actual')\n",
    "plt.plot(results['predicted'], label = 'predicted')\n",
    "plt.plot(results['residual'], label = 'residual')\n",
    "\n",
    "plt.legend()\n",
    "\n",
    "plt.show()"
   ]
  },
  {
   "cell_type": "code",
   "execution_count": 27,
   "metadata": {},
   "outputs": [
    {
     "data": {
      "text/plain": [
       "1623.61225358766"
      ]
     },
     "execution_count": 27,
     "metadata": {},
     "output_type": "execute_result"
    }
   ],
   "source": [
    "from sklearn.metrics import mean_squared_error\n",
    "me=mean_squared_error(y_test, y_pred)**0.5\n",
    "me"
   ]
  },
  {
   "cell_type": "code",
   "execution_count": 28,
   "metadata": {},
   "outputs": [],
   "source": [
    "from sklearn.metrics import accuracy_score, precision_score, recall_score, f1_score\n",
    "\n",
    "df_result = pd.DataFrame(\n",
    "    {\n",
    "        'model': ['LSTM'], \n",
    "        'time': [end_time - start_time],\n",
    "        'error': [me]\n",
    "    }\n",
    ")\n",
    "\n",
    "df_results = pd.concat([df_results, df_result], ignore_index=True, axis=0)"
   ]
  },
  {
   "cell_type": "markdown",
   "metadata": {},
   "source": [
    "# LSTM with more layers"
   ]
  },
  {
   "cell_type": "code",
   "execution_count": 29,
   "metadata": {},
   "outputs": [],
   "source": [
    "n_steps = 6\n",
    "n_inputs = 5\n",
    "\n",
    "dlstm_model = Sequential()\n",
    "dlstm_model.add(LSTM(32, return_sequences=True, input_shape=(n_steps, n_inputs)))\n",
    "dlstm_model.add(LSTM(32, return_sequences=True))\n",
    "dlstm_model.add(LSTM(32))\n",
    "dlstm_model.add(Dense(1))\n",
    "dlstm_model.compile(loss='mean_squared_error', optimizer='adam')\n"
   ]
  },
  {
   "cell_type": "code",
   "execution_count": 30,
   "metadata": {},
   "outputs": [
    {
     "name": "stdout",
     "output_type": "stream",
     "text": [
      "Model: \"sequential_1\"\n",
      "_________________________________________________________________\n",
      " Layer (type)                Output Shape              Param #   \n",
      "=================================================================\n",
      " lstm_1 (LSTM)               (None, 6, 32)             4864      \n",
      "                                                                 \n",
      " lstm_2 (LSTM)               (None, 6, 32)             8320      \n",
      "                                                                 \n",
      " lstm_3 (LSTM)               (None, 32)                8320      \n",
      "                                                                 \n",
      " dense_1 (Dense)             (None, 1)                 33        \n",
      "                                                                 \n",
      "=================================================================\n",
      "Total params: 21,537\n",
      "Trainable params: 21,537\n",
      "Non-trainable params: 0\n",
      "_________________________________________________________________\n"
     ]
    }
   ],
   "source": [
    "dlstm_model.summary()"
   ]
  },
  {
   "cell_type": "code",
   "execution_count": 31,
   "metadata": {},
   "outputs": [
    {
     "name": "stdout",
     "output_type": "stream",
     "text": [
      "Epoch 1/20\n",
      "9640/9640 [==============================] - 204s 20ms/step - loss: 13580237.0000\n",
      "Epoch 2/20\n",
      "9640/9640 [==============================] - 202s 21ms/step - loss: 11816567.0000\n",
      "Epoch 3/20\n",
      "9640/9640 [==============================] - 195s 20ms/step - loss: 10252330.0000\n",
      "Epoch 4/20\n",
      "9640/9640 [==============================] - 200s 21ms/step - loss: 8884237.0000\n",
      "Epoch 5/20\n",
      "9640/9640 [==============================] - 207s 22ms/step - loss: 7709358.5000\n",
      "Epoch 6/20\n",
      "9640/9640 [==============================] - 196s 20ms/step - loss: 6723441.0000\n",
      "Epoch 7/20\n",
      "9640/9640 [==============================] - 198s 21ms/step - loss: 5918420.0000\n",
      "Epoch 8/20\n",
      "9640/9640 [==============================] - 209s 22ms/step - loss: 5289359.0000\n",
      "Epoch 9/20\n",
      "9640/9640 [==============================] - 212s 22ms/step - loss: 4822592.0000\n",
      "Epoch 10/20\n",
      "9640/9640 [==============================] - 216s 22ms/step - loss: 4492670.5000\n",
      "Epoch 11/20\n",
      "9640/9640 [==============================] - 211s 22ms/step - loss: 4274979.0000\n",
      "Epoch 12/20\n",
      "9640/9640 [==============================] - 217s 23ms/step - loss: 4141169.2500\n",
      "Epoch 13/20\n",
      "9640/9640 [==============================] - 211s 22ms/step - loss: 4062604.5000\n",
      "Epoch 14/20\n",
      "9640/9640 [==============================] - 217s 23ms/step - loss: 4018557.5000\n",
      "Epoch 15/20\n",
      "9640/9640 [==============================] - 178s 18ms/step - loss: 3767718.7500\n",
      "Epoch 16/20\n",
      "9640/9640 [==============================] - 180s 19ms/step - loss: 2119750.7500\n",
      "Epoch 17/20\n",
      "9640/9640 [==============================] - 209s 22ms/step - loss: 1772778.7500\n",
      "Epoch 18/20\n",
      "9640/9640 [==============================] - 210s 22ms/step - loss: 1439031.1250\n",
      "Epoch 19/20\n",
      "9640/9640 [==============================] - 210s 22ms/step - loss: 1245908.2500\n",
      "Epoch 20/20\n",
      "9640/9640 [==============================] - 208s 22ms/step - loss: 1223263.0000\n"
     ]
    }
   ],
   "source": [
    "import time\n",
    "start_time = time.time()\n",
    "\n",
    "dlstm_model.fit(X_train, y_train, epochs=20, batch_size=4, verbose=1)\n",
    "\n",
    "end_time = time.time()"
   ]
  },
  {
   "cell_type": "code",
   "execution_count": 32,
   "metadata": {},
   "outputs": [
    {
     "name": "stdout",
     "output_type": "stream",
     "text": [
      "302/302 [==============================] - 9s 18ms/step\n"
     ]
    },
    {
     "data": {
      "text/plain": [
       "array([[2118.9072],\n",
       "       [2315.362 ],\n",
       "       [2315.3623],\n",
       "       ...,\n",
       "       [4266.5405],\n",
       "       [2883.08  ],\n",
       "       [1423.7719]], dtype=float32)"
      ]
     },
     "execution_count": 32,
     "metadata": {},
     "output_type": "execute_result"
    }
   ],
   "source": [
    "y_pred = dlstm_model.predict(X_test)\n",
    "\n",
    "y_pred"
   ]
  },
  {
   "cell_type": "code",
   "execution_count": 33,
   "metadata": {},
   "outputs": [
    {
     "data": {
      "text/html": [
       "<div>\n",
       "<style scoped>\n",
       "    .dataframe tbody tr th:only-of-type {\n",
       "        vertical-align: middle;\n",
       "    }\n",
       "\n",
       "    .dataframe tbody tr th {\n",
       "        vertical-align: top;\n",
       "    }\n",
       "\n",
       "    .dataframe thead th {\n",
       "        text-align: right;\n",
       "    }\n",
       "</style>\n",
       "<table border=\"1\" class=\"dataframe\">\n",
       "  <thead>\n",
       "    <tr style=\"text-align: right;\">\n",
       "      <th></th>\n",
       "      <th>actual</th>\n",
       "      <th>predicted</th>\n",
       "      <th>residual</th>\n",
       "    </tr>\n",
       "  </thead>\n",
       "  <tbody>\n",
       "    <tr>\n",
       "      <th>0</th>\n",
       "      <td>2704.0</td>\n",
       "      <td>2118.907227</td>\n",
       "      <td>585.092773</td>\n",
       "    </tr>\n",
       "    <tr>\n",
       "      <th>1</th>\n",
       "      <td>2704.0</td>\n",
       "      <td>2315.362061</td>\n",
       "      <td>388.637939</td>\n",
       "    </tr>\n",
       "    <tr>\n",
       "      <th>2</th>\n",
       "      <td>2204.0</td>\n",
       "      <td>2315.362305</td>\n",
       "      <td>-111.362305</td>\n",
       "    </tr>\n",
       "    <tr>\n",
       "      <th>3</th>\n",
       "      <td>2204.0</td>\n",
       "      <td>1103.011597</td>\n",
       "      <td>1100.988403</td>\n",
       "    </tr>\n",
       "    <tr>\n",
       "      <th>4</th>\n",
       "      <td>1713.0</td>\n",
       "      <td>877.242737</td>\n",
       "      <td>835.757263</td>\n",
       "    </tr>\n",
       "    <tr>\n",
       "      <th>...</th>\n",
       "      <td>...</td>\n",
       "      <td>...</td>\n",
       "      <td>...</td>\n",
       "    </tr>\n",
       "    <tr>\n",
       "      <th>9635</th>\n",
       "      <td>3947.0</td>\n",
       "      <td>4266.657227</td>\n",
       "      <td>-319.657227</td>\n",
       "    </tr>\n",
       "    <tr>\n",
       "      <th>9636</th>\n",
       "      <td>3543.0</td>\n",
       "      <td>4266.657227</td>\n",
       "      <td>-723.657227</td>\n",
       "    </tr>\n",
       "    <tr>\n",
       "      <th>9637</th>\n",
       "      <td>2781.0</td>\n",
       "      <td>4266.540527</td>\n",
       "      <td>-1485.540527</td>\n",
       "    </tr>\n",
       "    <tr>\n",
       "      <th>9638</th>\n",
       "      <td>2159.0</td>\n",
       "      <td>2883.080078</td>\n",
       "      <td>-724.080078</td>\n",
       "    </tr>\n",
       "    <tr>\n",
       "      <th>9639</th>\n",
       "      <td>1450.0</td>\n",
       "      <td>1423.771851</td>\n",
       "      <td>26.228149</td>\n",
       "    </tr>\n",
       "  </tbody>\n",
       "</table>\n",
       "<p>9640 rows × 3 columns</p>\n",
       "</div>"
      ],
      "text/plain": [
       "      actual    predicted     residual\n",
       "0     2704.0  2118.907227   585.092773\n",
       "1     2704.0  2315.362061   388.637939\n",
       "2     2204.0  2315.362305  -111.362305\n",
       "3     2204.0  1103.011597  1100.988403\n",
       "4     1713.0   877.242737   835.757263\n",
       "...      ...          ...          ...\n",
       "9635  3947.0  4266.657227  -319.657227\n",
       "9636  3543.0  4266.657227  -723.657227\n",
       "9637  2781.0  4266.540527 -1485.540527\n",
       "9638  2159.0  2883.080078  -724.080078\n",
       "9639  1450.0  1423.771851    26.228149\n",
       "\n",
       "[9640 rows x 3 columns]"
      ]
     },
     "execution_count": 33,
     "metadata": {},
     "output_type": "execute_result"
    }
   ],
   "source": [
    "results = pd.DataFrame()\n",
    "\n",
    "results['actual'] = y_test.flatten()\n",
    "results['predicted'] = y_pred.flatten()\n",
    "results['residual'] = results['actual'] - results['predicted']\n",
    "\n",
    "results"
   ]
  },
  {
   "cell_type": "code",
   "execution_count": 34,
   "metadata": {},
   "outputs": [
    {
     "data": {
      "image/png": "[encoded data removed]",
      "text/plain": [
       "<Figure size 640x480 with 1 Axes>"
      ]
     },
     "metadata": {},
     "output_type": "display_data"
    }
   ],
   "source": [
    "from matplotlib import pyplot as plt\n",
    "\n",
    "plt.plot(results['actual'], label = 'actual')\n",
    "plt.plot(results['predicted'], label = 'predicted')\n",
    "plt.plot(results['residual'], label = 'residual')\n",
    "\n",
    "plt.legend()\n",
    "\n",
    "plt.show()"
   ]
  },
  {
   "cell_type": "code",
   "execution_count": 35,
   "metadata": {},
   "outputs": [
    {
     "data": {
      "text/plain": [
       "977.4569363915732"
      ]
     },
     "execution_count": 35,
     "metadata": {},
     "output_type": "execute_result"
    }
   ],
   "source": [
    "me=mean_squared_error(y_test, y_pred)**0.5\n",
    "me"
   ]
  },
  {
   "cell_type": "code",
   "execution_count": 36,
   "metadata": {},
   "outputs": [],
   "source": [
    "from sklearn.metrics import accuracy_score, precision_score, recall_score, f1_score\n",
    "\n",
    "df_result = pd.DataFrame(\n",
    "    {\n",
    "        'model': ['MULTI LAYER LSTM'], \n",
    "        'time': [end_time - start_time],\n",
    "        'error': [me]\n",
    "    }\n",
    ")\n",
    "\n",
    "df_results = pd.concat([df_results, df_result], ignore_index=True, axis=0)"
   ]
  },
  {
   "cell_type": "markdown",
   "metadata": {},
   "source": [
    "# GRU with one layer"
   ]
  },
  {
   "cell_type": "code",
   "execution_count": 37,
   "metadata": {},
   "outputs": [],
   "source": [
    "from keras.layers import GRU\n",
    "n_steps = 6\n",
    "n_inputs = 5\n",
    "\n",
    "gru_model = Sequential()\n",
    "gru_model.add(GRU(32, input_shape=(n_steps, n_inputs)))\n",
    "gru_model.add(Dense(1))\n",
    "gru_model.compile(loss='mean_squared_error', optimizer='adam')"
   ]
  },
  {
   "cell_type": "code",
   "execution_count": 38,
   "metadata": {},
   "outputs": [
    {
     "name": "stdout",
     "output_type": "stream",
     "text": [
      "Model: \"sequential_2\"\n",
      "_________________________________________________________________\n",
      " Layer (type)                Output Shape              Param #   \n",
      "=================================================================\n",
      " gru (GRU)                   (None, 32)                3744      \n",
      "                                                                 \n",
      " dense_2 (Dense)             (None, 1)                 33        \n",
      "                                                                 \n",
      "=================================================================\n",
      "Total params: 3,777\n",
      "Trainable params: 3,777\n",
      "Non-trainable params: 0\n",
      "_________________________________________________________________\n"
     ]
    }
   ],
   "source": [
    "gru_model.summary()"
   ]
  },
  {
   "cell_type": "code",
   "execution_count": 39,
   "metadata": {},
   "outputs": [
    {
     "name": "stdout",
     "output_type": "stream",
     "text": [
      "Epoch 1/20\n",
      "9640/9640 [==============================] - 139s 14ms/step - loss: 13990422.0000\n",
      "Epoch 2/20\n",
      "9640/9640 [==============================] - 212s 22ms/step - loss: 12773875.0000\n",
      "Epoch 3/20\n",
      "9640/9640 [==============================] - 123s 13ms/step - loss: 11631959.0000\n",
      "Epoch 4/20\n",
      "9640/9640 [==============================] - 120s 12ms/step - loss: 10573882.0000\n",
      "Epoch 5/20\n",
      "9640/9640 [==============================] - 99s 10ms/step - loss: 9589807.0000\n",
      "Epoch 6/20\n",
      "9640/9640 [==============================] - 78s 8ms/step - loss: 8676327.0000\n",
      "Epoch 7/20\n",
      "9640/9640 [==============================] - 77s 8ms/step - loss: 7833145.5000\n",
      "Epoch 8/20\n",
      "9640/9640 [==============================] - 85s 9ms/step - loss: 7058717.5000\n",
      "Epoch 9/20\n",
      "9640/9640 [==============================] - 77s 8ms/step - loss: 6350633.5000\n",
      "Epoch 10/20\n",
      "9640/9640 [==============================] - 105s 11ms/step - loss: 5699501.5000\n",
      "Epoch 11/20\n",
      "9640/9640 [==============================] - 121s 13ms/step - loss: 5110079.5000\n",
      "Epoch 12/20\n",
      "9640/9640 [==============================] - 126s 13ms/step - loss: 4571993.5000\n",
      "Epoch 13/20\n",
      "9640/9640 [==============================] - 144s 15ms/step - loss: 4091393.2500\n",
      "Epoch 14/20\n",
      "9640/9640 [==============================] - 130s 13ms/step - loss: 3663603.0000\n",
      "Epoch 15/20\n",
      "9640/9640 [==============================] - 129s 13ms/step - loss: 3298923.0000\n",
      "Epoch 16/20\n",
      "9640/9640 [==============================] - 132s 14ms/step - loss: 3109108.5000\n",
      "Epoch 17/20\n",
      "9640/9640 [==============================] - 146s 15ms/step - loss: 2875161.5000\n",
      "Epoch 18/20\n",
      "9640/9640 [==============================] - 206s 21ms/step - loss: 2602014.5000\n",
      "Epoch 19/20\n",
      "9640/9640 [==============================] - 134s 14ms/step - loss: 2359974.2500\n",
      "Epoch 20/20\n",
      "9640/9640 [==============================] - 137s 14ms/step - loss: 2148647.2500\n"
     ]
    }
   ],
   "source": [
    "import time\n",
    "start_time = time.time()\n",
    "\n",
    "gru_model.fit(X_train, y_train, epochs=20, batch_size=4, verbose=1)\n",
    "\n",
    "end_time = time.time()"
   ]
  },
  {
   "cell_type": "code",
   "execution_count": 40,
   "metadata": {},
   "outputs": [
    {
     "name": "stdout",
     "output_type": "stream",
     "text": [
      "302/302 [==============================] - 3s 9ms/step\n"
     ]
    },
    {
     "data": {
      "text/plain": [
       "array([[2767.7593],\n",
       "       [2766.4604],\n",
       "       [2603.1543],\n",
       "       ...,\n",
       "       [3460.7344],\n",
       "       [2767.7593],\n",
       "       [1725.7402]], dtype=float32)"
      ]
     },
     "execution_count": 40,
     "metadata": {},
     "output_type": "execute_result"
    }
   ],
   "source": [
    "y_pred = gru_model.predict(X_test)\n",
    "y_pred"
   ]
  },
  {
   "cell_type": "code",
   "execution_count": 41,
   "metadata": {},
   "outputs": [
    {
     "data": {
      "text/html": [
       "<div>\n",
       "<style scoped>\n",
       "    .dataframe tbody tr th:only-of-type {\n",
       "        vertical-align: middle;\n",
       "    }\n",
       "\n",
       "    .dataframe tbody tr th {\n",
       "        vertical-align: top;\n",
       "    }\n",
       "\n",
       "    .dataframe thead th {\n",
       "        text-align: right;\n",
       "    }\n",
       "</style>\n",
       "<table border=\"1\" class=\"dataframe\">\n",
       "  <thead>\n",
       "    <tr style=\"text-align: right;\">\n",
       "      <th></th>\n",
       "      <th>actual</th>\n",
       "      <th>predicted</th>\n",
       "      <th>residual</th>\n",
       "    </tr>\n",
       "  </thead>\n",
       "  <tbody>\n",
       "    <tr>\n",
       "      <th>0</th>\n",
       "      <td>2704.0</td>\n",
       "      <td>2767.759277</td>\n",
       "      <td>-63.759277</td>\n",
       "    </tr>\n",
       "    <tr>\n",
       "      <th>1</th>\n",
       "      <td>2704.0</td>\n",
       "      <td>2766.460449</td>\n",
       "      <td>-62.460449</td>\n",
       "    </tr>\n",
       "    <tr>\n",
       "      <th>2</th>\n",
       "      <td>2204.0</td>\n",
       "      <td>2603.154297</td>\n",
       "      <td>-399.154297</td>\n",
       "    </tr>\n",
       "    <tr>\n",
       "      <th>3</th>\n",
       "      <td>2204.0</td>\n",
       "      <td>1557.843994</td>\n",
       "      <td>646.156006</td>\n",
       "    </tr>\n",
       "    <tr>\n",
       "      <th>4</th>\n",
       "      <td>1713.0</td>\n",
       "      <td>1745.448486</td>\n",
       "      <td>-32.448486</td>\n",
       "    </tr>\n",
       "    <tr>\n",
       "      <th>...</th>\n",
       "      <td>...</td>\n",
       "      <td>...</td>\n",
       "      <td>...</td>\n",
       "    </tr>\n",
       "    <tr>\n",
       "      <th>9635</th>\n",
       "      <td>3947.0</td>\n",
       "      <td>3460.749512</td>\n",
       "      <td>486.250488</td>\n",
       "    </tr>\n",
       "    <tr>\n",
       "      <th>9636</th>\n",
       "      <td>3543.0</td>\n",
       "      <td>3460.749512</td>\n",
       "      <td>82.250488</td>\n",
       "    </tr>\n",
       "    <tr>\n",
       "      <th>9637</th>\n",
       "      <td>2781.0</td>\n",
       "      <td>3460.734375</td>\n",
       "      <td>-679.734375</td>\n",
       "    </tr>\n",
       "    <tr>\n",
       "      <th>9638</th>\n",
       "      <td>2159.0</td>\n",
       "      <td>2767.759277</td>\n",
       "      <td>-608.759277</td>\n",
       "    </tr>\n",
       "    <tr>\n",
       "      <th>9639</th>\n",
       "      <td>1450.0</td>\n",
       "      <td>1725.740234</td>\n",
       "      <td>-275.740234</td>\n",
       "    </tr>\n",
       "  </tbody>\n",
       "</table>\n",
       "<p>9640 rows × 3 columns</p>\n",
       "</div>"
      ],
      "text/plain": [
       "      actual    predicted    residual\n",
       "0     2704.0  2767.759277  -63.759277\n",
       "1     2704.0  2766.460449  -62.460449\n",
       "2     2204.0  2603.154297 -399.154297\n",
       "3     2204.0  1557.843994  646.156006\n",
       "4     1713.0  1745.448486  -32.448486\n",
       "...      ...          ...         ...\n",
       "9635  3947.0  3460.749512  486.250488\n",
       "9636  3543.0  3460.749512   82.250488\n",
       "9637  2781.0  3460.734375 -679.734375\n",
       "9638  2159.0  2767.759277 -608.759277\n",
       "9639  1450.0  1725.740234 -275.740234\n",
       "\n",
       "[9640 rows x 3 columns]"
      ]
     },
     "execution_count": 41,
     "metadata": {},
     "output_type": "execute_result"
    }
   ],
   "source": [
    "results = pd.DataFrame()\n",
    "\n",
    "results['actual'] = y_test.flatten()\n",
    "results['predicted'] = y_pred.flatten()\n",
    "results['residual'] = results['actual'] - results['predicted']\n",
    "\n",
    "results"
   ]
  },
  {
   "cell_type": "code",
   "execution_count": 42,
   "metadata": {},
   "outputs": [
    {
     "data": {
      "image/png": "[encoded data removed]",
      "text/plain": [
       "<Figure size 640x480 with 1 Axes>"
      ]
     },
     "metadata": {},
     "output_type": "display_data"
    }
   ],
   "source": [
    "from matplotlib import pyplot as plt\n",
    "\n",
    "plt.plot(results['actual'], label = 'actual')\n",
    "plt.plot(results['predicted'], label = 'predicted')\n",
    "plt.plot(results['residual'], label = 'residual')\n",
    "\n",
    "plt.legend()\n",
    "\n",
    "plt.show()"
   ]
  },
  {
   "cell_type": "code",
   "execution_count": 43,
   "metadata": {},
   "outputs": [
    {
     "data": {
      "text/plain": [
       "1384.1143377625997"
      ]
     },
     "execution_count": 43,
     "metadata": {},
     "output_type": "execute_result"
    }
   ],
   "source": [
    "me=mean_squared_error(y_test, y_pred)**0.5\n",
    "me"
   ]
  },
  {
   "cell_type": "code",
   "execution_count": 44,
   "metadata": {},
   "outputs": [],
   "source": [
    "from sklearn.metrics import accuracy_score, precision_score, recall_score, f1_score\n",
    "\n",
    "df_result = pd.DataFrame(\n",
    "    {\n",
    "        'model': ['GRU'], \n",
    "        'time': [end_time - start_time],\n",
    "        'error': [me]\n",
    "    }\n",
    ")\n",
    "\n",
    "df_results = pd.concat([df_results, df_result], ignore_index=True, axis=0)"
   ]
  },
  {
   "cell_type": "markdown",
   "metadata": {},
   "source": [
    "# GRU with multi layer"
   ]
  },
  {
   "cell_type": "code",
   "execution_count": 45,
   "metadata": {},
   "outputs": [],
   "source": [
    "n_steps = 6\n",
    "n_inputs = 5\n",
    "\n",
    "dgru_model = Sequential()\n",
    "dgru_model.add(GRU(32, return_sequences=True, input_shape=(n_steps, n_inputs)))\n",
    "dgru_model.add(GRU(32, return_sequences=True))\n",
    "dgru_model.add(GRU(32))\n",
    "dgru_model.add(Dense(1))\n",
    "dgru_model.compile(loss='mean_squared_error', optimizer='adam')"
   ]
  },
  {
   "cell_type": "code",
   "execution_count": 46,
   "metadata": {},
   "outputs": [
    {
     "name": "stdout",
     "output_type": "stream",
     "text": [
      "Model: \"sequential_3\"\n",
      "_________________________________________________________________\n",
      " Layer (type)                Output Shape              Param #   \n",
      "=================================================================\n",
      " gru_1 (GRU)                 (None, 6, 32)             3744      \n",
      "                                                                 \n",
      " gru_2 (GRU)                 (None, 6, 32)             6336      \n",
      "                                                                 \n",
      " gru_3 (GRU)                 (None, 32)                6336      \n",
      "                                                                 \n",
      " dense_3 (Dense)             (None, 1)                 33        \n",
      "                                                                 \n",
      "=================================================================\n",
      "Total params: 16,449\n",
      "Trainable params: 16,449\n",
      "Non-trainable params: 0\n",
      "_________________________________________________________________\n"
     ]
    }
   ],
   "source": [
    "dgru_model.summary()"
   ]
  },
  {
   "cell_type": "code",
   "execution_count": 47,
   "metadata": {},
   "outputs": [
    {
     "name": "stdout",
     "output_type": "stream",
     "text": [
      "Epoch 1/20\n",
      "9640/9640 [==============================] - 298s 30ms/step - loss: 13589889.0000\n",
      "Epoch 2/20\n",
      "9640/9640 [==============================] - 284s 29ms/step - loss: 11825702.0000\n",
      "Epoch 3/20\n",
      "9640/9640 [==============================] - 287s 30ms/step - loss: 10254914.0000\n",
      "Epoch 4/20\n",
      "9640/9640 [==============================] - 284s 29ms/step - loss: 8825278.0000\n",
      "Epoch 5/20\n",
      "9640/9640 [==============================] - 337s 35ms/step - loss: 7543594.5000\n",
      "Epoch 6/20\n",
      "9640/9640 [==============================] - 293s 30ms/step - loss: 6405981.5000\n",
      "Epoch 7/20\n",
      "9640/9640 [==============================] - 324s 34ms/step - loss: 5410470.0000\n",
      "Epoch 8/20\n",
      "9640/9640 [==============================] - 305s 32ms/step - loss: 4536196.0000\n",
      "Epoch 9/20\n",
      "9640/9640 [==============================] - 314s 33ms/step - loss: 3785261.0000\n",
      "Epoch 10/20\n",
      "9640/9640 [==============================] - 249s 26ms/step - loss: 3129626.2500\n",
      "Epoch 11/20\n",
      "9640/9640 [==============================] - 316s 33ms/step - loss: 2556028.2500\n",
      "Epoch 12/20\n",
      "9640/9640 [==============================] - 375s 39ms/step - loss: 2107497.0000\n",
      "Epoch 13/20\n",
      "9640/9640 [==============================] - 361s 37ms/step - loss: 1845017.3750\n",
      "Epoch 14/20\n",
      "9640/9640 [==============================] - 293s 30ms/step - loss: 1534090.1250\n",
      "Epoch 15/20\n",
      "9640/9640 [==============================] - 301s 31ms/step - loss: 1530620.8750\n",
      "Epoch 16/20\n",
      "9640/9640 [==============================] - 299s 31ms/step - loss: 1399312.5000\n",
      "Epoch 17/20\n",
      "9640/9640 [==============================] - 285s 30ms/step - loss: 1476220.7500\n",
      "Epoch 18/20\n",
      "9640/9640 [==============================] - 289s 30ms/step - loss: 1473415.6250\n",
      "Epoch 19/20\n",
      "9640/9640 [==============================] - 279s 29ms/step - loss: 1806102.8750\n",
      "Epoch 20/20\n",
      "9640/9640 [==============================] - 306s 32ms/step - loss: 1404772.5000\n"
     ]
    }
   ],
   "source": [
    "import time\n",
    "start_time = time.time()\n",
    "\n",
    "dgru_model.fit(X_train, y_train, epochs=20, batch_size=4, verbose=1)\n",
    "\n",
    "end_time = time.time()"
   ]
  },
  {
   "cell_type": "code",
   "execution_count": 48,
   "metadata": {},
   "outputs": [
    {
     "name": "stdout",
     "output_type": "stream",
     "text": [
      "302/302 [==============================] - 8s 15ms/step\n"
     ]
    },
    {
     "data": {
      "text/plain": [
       "array([[2194.7314],\n",
       "       [2560.9907],\n",
       "       [4065.0974],\n",
       "       ...,\n",
       "       [2676.8   ],\n",
       "       [2522.3777],\n",
       "       [2248.2144]], dtype=float32)"
      ]
     },
     "execution_count": 48,
     "metadata": {},
     "output_type": "execute_result"
    }
   ],
   "source": [
    "y_pred = dgru_model.predict(X_test)\n",
    "y_pred"
   ]
  },
  {
   "cell_type": "code",
   "execution_count": 49,
   "metadata": {},
   "outputs": [
    {
     "data": {
      "text/html": [
       "<div>\n",
       "<style scoped>\n",
       "    .dataframe tbody tr th:only-of-type {\n",
       "        vertical-align: middle;\n",
       "    }\n",
       "\n",
       "    .dataframe tbody tr th {\n",
       "        vertical-align: top;\n",
       "    }\n",
       "\n",
       "    .dataframe thead th {\n",
       "        text-align: right;\n",
       "    }\n",
       "</style>\n",
       "<table border=\"1\" class=\"dataframe\">\n",
       "  <thead>\n",
       "    <tr style=\"text-align: right;\">\n",
       "      <th></th>\n",
       "      <th>actual</th>\n",
       "      <th>predicted</th>\n",
       "      <th>residual</th>\n",
       "    </tr>\n",
       "  </thead>\n",
       "  <tbody>\n",
       "    <tr>\n",
       "      <th>0</th>\n",
       "      <td>2704.0</td>\n",
       "      <td>2194.731445</td>\n",
       "      <td>509.268555</td>\n",
       "    </tr>\n",
       "    <tr>\n",
       "      <th>1</th>\n",
       "      <td>2704.0</td>\n",
       "      <td>2560.990723</td>\n",
       "      <td>143.009277</td>\n",
       "    </tr>\n",
       "    <tr>\n",
       "      <th>2</th>\n",
       "      <td>2204.0</td>\n",
       "      <td>4065.097412</td>\n",
       "      <td>-1861.097412</td>\n",
       "    </tr>\n",
       "    <tr>\n",
       "      <th>3</th>\n",
       "      <td>2204.0</td>\n",
       "      <td>4065.097412</td>\n",
       "      <td>-1861.097412</td>\n",
       "    </tr>\n",
       "    <tr>\n",
       "      <th>4</th>\n",
       "      <td>1713.0</td>\n",
       "      <td>4065.097412</td>\n",
       "      <td>-2352.097412</td>\n",
       "    </tr>\n",
       "    <tr>\n",
       "      <th>...</th>\n",
       "      <td>...</td>\n",
       "      <td>...</td>\n",
       "      <td>...</td>\n",
       "    </tr>\n",
       "    <tr>\n",
       "      <th>9635</th>\n",
       "      <td>3947.0</td>\n",
       "      <td>4446.162109</td>\n",
       "      <td>-499.162109</td>\n",
       "    </tr>\n",
       "    <tr>\n",
       "      <th>9636</th>\n",
       "      <td>3543.0</td>\n",
       "      <td>3370.234863</td>\n",
       "      <td>172.765137</td>\n",
       "    </tr>\n",
       "    <tr>\n",
       "      <th>9637</th>\n",
       "      <td>2781.0</td>\n",
       "      <td>2676.800049</td>\n",
       "      <td>104.199951</td>\n",
       "    </tr>\n",
       "    <tr>\n",
       "      <th>9638</th>\n",
       "      <td>2159.0</td>\n",
       "      <td>2522.377686</td>\n",
       "      <td>-363.377686</td>\n",
       "    </tr>\n",
       "    <tr>\n",
       "      <th>9639</th>\n",
       "      <td>1450.0</td>\n",
       "      <td>2248.214355</td>\n",
       "      <td>-798.214355</td>\n",
       "    </tr>\n",
       "  </tbody>\n",
       "</table>\n",
       "<p>9640 rows × 3 columns</p>\n",
       "</div>"
      ],
      "text/plain": [
       "      actual    predicted     residual\n",
       "0     2704.0  2194.731445   509.268555\n",
       "1     2704.0  2560.990723   143.009277\n",
       "2     2204.0  4065.097412 -1861.097412\n",
       "3     2204.0  4065.097412 -1861.097412\n",
       "4     1713.0  4065.097412 -2352.097412\n",
       "...      ...          ...          ...\n",
       "9635  3947.0  4446.162109  -499.162109\n",
       "9636  3543.0  3370.234863   172.765137\n",
       "9637  2781.0  2676.800049   104.199951\n",
       "9638  2159.0  2522.377686  -363.377686\n",
       "9639  1450.0  2248.214355  -798.214355\n",
       "\n",
       "[9640 rows x 3 columns]"
      ]
     },
     "execution_count": 49,
     "metadata": {},
     "output_type": "execute_result"
    }
   ],
   "source": [
    "results = pd.DataFrame()\n",
    "\n",
    "results['actual'] = y_test.flatten()\n",
    "results['predicted'] = y_pred.flatten()\n",
    "results['residual'] = results['actual'] - results['predicted']\n",
    "\n",
    "results"
   ]
  },
  {
   "cell_type": "code",
   "execution_count": 50,
   "metadata": {},
   "outputs": [
    {
     "data": {
      "image/png": "[encoded data removed]",
      "text/plain": [
       "<Figure size 640x480 with 1 Axes>"
      ]
     },
     "metadata": {},
     "output_type": "display_data"
    }
   ],
   "source": [
    "from matplotlib import pyplot as plt\n",
    "\n",
    "plt.plot(results['actual'], label = 'actual')\n",
    "plt.plot(results['predicted'], label = 'predicted')\n",
    "plt.plot(results['residual'], label = 'residual')\n",
    "\n",
    "plt.legend()\n",
    "\n",
    "plt.show()"
   ]
  },
  {
   "cell_type": "code",
   "execution_count": 51,
   "metadata": {},
   "outputs": [
    {
     "data": {
      "text/plain": [
       "998.0985672767996"
      ]
     },
     "execution_count": 51,
     "metadata": {},
     "output_type": "execute_result"
    }
   ],
   "source": [
    "me=mean_squared_error(y_test, y_pred)**0.5\n",
    "me"
   ]
  },
  {
   "cell_type": "code",
   "execution_count": 52,
   "metadata": {},
   "outputs": [],
   "source": [
    "from sklearn.metrics import accuracy_score, precision_score, recall_score, f1_score\n",
    "\n",
    "df_result = pd.DataFrame(\n",
    "    {\n",
    "        'model': ['MULTI LAYER GRU'], \n",
    "        'time': [end_time - start_time],\n",
    "        'error': [me]\n",
    "    }\n",
    ")\n",
    "\n",
    "df_results = pd.concat([df_results, df_result], ignore_index=True, axis=0)"
   ]
  },
  {
   "cell_type": "code",
   "execution_count": 53,
   "metadata": {},
   "outputs": [
    {
     "data": {
      "text/html": [
       "<div>\n",
       "<style scoped>\n",
       "    .dataframe tbody tr th:only-of-type {\n",
       "        vertical-align: middle;\n",
       "    }\n",
       "\n",
       "    .dataframe tbody tr th {\n",
       "        vertical-align: top;\n",
       "    }\n",
       "\n",
       "    .dataframe thead th {\n",
       "        text-align: right;\n",
       "    }\n",
       "</style>\n",
       "<table border=\"1\" class=\"dataframe\">\n",
       "  <thead>\n",
       "    <tr style=\"text-align: right;\">\n",
       "      <th></th>\n",
       "      <th>model</th>\n",
       "      <th>time</th>\n",
       "      <th>error</th>\n",
       "    </tr>\n",
       "  </thead>\n",
       "  <tbody>\n",
       "    <tr>\n",
       "      <th>0</th>\n",
       "      <td>LSTM</td>\n",
       "      <td>1822.206199</td>\n",
       "      <td>1623.612254</td>\n",
       "    </tr>\n",
       "    <tr>\n",
       "      <th>1</th>\n",
       "      <td>MULTI LAYER LSTM</td>\n",
       "      <td>4092.250899</td>\n",
       "      <td>977.456936</td>\n",
       "    </tr>\n",
       "    <tr>\n",
       "      <th>2</th>\n",
       "      <td>GRU</td>\n",
       "      <td>2520.986892</td>\n",
       "      <td>1384.114338</td>\n",
       "    </tr>\n",
       "    <tr>\n",
       "      <th>3</th>\n",
       "      <td>MULTI LAYER GRU</td>\n",
       "      <td>6081.355305</td>\n",
       "      <td>998.098567</td>\n",
       "    </tr>\n",
       "  </tbody>\n",
       "</table>\n",
       "</div>"
      ],
      "text/plain": [
       "              model         time        error\n",
       "0              LSTM  1822.206199  1623.612254\n",
       "1  MULTI LAYER LSTM  4092.250899   977.456936\n",
       "2               GRU  2520.986892  1384.114338\n",
       "3   MULTI LAYER GRU  6081.355305   998.098567"
      ]
     },
     "execution_count": 53,
     "metadata": {},
     "output_type": "execute_result"
    }
   ],
   "source": [
    "df_results"
   ]
  },
  {
   "cell_type": "markdown",
   "metadata": {},
   "source": [
    "# Model Analysis"
   ]
  },
  {
   "cell_type": "markdown",
   "metadata": {},
   "source": [
    "The time taken by the models and the errors show that multilayer LSTM is the best model. It has minimum error and less time compared to GRU multilayer model. The multilayer models perform batter than sihngle layer models."
   ]
  }
 ],
 "metadata": {
  "kernelspec": {
   "display_name": "Python 3 (ipykernel)",
   "language": "python",
   "name": "python3"
  },
  "language_info": {
   "codemirror_mode": {
    "name": "ipython",
    "version": 3
   },
   "file_extension": ".py",
   "mimetype": "text/x-python",
   "name": "python",
   "nbconvert_exporter": "python",
   "pygments_lexer": "ipython3",
   "version": "3.10.10"
  }
 },
 "nbformat": 4,
 "nbformat_minor": 4
}
