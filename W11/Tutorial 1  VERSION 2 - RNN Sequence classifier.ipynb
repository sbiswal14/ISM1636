{
 "cells": [
  {
   "cell_type": "markdown",
   "metadata": {},
   "source": [
    "# Tutorial 1 - RNN Sequence classifier"
   ]
  },
  {
   "cell_type": "markdown",
   "metadata": {},
   "source": [
    "In this notebook, we will predict the winner of a basketball game based on the scores observed in the first 3 quarters of the game. Each column represents the beginning of a minute during the game. (There are 12 minutes in each quarter. There are  3 quarters in the data, so we have 36 columns as input variables in chronological order.) The values captured in each column represent the score difference observed at that minute (home score minus away score)<br><br>\n",
    "\n",
    "The last column `W` represents whether the home team (1) or the away team (0) won the game. This is the target variable. <br><br>\n",
    "**Our unit of analysis is a single game.**"
   ]
  },
  {
   "cell_type": "code",
   "execution_count": 1,
   "metadata": {},
   "outputs": [],
   "source": [
    "# Common imports\n",
    "import numpy as np\n",
    "import tensorflow as tf\n",
    "from tensorflow import keras\n",
    "import pandas as pd\n",
    "import matplotlib.pyplot as plt\n",
    "\n",
    "np.random.seed(1)\n",
    "tf.random.set_seed(1)"
   ]
  },
  {
   "cell_type": "markdown",
   "metadata": {},
   "source": [
    "## Load and split data"
   ]
  },
  {
   "cell_type": "markdown",
   "metadata": {},
   "source": [
    "Basketball data consists of each row (observation) representing a single game. The first 36 columns represent the score difference at each minute of the game. The last column represents the winner of the game (1 = home team, 0 = away team). The data is stored in a csv file. We will load the data into a pandas dataframe."
   ]
  },
  {
   "cell_type": "code",
   "execution_count": 2,
   "metadata": {},
   "outputs": [],
   "source": [
    "data = pd.read_csv(\"basketball.csv\")"
   ]
  },
  {
   "cell_type": "markdown",
   "metadata": {},
   "source": [
    "We see that we have 1230 observations (games) and 37 columns (36 minutes of the game + 1 target variable).  "
   ]
  },
  {
   "cell_type": "code",
   "execution_count": 3,
   "metadata": {},
   "outputs": [
    {
     "data": {
      "text/plain": [
       "(1230, 37)"
      ]
     },
     "execution_count": 3,
     "metadata": {},
     "output_type": "execute_result"
    }
   ],
   "source": [
    "data.shape"
   ]
  },
  {
   "cell_type": "markdown",
   "metadata": {},
   "source": [
    "Split each observation into a sequence of 36 observations (minutes) and a single observation (winner). The sequence of 36 observations will be the input (X) to the RNN. The single observation (y) will be the target variable."
   ]
  },
  {
   "cell_type": "code",
   "execution_count": 4,
   "metadata": {},
   "outputs": [],
   "source": [
    "y = data['W']\n",
    "X = data.drop('W', axis=1)"
   ]
  },
  {
   "cell_type": "code",
   "execution_count": 5,
   "metadata": {},
   "outputs": [],
   "source": [
    "y = np.array(y).astype(np.int8) \n",
    "X = np.array(X).astype(np.float32)"
   ]
  },
  {
   "cell_type": "markdown",
   "metadata": {},
   "source": [
    "Finally, we need to split the data into training and test sets. A random split on this data is OK, as each 'game' (observation) is independent of the others. We will use 70% of the data for training and 30% for testing."
   ]
  },
  {
   "cell_type": "code",
   "execution_count": 6,
   "metadata": {},
   "outputs": [],
   "source": [
    "from sklearn.model_selection import train_test_split\n",
    "\n",
    "X_train, X_test, y_train, y_test = train_test_split(X, y, test_size=0.3)"
   ]
  },
  {
   "cell_type": "markdown",
   "metadata": {},
   "source": [
    "## Create dataframe to store results    \n",
    "\n",
    "We are running 8 models in this notebook. We will store the results in a dataframe for easy comparison."
   ]
  },
  {
   "cell_type": "code",
   "execution_count": 7,
   "metadata": {},
   "outputs": [],
   "source": [
    "df_results = pd.DataFrame({'model': [], 'time': [], 'accuracy': [], 'precision': [], 'recall': [], 'f1': []})"
   ]
  },
  {
   "cell_type": "markdown",
   "metadata": {},
   "source": [
    "# A normal (cross-sectional) NN\n",
    "\n",
    "This model assumes that the data is NOT a time-series data set. It treats the data as cross-sectional and the columns being independent of each other."
   ]
  },
  {
   "cell_type": "code",
   "execution_count": 8,
   "metadata": {},
   "outputs": [
    {
     "name": "stdout",
     "output_type": "stream",
     "text": [
      "(861, 36)\n",
      "(861,)\n"
     ]
    }
   ],
   "source": [
    "print(X_train.shape)  # 2d array of shape (n_samples, n_features)\n",
    "print(y_train.shape)  # 1d array of shape (n_samples,)"
   ]
  },
  {
   "cell_type": "code",
   "execution_count": 9,
   "metadata": {},
   "outputs": [],
   "source": [
    "model = keras.models.Sequential([\n",
    "    keras.layers.Flatten(input_shape=[36, 1]),\n",
    "    keras.layers.Dense(72, activation='relu'),\n",
    "    keras.layers.Dense(1, activation='sigmoid')  \n",
    "])"
   ]
  },
  {
   "cell_type": "code",
   "execution_count": 10,
   "metadata": {
    "scrolled": true
   },
   "outputs": [
    {
     "name": "stdout",
     "output_type": "stream",
     "text": [
      "Model: \"sequential\"\n",
      "_________________________________________________________________\n",
      " Layer (type)                Output Shape              Param #   \n",
      "=================================================================\n",
      " flatten (Flatten)           (None, 36)                0         \n",
      "                                                                 \n",
      " dense (Dense)               (None, 72)                2664      \n",
      "                                                                 \n",
      " dense_1 (Dense)             (None, 1)                 73        \n",
      "                                                                 \n",
      "=================================================================\n",
      "Total params: 2,737\n",
      "Trainable params: 2,737\n",
      "Non-trainable params: 0\n",
      "_________________________________________________________________\n"
     ]
    }
   ],
   "source": [
    "model.compile(\n",
    "    loss=\"binary_crossentropy\",  # If multiclass, use \"sparse_categorical_crossentropy\" as the loss function\n",
    "    optimizer=tf.keras.optimizers.Nadam(learning_rate=0.001),\n",
    "    metrics=['accuracy']\n",
    ")\n",
    "\n",
    "model.summary()"
   ]
  },
  {
   "cell_type": "code",
   "execution_count": 11,
   "metadata": {},
   "outputs": [],
   "source": [
    "### How to interpret the output shape?"
   ]
  },
  {
   "cell_type": "markdown",
   "metadata": {},
   "source": [
    "* The first layer\n",
    "  * None is a wild-card representing the number of observations - this will be the number of observations in a batch that is fed into the network.\n",
    "  * 36 is the number of units in the layer, since there will be 36 outputs from this layer 36, the second dimension will have 36\n",
    "* The second layer\n",
    "  * None is a wild-card representing the number of observations - this will be the number of observations in a batch that is fed into the network. This will be the same at each later, since the batch size is the same during each epoch.\n",
    "  * 72 is the number of units in the layer, since there will be 72 outputs from these 72 units\n",
    "* The third layer\n",
    "  * None is a wild-card, is the number of observations given in the batch.\n",
    "  * 1 is the number of units in the layer. Since the output is a binary value, there is one unit for the output, and therefore 1 is the number of outputs.\n"
   ]
  },
  {
   "cell_type": "markdown",
   "metadata": {},
   "source": [
    "We can write this formulaically as:"
   ]
  },
  {
   "cell_type": "code",
   "execution_count": 11,
   "metadata": {},
   "outputs": [
    {
     "data": {
      "text/plain": [
       "2664"
      ]
     },
     "execution_count": 11,
     "metadata": {},
     "output_type": "execute_result"
    }
   ],
   "source": [
    "p = 1  # for NN, one weight per unit input\n",
    "b = 1  # for NN, one bias per unit\n",
    "\n",
    "# First hidden layer\n",
    "i = 36 # 36 inputs from the previous layer (flatten layer)\n",
    "h = 72 # number of units in this layer \n",
    "\n",
    "p * (h*i + b*h)"
   ]
  },
  {
   "cell_type": "markdown",
   "metadata": {},
   "source": [
    "### Calculate the number of paramaters for the model"
   ]
  },
  {
   "cell_type": "markdown",
   "metadata": {},
   "source": [
    "* The first later doesn't have any parameters, because it's just flattening the input\n",
    "    * 0 inputs to 36 unites, is 0 weights and zero biases\n",
    "* The second layer has 36 units connecting to 72 units, so 36**72 weights. If each weight also has a bias, then we add 72\n",
    "    * 36*72+72 = 2664\n",
    "* The third layer has 72 outputs from the previous later to 1 unit, so 72 weights. If each unit in the layer has a bias, then we add 1 since there is only one unit\n",
    "    * 72+1=73"
   ]
  },
  {
   "cell_type": "markdown",
   "metadata": {},
   "source": [
    "https://towardsdatascience.com/counting-no-of-parameters-in-deep-learning-models-by-hand-8f1716241889"
   ]
  },
  {
   "cell_type": "code",
   "execution_count": 12,
   "metadata": {},
   "outputs": [
    {
     "name": "stdout",
     "output_type": "stream",
     "text": [
      "Epoch 1/50\n",
      "27/27 [==============================] - 2s 20ms/step - loss: 0.9128 - accuracy: 0.6841 - val_loss: 0.5951 - val_accuracy: 0.7696\n",
      "Epoch 2/50\n",
      "27/27 [==============================] - 0s 4ms/step - loss: 0.5719 - accuracy: 0.7387 - val_loss: 0.5466 - val_accuracy: 0.7615\n",
      "Epoch 3/50\n",
      "27/27 [==============================] - 0s 4ms/step - loss: 0.5106 - accuracy: 0.7573 - val_loss: 0.4871 - val_accuracy: 0.7805\n",
      "Epoch 4/50\n",
      "27/27 [==============================] - 0s 4ms/step - loss: 0.4628 - accuracy: 0.7793 - val_loss: 0.4700 - val_accuracy: 0.7859\n",
      "Epoch 5/50\n",
      "27/27 [==============================] - 0s 4ms/step - loss: 0.4434 - accuracy: 0.7979 - val_loss: 0.4607 - val_accuracy: 0.7967\n",
      "Epoch 6/50\n",
      "27/27 [==============================] - 0s 5ms/step - loss: 0.4154 - accuracy: 0.7921 - val_loss: 0.4516 - val_accuracy: 0.7995\n",
      "Epoch 7/50\n",
      "27/27 [==============================] - 0s 4ms/step - loss: 0.4091 - accuracy: 0.8060 - val_loss: 0.4661 - val_accuracy: 0.7967\n",
      "Epoch 8/50\n",
      "27/27 [==============================] - 0s 4ms/step - loss: 0.4010 - accuracy: 0.8223 - val_loss: 0.4576 - val_accuracy: 0.7967\n",
      "Epoch 9/50\n",
      "27/27 [==============================] - 0s 4ms/step - loss: 0.3794 - accuracy: 0.8223 - val_loss: 0.4486 - val_accuracy: 0.7940\n",
      "Epoch 10/50\n",
      "27/27 [==============================] - 0s 4ms/step - loss: 0.3720 - accuracy: 0.8281 - val_loss: 0.4611 - val_accuracy: 0.7995\n",
      "Epoch 11/50\n",
      "27/27 [==============================] - 0s 4ms/step - loss: 0.3609 - accuracy: 0.8304 - val_loss: 0.4543 - val_accuracy: 0.7967\n",
      "Epoch 12/50\n",
      "27/27 [==============================] - 0s 4ms/step - loss: 0.3573 - accuracy: 0.8409 - val_loss: 0.4450 - val_accuracy: 0.7967\n",
      "Epoch 13/50\n",
      "27/27 [==============================] - 0s 4ms/step - loss: 0.3509 - accuracy: 0.8455 - val_loss: 0.4516 - val_accuracy: 0.7940\n",
      "Epoch 14/50\n",
      "27/27 [==============================] - 0s 4ms/step - loss: 0.3445 - accuracy: 0.8316 - val_loss: 0.4551 - val_accuracy: 0.7913\n",
      "Epoch 15/50\n",
      "27/27 [==============================] - 0s 4ms/step - loss: 0.3389 - accuracy: 0.8432 - val_loss: 0.4670 - val_accuracy: 0.8049\n",
      "Epoch 16/50\n",
      "27/27 [==============================] - 0s 4ms/step - loss: 0.3289 - accuracy: 0.8479 - val_loss: 0.4477 - val_accuracy: 0.7995\n",
      "Epoch 17/50\n",
      "27/27 [==============================] - 0s 4ms/step - loss: 0.3409 - accuracy: 0.8490 - val_loss: 0.4532 - val_accuracy: 0.7995\n"
     ]
    }
   ],
   "source": [
    "import time\n",
    "start_time = time.time()\n",
    "\n",
    "call_back = keras.callbacks.EarlyStopping(patience=5, restore_best_weights=True)\n",
    "history = model.fit(\n",
    "    X_train, \n",
    "    y_train, \n",
    "    epochs=50,\n",
    "    validation_data=(X_test, y_test),\n",
    "    callbacks=[call_back]\n",
    ")\n",
    "\n",
    "end_time = time.time()"
   ]
  },
  {
   "cell_type": "code",
   "execution_count": 13,
   "metadata": {},
   "outputs": [
    {
     "data": {
      "image/png": "[encoded data removed]",
      "text/plain": [
       "<Figure size 1500x700 with 2 Axes>"
      ]
     },
     "metadata": {},
     "output_type": "display_data"
    }
   ],
   "source": [
    "fig, (ax1, ax2) = plt.subplots(1, 2, figsize=(15, 7))\n",
    "fig.suptitle('NN Model Evaluation')\n",
    "\n",
    "ax1.set_title('loss')\n",
    "ax1.set_ylim(0, 1)\n",
    "ax1.plot(history.history['loss'])\n",
    "ax1.plot(history.history['val_loss'])\n",
    "ax1.legend(['train', 'test'], loc='upper left')\n",
    "\n",
    "ax2.set_title('accuracy')\n",
    "ax2.set_ylim(0, 1)\n",
    "ax2.plot(history.history['accuracy'])\n",
    "ax2.plot(history.history['val_accuracy'])\n",
    "ax2.legend(['train', 'test'], loc='upper left')\n",
    "\n",
    "plt.show()"
   ]
  },
  {
   "cell_type": "code",
   "execution_count": 14,
   "metadata": {},
   "outputs": [
    {
     "name": "stdout",
     "output_type": "stream",
     "text": [
      "12/12 [==============================] - 0s 2ms/step\n"
     ]
    },
    {
     "data": {
      "text/plain": [
       "array([[0.9016681 ],\n",
       "       [0.9945599 ],\n",
       "       [0.04267224],\n",
       "       [0.0255304 ],\n",
       "       [0.65555954],\n",
       "       [0.25756532],\n",
       "       [0.9168224 ],\n",
       "       [0.6680493 ],\n",
       "       [0.14144987],\n",
       "       [0.9168985 ]], dtype=float32)"
      ]
     },
     "execution_count": 14,
     "metadata": {},
     "output_type": "execute_result"
    }
   ],
   "source": [
    "y_pred = model.predict(X_test)\n",
    "y_pred[:10]"
   ]
  },
  {
   "cell_type": "code",
   "execution_count": 15,
   "metadata": {},
   "outputs": [
    {
     "name": "stdout",
     "output_type": "stream",
     "text": [
      "12/12 [==============================] - 0s 3ms/step\n",
      "              precision    recall  f1-score   support\n",
      "\n",
      "           0     0.8026    0.7305    0.7649       167\n",
      "           1     0.7926    0.8515    0.8210       202\n",
      "\n",
      "    accuracy                         0.7967       369\n",
      "   macro avg     0.7976    0.7910    0.7929       369\n",
      "weighted avg     0.7972    0.7967    0.7956       369\n",
      "\n"
     ]
    }
   ],
   "source": [
    "from sklearn.metrics import classification_report\n",
    "\n",
    "y_pred = model.predict(X_test)  # these predictions are probabilities (0-1) taken from the sigmoid function\n",
    "y_pred = (y_pred > 0.5).astype('int8') # let's turn these into predictions (0 or 1)\n",
    "\n",
    "print(classification_report(y_test, y_pred, digits=4))"
   ]
  },
  {
   "cell_type": "markdown",
   "metadata": {},
   "source": [
    "Store the results into the results dataframe."
   ]
  },
  {
   "cell_type": "code",
   "execution_count": 16,
   "metadata": {},
   "outputs": [],
   "source": [
    "from sklearn.metrics import accuracy_score, precision_score, recall_score, f1_score\n",
    "\n",
    "df_result = pd.DataFrame(\n",
    "    {\n",
    "        'model': ['NN'], \n",
    "        'time': [end_time - start_time],\n",
    "        'accuracy': [accuracy_score(y_test, y_pred)], \n",
    "        'precision': [precision_score(y_test, y_pred)], \n",
    "        'recall': [recall_score(y_test, y_pred)], \n",
    "        'f1': [f1_score(y_test, y_pred)]\n",
    "    }\n",
    ")\n",
    "\n",
    "df_results = pd.concat([df_results, df_result], ignore_index=True, axis=0)"
   ]
  },
  {
   "cell_type": "markdown",
   "metadata": {},
   "source": [
    "## Transform data for RNN"
   ]
  },
  {
   "cell_type": "markdown",
   "metadata": {},
   "source": [
    "RNN requires input of three dimensions:\n",
    "* The first dimension is the number of observations (games). \n",
    "* The second dimension is the number of time steps (minutes). \n",
    "* The third dimension is the number of features (1). \n",
    "  \n",
    "Our input variable (X) is a sequence of 36 observations. We will use the `reshape` method to reshape the data into a 3D array. The `reshape` method will return a 3D array with the shape (861, 36, 1) for the training data and (369, 36, 1) for the test data."
   ]
  },
  {
   "cell_type": "code",
   "execution_count": 17,
   "metadata": {},
   "outputs": [
    {
     "name": "stdout",
     "output_type": "stream",
     "text": [
      "(861, 36, 1)\n",
      "(369, 36, 1)\n"
     ]
    }
   ],
   "source": [
    "X_train = np.reshape(X_train, (X_train.shape[0], X_train.shape[1], 1))\n",
    "X_test = np.reshape(X_test, (X_test.shape[0], X_test.shape[1], 1))\n",
    "\n",
    "print(X_train.shape)\n",
    "print(X_test.shape)"
   ]
  },
  {
   "cell_type": "markdown",
   "metadata": {},
   "source": [
    "# Simple RNN with one layer"
   ]
  },
  {
   "cell_type": "code",
   "execution_count": 18,
   "metadata": {},
   "outputs": [
    {
     "name": "stdout",
     "output_type": "stream",
     "text": [
      "Model: \"sequential_1\"\n",
      "_________________________________________________________________\n",
      " Layer (type)                Output Shape              Param #   \n",
      "=================================================================\n",
      " simple_rnn (SimpleRNN)      (None, 40)                1680      \n",
      "                                                                 \n",
      " dense_2 (Dense)             (None, 1)                 41        \n",
      "                                                                 \n",
      "=================================================================\n",
      "Total params: 1,721\n",
      "Trainable params: 1,721\n",
      "Non-trainable params: 0\n",
      "_________________________________________________________________\n"
     ]
    }
   ],
   "source": [
    "n_steps = 36\n",
    "n_inputs = 1\n",
    "\n",
    "model = keras.models.Sequential(\n",
    "    [\n",
    "        keras.layers.SimpleRNN(40, input_shape=[n_steps, n_inputs]),\n",
    "        keras.layers.Dense(1, activation='sigmoid')\n",
    "    ]\n",
    ")\n",
    "model.summary()"
   ]
  },
  {
   "cell_type": "markdown",
   "metadata": {},
   "source": [
    "### How to interpret the output shape."
   ]
  },
  {
   "cell_type": "markdown",
   "metadata": {},
   "source": [
    "* First layer:\n",
    "  * None is a wild-card representing the number of observations - this will be the number of observations in a batch that is fed into the network.\n",
    "  * There are 32 RNN units and each produces one output. Therefore, 32 is the output shape.\n",
    "* In the second layer, there is one unit and it produces one output. Therefore, 1 * 1 = 1"
   ]
  },
  {
   "cell_type": "markdown",
   "metadata": {},
   "source": [
    "### Calculate the number of paramaters for the model"
   ]
  },
  {
   "cell_type": "code",
   "execution_count": 19,
   "metadata": {},
   "outputs": [
    {
     "name": "stdout",
     "output_type": "stream",
     "text": [
      "First layer params =  1680\n",
      "Last layer params =  41\n"
     ]
    }
   ],
   "source": [
    "p = 1 # number of parameters per unit (for RNN one remember gate)\n",
    "b = 1 # number of biases per unit, for RNN this is 1 (for GRU this is 3, and LSTM this is 4)\n",
    "\n",
    "##################################\n",
    "# For first layer....\n",
    "\n",
    "h = 40 # number of units in the layer\n",
    "i = 1  # number of inputs (if we are predicting a stock price based on previous stock prices, input = 1. \n",
    "# NOTE: If we are predicting a stock price based on previous stock prices and the price of oil, input = 2), etc.\n",
    "\n",
    "params = p*(h**2+i*h+b*h)\n",
    "print(\"First layer params = \", params)\n",
    "\n",
    "##################################\n",
    "# for the last layer\n",
    "\n",
    "# This is simply 40 outputs coming from the previous later plus 1 bias term\n",
    "print(\"Last layer params = \", 40+1)"
   ]
  },
  {
   "cell_type": "code",
   "execution_count": 20,
   "metadata": {
    "scrolled": true
   },
   "outputs": [],
   "source": [
    "from tensorflow.keras.callbacks import EarlyStopping\n",
    "\n",
    "# If multiclass, use \"sparse_categorical_crossentropy\" as the loss function\n",
    "model.compile(\n",
    "    loss=\"binary_crossentropy\", \n",
    "    optimizer=tf.keras.optimizers.Nadam(learning_rate=0.001), \n",
    "    metrics=['accuracy']\n",
    ")"
   ]
  },
  {
   "cell_type": "code",
   "execution_count": 21,
   "metadata": {},
   "outputs": [
    {
     "name": "stdout",
     "output_type": "stream",
     "text": [
      "Epoch 1/50\n",
      "27/27 [==============================] - 3s 31ms/step - loss: 0.4605 - accuracy: 0.7933 - val_loss: 0.4142 - val_accuracy: 0.8238\n",
      "Epoch 2/50\n",
      "27/27 [==============================] - 0s 11ms/step - loss: 0.4269 - accuracy: 0.8002 - val_loss: 0.4138 - val_accuracy: 0.8076\n",
      "Epoch 3/50\n",
      "27/27 [==============================] - 0s 11ms/step - loss: 0.4184 - accuracy: 0.8002 - val_loss: 0.4048 - val_accuracy: 0.8157\n",
      "Epoch 4/50\n",
      "27/27 [==============================] - 0s 12ms/step - loss: 0.4129 - accuracy: 0.8084 - val_loss: 0.3995 - val_accuracy: 0.8266\n",
      "Epoch 5/50\n",
      "27/27 [==============================] - 0s 12ms/step - loss: 0.4098 - accuracy: 0.8084 - val_loss: 0.3998 - val_accuracy: 0.8211\n",
      "Epoch 6/50\n",
      "27/27 [==============================] - 0s 11ms/step - loss: 0.4063 - accuracy: 0.8118 - val_loss: 0.4023 - val_accuracy: 0.8157\n",
      "Epoch 7/50\n",
      "27/27 [==============================] - 0s 11ms/step - loss: 0.4046 - accuracy: 0.8130 - val_loss: 0.4004 - val_accuracy: 0.8130\n",
      "Epoch 8/50\n",
      "27/27 [==============================] - 0s 11ms/step - loss: 0.4020 - accuracy: 0.8165 - val_loss: 0.3969 - val_accuracy: 0.8211\n",
      "Epoch 9/50\n",
      "27/27 [==============================] - 0s 12ms/step - loss: 0.3989 - accuracy: 0.8142 - val_loss: 0.4008 - val_accuracy: 0.8157\n",
      "Epoch 10/50\n",
      "27/27 [==============================] - 0s 11ms/step - loss: 0.3974 - accuracy: 0.8165 - val_loss: 0.3991 - val_accuracy: 0.8103\n",
      "Epoch 11/50\n",
      "27/27 [==============================] - 0s 12ms/step - loss: 0.3954 - accuracy: 0.8200 - val_loss: 0.3960 - val_accuracy: 0.8238\n",
      "Epoch 12/50\n",
      "27/27 [==============================] - 0s 11ms/step - loss: 0.3940 - accuracy: 0.8188 - val_loss: 0.3982 - val_accuracy: 0.8103\n",
      "Epoch 13/50\n",
      "27/27 [==============================] - 0s 12ms/step - loss: 0.3912 - accuracy: 0.8177 - val_loss: 0.3991 - val_accuracy: 0.8103\n",
      "Epoch 14/50\n",
      "27/27 [==============================] - 0s 12ms/step - loss: 0.3874 - accuracy: 0.8258 - val_loss: 0.4027 - val_accuracy: 0.8130\n",
      "Epoch 15/50\n",
      "27/27 [==============================] - 0s 16ms/step - loss: 0.3862 - accuracy: 0.8211 - val_loss: 0.4005 - val_accuracy: 0.8157\n",
      "Epoch 16/50\n",
      "27/27 [==============================] - 0s 11ms/step - loss: 0.3826 - accuracy: 0.8339 - val_loss: 0.4035 - val_accuracy: 0.8211\n",
      "Epoch 16: early stopping\n"
     ]
    }
   ],
   "source": [
    "import time\n",
    "start_time = time.time()\n",
    "\n",
    "early_stop = EarlyStopping(monitor='val_loss', min_delta = 0.0, patience=5, verbose=1, mode='min')\n",
    "\n",
    "history = model.fit(\n",
    "    X_train, \n",
    "    y_train, \n",
    "    epochs=50,\n",
    "    validation_data=(X_test, y_test), \n",
    "    callbacks=[early_stop]\n",
    ")\n",
    "\n",
    "end_time = time.time()"
   ]
  },
  {
   "cell_type": "code",
   "execution_count": 22,
   "metadata": {},
   "outputs": [
    {
     "data": {
      "image/png": "[encoded data removed]",
      "text/plain": [
       "<Figure size 1500x700 with 2 Axes>"
      ]
     },
     "metadata": {},
     "output_type": "display_data"
    }
   ],
   "source": [
    "fig, (ax1, ax2) = plt.subplots(1, 2, figsize=(15, 7))\n",
    "fig.suptitle('RNN Model Evaluation')\n",
    "\n",
    "ax1.set_title('loss')\n",
    "ax1.set_ylim(0, 1)\n",
    "ax1.plot(history.history['loss'])\n",
    "ax1.plot(history.history['val_loss'])\n",
    "ax1.legend(['train', 'test'], loc='upper left')\n",
    "\n",
    "ax2.set_title('accuracy')\n",
    "ax2.set_ylim(0, 1)\n",
    "ax2.plot(history.history['accuracy'])\n",
    "ax2.plot(history.history['val_accuracy'])\n",
    "ax2.legend(['train', 'test'], loc='upper left')\n",
    "\n",
    "plt.show()"
   ]
  },
  {
   "cell_type": "code",
   "execution_count": 23,
   "metadata": {},
   "outputs": [
    {
     "name": "stdout",
     "output_type": "stream",
     "text": [
      "12/12 [==============================] - 0s 4ms/step\n",
      "              precision    recall  f1-score   support\n",
      "\n",
      "           0     0.8176    0.7784    0.7975       167\n",
      "           1     0.8238    0.8564    0.8398       202\n",
      "\n",
      "    accuracy                         0.8211       369\n",
      "   macro avg     0.8207    0.8174    0.8187       369\n",
      "weighted avg     0.8210    0.8211    0.8207       369\n",
      "\n"
     ]
    }
   ],
   "source": [
    "from sklearn.metrics import classification_report\n",
    "\n",
    "y_pred = model.predict(X_test)  # these predictions are probabilities (0-1) taken from the sigmoid function\n",
    "y_pred = (y_pred > 0.5) # let's turn these into predictions (0 or 1)\n",
    "\n",
    "print(classification_report(y_test, y_pred, digits=4))"
   ]
  },
  {
   "cell_type": "code",
   "execution_count": 24,
   "metadata": {},
   "outputs": [],
   "source": [
    "from sklearn.metrics import accuracy_score, precision_score, recall_score, f1_score\n",
    "\n",
    "df_result = pd.DataFrame(\n",
    "    {\n",
    "        'model': ['RNN'], \n",
    "        'time': [end_time - start_time],\n",
    "        'accuracy': [accuracy_score(y_test, y_pred)], \n",
    "        'precision': [precision_score(y_test, y_pred)], \n",
    "        'recall': [recall_score(y_test, y_pred)], \n",
    "        'f1': [f1_score(y_test, y_pred)]\n",
    "    }\n",
    ")\n",
    "\n",
    "df_results = pd.concat([df_results, df_result], ignore_index=True, axis=0)"
   ]
  },
  {
   "cell_type": "markdown",
   "metadata": {},
   "source": [
    "# Deep RNN\n",
    "\n",
    "**Be careful: when stacking RNN layers, you have to set \"return_sequences\" to True. This enables the layer to send a \"sequence\" of values to the next layer -- jut like how it uses a sequence of values for training.**\n",
    "\n",
    "**Since the last layer is DENSE, it can't take sequence data. Therefore, you CANNOT return sequences from the previous layer. So, remove** `return_sequences` **from previous layer.**"
   ]
  },
  {
   "cell_type": "code",
   "execution_count": 25,
   "metadata": {},
   "outputs": [],
   "source": [
    "n_steps = 36\n",
    "n_inputs = 1\n",
    "\n",
    "model = keras.models.Sequential(\n",
    "    [\n",
    "        keras.layers.SimpleRNN(32, return_sequences=True, input_shape=[n_steps, n_inputs]),\n",
    "        keras.layers.SimpleRNN(16, return_sequences=True),\n",
    "        keras.layers.SimpleRNN(32, return_sequences=False), \n",
    "        keras.layers.Dense(1, activation='sigmoid')\n",
    "    ]\n",
    ")"
   ]
  },
  {
   "cell_type": "code",
   "execution_count": 26,
   "metadata": {
    "scrolled": true
   },
   "outputs": [
    {
     "name": "stdout",
     "output_type": "stream",
     "text": [
      "Model: \"sequential_2\"\n",
      "_________________________________________________________________\n",
      " Layer (type)                Output Shape              Param #   \n",
      "=================================================================\n",
      " simple_rnn_1 (SimpleRNN)    (None, 36, 32)            1088      \n",
      "                                                                 \n",
      " simple_rnn_2 (SimpleRNN)    (None, 36, 16)            784       \n",
      "                                                                 \n",
      " simple_rnn_3 (SimpleRNN)    (None, 32)                1568      \n",
      "                                                                 \n",
      " dense_3 (Dense)             (None, 1)                 33        \n",
      "                                                                 \n",
      "=================================================================\n",
      "Total params: 3,473\n",
      "Trainable params: 3,473\n",
      "Non-trainable params: 0\n",
      "_________________________________________________________________\n"
     ]
    }
   ],
   "source": [
    "model.compile(\n",
    "    loss=\"binary_crossentropy\", \n",
    "    optimizer=keras.optimizers.Nadam(learning_rate=0.001),\n",
    "    metrics=['accuracy']\n",
    ")\n",
    "\n",
    "model.summary()"
   ]
  },
  {
   "cell_type": "markdown",
   "metadata": {},
   "source": [
    "### How to  intepret the output shape?\n",
    "\n",
    "* First layer:\n",
    "  * None is a wild-card representing the number of observations - this will be the number of observations in a batch that is fed into the network.\n",
    "  * There are 36 features (which are the 'time steps' of values in the sequence), and there are 32 RNN units.\n",
    "    * (batch size, time steps, features) = (None, 36, 32)\n",
    "* etc. (see previous models where I elaborate on the output shape - writing this is getting repetitive)"
   ]
  },
  {
   "cell_type": "markdown",
   "metadata": {},
   "source": [
    "### Calculate the number of paramaters for the model"
   ]
  },
  {
   "cell_type": "code",
   "execution_count": 27,
   "metadata": {},
   "outputs": [
    {
     "name": "stdout",
     "output_type": "stream",
     "text": [
      "First layer params =  1088\n",
      "Second layer params =  784\n",
      "Third layer params =  1568\n",
      "Last layer params =  33\n"
     ]
    }
   ],
   "source": [
    "p = 1 # number of parameters per unit (for RNN one remember gate)\n",
    "b = 1 # number of biases per unit, for RNN this is 1 (for GRU this is 3, and LSTM this is 4)\n",
    "\n",
    "##################################\n",
    "# For first layer....\n",
    "\n",
    "h = 32 # number of units in the layer\n",
    "i = 1  # number of inputs (if we are predicting a stock price based on previous stock prices, input = 1. \n",
    "# NOTE: If we are predicting a stock price based on previous stock prices and the price of oil, input = 2), etc.\n",
    "\n",
    "params = p*(h**2+i*h+b*h)\n",
    "print(\"First layer params = \", params)\n",
    "\n",
    "##################################\n",
    "# For second layer....\n",
    "\n",
    "h = 16 # number of units in the layer\n",
    "i = 32  # number of inputs (if we are predicting a stock price based on previous stock prices, input = 1. \n",
    "# NOTE: If we are predicting a stock price based on previous stock prices and the price of oil, input = 2), etc.\n",
    "\n",
    "params = p*(h**2+i*h+b*h)\n",
    "print(\"Second layer params = \", params)\n",
    "\n",
    "##################################\n",
    "# For third layer....\n",
    "\n",
    "h = 32 # number of units in the layer\n",
    "i = 16  # number of inputs (previous layer has 16 inutes, so we have 16 inputs)\n",
    "\n",
    "params = p*(h**2+i*h+b*h)\n",
    "print(\"Third layer params = \", params)\n",
    "\n",
    "\n",
    "##################################\n",
    "# for the last layer\n",
    "\n",
    "# This is simply 32 outputs coming from the previous later plus 1 bias term\n",
    "print(\"Last layer params = \", 32+1)"
   ]
  },
  {
   "cell_type": "code",
   "execution_count": 28,
   "metadata": {},
   "outputs": [],
   "source": [
    "from tensorflow.keras.callbacks import EarlyStopping\n",
    "\n",
    "# If multiclass, use \"sparse_categorical_crossentropy\" as the loss function\n",
    "model.compile(\n",
    "    loss=\"binary_crossentropy\", \n",
    "    optimizer=tf.keras.optimizers.Nadam(learning_rate=0.001), \n",
    "    metrics=['accuracy']\n",
    ")"
   ]
  },
  {
   "cell_type": "code",
   "execution_count": 29,
   "metadata": {},
   "outputs": [
    {
     "name": "stdout",
     "output_type": "stream",
     "text": [
      "Epoch 1/20\n",
      "27/27 [==============================] - 8s 62ms/step - loss: 0.4654 - accuracy: 0.7921 - val_loss: 0.4037 - val_accuracy: 0.8184\n",
      "Epoch 2/20\n",
      "27/27 [==============================] - 1s 28ms/step - loss: 0.4198 - accuracy: 0.8002 - val_loss: 0.4287 - val_accuracy: 0.8049\n",
      "Epoch 3/20\n",
      "27/27 [==============================] - 1s 27ms/step - loss: 0.4085 - accuracy: 0.8095 - val_loss: 0.4060 - val_accuracy: 0.8130\n",
      "Epoch 4/20\n",
      "27/27 [==============================] - 1s 28ms/step - loss: 0.4028 - accuracy: 0.8118 - val_loss: 0.3947 - val_accuracy: 0.8130\n",
      "Epoch 5/20\n",
      "27/27 [==============================] - 1s 29ms/step - loss: 0.3973 - accuracy: 0.8188 - val_loss: 0.4016 - val_accuracy: 0.7995\n",
      "Epoch 6/20\n",
      "27/27 [==============================] - 1s 28ms/step - loss: 0.3917 - accuracy: 0.8258 - val_loss: 0.4182 - val_accuracy: 0.7967\n",
      "Epoch 7/20\n",
      "27/27 [==============================] - 1s 27ms/step - loss: 0.3870 - accuracy: 0.8304 - val_loss: 0.4109 - val_accuracy: 0.8076\n",
      "Epoch 8/20\n",
      "27/27 [==============================] - 1s 29ms/step - loss: 0.3821 - accuracy: 0.8386 - val_loss: 0.4094 - val_accuracy: 0.8076\n",
      "Epoch 9/20\n",
      "27/27 [==============================] - 1s 29ms/step - loss: 0.3752 - accuracy: 0.8351 - val_loss: 0.4129 - val_accuracy: 0.7913\n",
      "Epoch 9: early stopping\n"
     ]
    }
   ],
   "source": [
    "import time\n",
    "start_time = time.time()\n",
    "\n",
    "early_stop = EarlyStopping(monitor='val_loss', min_delta=0.0, patience=5, verbose=1, mode='auto')\n",
    "\n",
    "history = model.fit(\n",
    "    X_train, \n",
    "    y_train, \n",
    "    epochs=20,\n",
    "    validation_data = (X_test, y_test), \n",
    "    callbacks=[early_stop]\n",
    ")  \n",
    "\n",
    "end_time = time.time()"
   ]
  },
  {
   "cell_type": "code",
   "execution_count": 30,
   "metadata": {},
   "outputs": [
    {
     "data": {
      "image/png": "[encoded data removed]",
      "text/plain": [
       "<Figure size 1500x700 with 2 Axes>"
      ]
     },
     "metadata": {},
     "output_type": "display_data"
    }
   ],
   "source": [
    "fig, (ax1, ax2) = plt.subplots(1, 2, figsize=(15, 7))\n",
    "fig.suptitle('Deep RNN Model Evaluation')\n",
    "\n",
    "ax1.set_title('loss')\n",
    "ax1.set_ylim(0, 1)\n",
    "ax1.plot(history.history['loss'])\n",
    "ax1.plot(history.history['val_loss'])\n",
    "ax1.legend(['train', 'test'], loc='upper left')\n",
    "\n",
    "ax2.set_title('accuracy')\n",
    "ax2.set_ylim(0, 1)\n",
    "ax2.plot(history.history['accuracy'])\n",
    "ax2.plot(history.history['val_accuracy'])\n",
    "ax2.legend(['train', 'test'], loc='upper left')\n",
    "\n",
    "plt.show()"
   ]
  },
  {
   "cell_type": "code",
   "execution_count": 31,
   "metadata": {},
   "outputs": [
    {
     "name": "stdout",
     "output_type": "stream",
     "text": [
      "12/12 [==============================] - 1s 10ms/step\n",
      "              precision    recall  f1-score   support\n",
      "\n",
      "           0     0.7812    0.7485    0.7645       167\n",
      "           1     0.7990    0.8267    0.8127       202\n",
      "\n",
      "    accuracy                         0.7913       369\n",
      "   macro avg     0.7901    0.7876    0.7886       369\n",
      "weighted avg     0.7910    0.7913    0.7909       369\n",
      "\n"
     ]
    }
   ],
   "source": [
    "from sklearn.metrics import classification_report\n",
    "\n",
    "y_pred = model.predict(X_test)  # these predictions are probabilities (0-1) taken from the sigmoid function\n",
    "y_pred = (y_pred > 0.5) # let's turn these into predictions (0 or 1)\n",
    "\n",
    "print(classification_report(y_test, y_pred, digits=4))"
   ]
  },
  {
   "cell_type": "code",
   "execution_count": 32,
   "metadata": {},
   "outputs": [],
   "source": [
    "from sklearn.metrics import accuracy_score, precision_score, recall_score, f1_score\n",
    "\n",
    "df_result = pd.DataFrame(\n",
    "    {\n",
    "        'model': ['Deep RNN'], \n",
    "        'time': [end_time - start_time],\n",
    "        'accuracy': [accuracy_score(y_test, y_pred)], \n",
    "        'precision': [precision_score(y_test, y_pred)], \n",
    "        'recall': [recall_score(y_test, y_pred)], \n",
    "        'f1': [f1_score(y_test, y_pred)]\n",
    "    }\n",
    ")\n",
    "\n",
    "df_results = pd.concat([df_results, df_result], ignore_index=True, axis=0)"
   ]
  },
  {
   "cell_type": "markdown",
   "metadata": {},
   "source": [
    "# LSTM with one layer"
   ]
  },
  {
   "cell_type": "code",
   "execution_count": 33,
   "metadata": {},
   "outputs": [],
   "source": [
    "n_steps = 36\n",
    "n_inputs = 1\n",
    "\n",
    "model = keras.models.Sequential(\n",
    "    [\n",
    "        keras.layers.LSTM(32, input_shape=[n_steps, n_inputs]),\n",
    "        keras.layers.Dense(1, activation='sigmoid')\n",
    "    ]\n",
    ")"
   ]
  },
  {
   "cell_type": "code",
   "execution_count": 34,
   "metadata": {
    "scrolled": true
   },
   "outputs": [
    {
     "name": "stdout",
     "output_type": "stream",
     "text": [
      "Model: \"sequential_3\"\n",
      "_________________________________________________________________\n",
      " Layer (type)                Output Shape              Param #   \n",
      "=================================================================\n",
      " lstm (LSTM)                 (None, 32)                4352      \n",
      "                                                                 \n",
      " dense_4 (Dense)             (None, 1)                 33        \n",
      "                                                                 \n",
      "=================================================================\n",
      "Total params: 4,385\n",
      "Trainable params: 4,385\n",
      "Non-trainable params: 0\n",
      "_________________________________________________________________\n"
     ]
    }
   ],
   "source": [
    "model.compile(\n",
    "    loss=\"binary_crossentropy\", \n",
    "    optimizer=keras.optimizers.Nadam(learning_rate=0.001), \n",
    "    metrics=['accuracy']\n",
    ")\n",
    "model.summary()"
   ]
  },
  {
   "cell_type": "markdown",
   "metadata": {},
   "source": [
    "### Calculate the number of paramaters for the model"
   ]
  },
  {
   "cell_type": "code",
   "execution_count": 35,
   "metadata": {},
   "outputs": [
    {
     "name": "stdout",
     "output_type": "stream",
     "text": [
      "First layer params =  4352\n",
      "Last layer params =  33\n"
     ]
    }
   ],
   "source": [
    "p = 4 # number of parameters per unit (for LSTM: 1 forget gate, 2 input gates, and 1 output gate)\n",
    "b = 1 # number of biases per unit, for LSTM this is 1\n",
    "\n",
    "##################################\n",
    "# For first layer....\n",
    "\n",
    "h = 32 # number of units in the layer\n",
    "i = 1  # number of inputs (if we are predicting a stock price based on previous stock prices, input = 1. \n",
    "# NOTE: If we are predicting a stock price based on previous stock prices and the price of oil, input = 2), etc.\n",
    "\n",
    "params = p*(h**2+i*h+b*h)\n",
    "print(\"First layer params = \", params)\n",
    "\n",
    "##################################\n",
    "# for the last layer\n",
    "\n",
    "# This is simply 32 outputs coming from the previous later plus 1 bias term\n",
    "print(\"Last layer params = \", 32+1)"
   ]
  },
  {
   "cell_type": "code",
   "execution_count": 36,
   "metadata": {},
   "outputs": [
    {
     "name": "stdout",
     "output_type": "stream",
     "text": [
      "Epoch 1/20\n",
      "27/27 [==============================] - 7s 63ms/step - loss: 0.5648 - accuracy: 0.7851 - val_loss: 0.4828 - val_accuracy: 0.8293\n",
      "Epoch 2/20\n",
      "27/27 [==============================] - 1s 24ms/step - loss: 0.4863 - accuracy: 0.7944 - val_loss: 0.4355 - val_accuracy: 0.8320\n",
      "Epoch 3/20\n",
      "27/27 [==============================] - 1s 23ms/step - loss: 0.4566 - accuracy: 0.7851 - val_loss: 0.4187 - val_accuracy: 0.8320\n",
      "Epoch 4/20\n",
      "27/27 [==============================] - 1s 23ms/step - loss: 0.4436 - accuracy: 0.7875 - val_loss: 0.4109 - val_accuracy: 0.8266\n",
      "Epoch 5/20\n",
      "27/27 [==============================] - 1s 23ms/step - loss: 0.4356 - accuracy: 0.7898 - val_loss: 0.4074 - val_accuracy: 0.8238\n",
      "Epoch 6/20\n",
      "27/27 [==============================] - 1s 27ms/step - loss: 0.4289 - accuracy: 0.7909 - val_loss: 0.4054 - val_accuracy: 0.8266\n",
      "Epoch 7/20\n",
      "27/27 [==============================] - 1s 23ms/step - loss: 0.4251 - accuracy: 0.7921 - val_loss: 0.4042 - val_accuracy: 0.8238\n",
      "Epoch 8/20\n",
      "27/27 [==============================] - 1s 23ms/step - loss: 0.4212 - accuracy: 0.7967 - val_loss: 0.3992 - val_accuracy: 0.8266\n",
      "Epoch 9/20\n",
      "27/27 [==============================] - 1s 24ms/step - loss: 0.4171 - accuracy: 0.8014 - val_loss: 0.3991 - val_accuracy: 0.8266\n",
      "Epoch 10/20\n",
      "27/27 [==============================] - 1s 23ms/step - loss: 0.4153 - accuracy: 0.8049 - val_loss: 0.3987 - val_accuracy: 0.8238\n",
      "Epoch 11/20\n",
      "27/27 [==============================] - 1s 24ms/step - loss: 0.4132 - accuracy: 0.8002 - val_loss: 0.3956 - val_accuracy: 0.8293\n",
      "Epoch 12/20\n",
      "27/27 [==============================] - 1s 24ms/step - loss: 0.4115 - accuracy: 0.8049 - val_loss: 0.3964 - val_accuracy: 0.8238\n",
      "Epoch 13/20\n",
      "27/27 [==============================] - 1s 23ms/step - loss: 0.4090 - accuracy: 0.8049 - val_loss: 0.3959 - val_accuracy: 0.8266\n",
      "Epoch 14/20\n",
      "27/27 [==============================] - 1s 23ms/step - loss: 0.4072 - accuracy: 0.8095 - val_loss: 0.3981 - val_accuracy: 0.8211\n",
      "Epoch 15/20\n",
      "27/27 [==============================] - 1s 24ms/step - loss: 0.4066 - accuracy: 0.8130 - val_loss: 0.3994 - val_accuracy: 0.8184\n",
      "Epoch 16/20\n",
      "27/27 [==============================] - 1s 24ms/step - loss: 0.4040 - accuracy: 0.8130 - val_loss: 0.3999 - val_accuracy: 0.8211\n",
      "Epoch 16: early stopping\n"
     ]
    }
   ],
   "source": [
    "import time\n",
    "start_time = time.time()\n",
    "\n",
    "early_stop = EarlyStopping(monitor='val_loss', min_delta = 0.0, patience=5, verbose=1, mode='min')\n",
    "\n",
    "history = model.fit(\n",
    "    X_train, \n",
    "    y_train, \n",
    "    epochs=20,\n",
    "    validation_data=(X_test, y_test),\n",
    "    callbacks=[early_stop]\n",
    ") \n",
    "\n",
    "end_time = time.time()"
   ]
  },
  {
   "cell_type": "code",
   "execution_count": 37,
   "metadata": {},
   "outputs": [
    {
     "data": {
      "image/png": "[encoded data removed]",
      "text/plain": [
       "<Figure size 1500x700 with 2 Axes>"
      ]
     },
     "metadata": {},
     "output_type": "display_data"
    }
   ],
   "source": [
    "fig, (ax1, ax2) = plt.subplots(1, 2, figsize=(15, 7))\n",
    "fig.suptitle('LSTM Model Evaluation')\n",
    "\n",
    "ax1.set_title('loss')\n",
    "ax1.set_ylim(0, 1)\n",
    "ax1.plot(history.history['loss'])\n",
    "ax1.plot(history.history['val_loss'])\n",
    "ax1.legend(['train', 'test'], loc='upper left')\n",
    "\n",
    "ax2.set_title('accuracy')\n",
    "ax2.set_ylim(0, 1)\n",
    "ax2.plot(history.history['accuracy'])\n",
    "ax2.plot(history.history['val_accuracy'])\n",
    "ax2.legend(['train', 'test'], loc='upper left')\n",
    "\n",
    "plt.show()"
   ]
  },
  {
   "cell_type": "code",
   "execution_count": 38,
   "metadata": {},
   "outputs": [
    {
     "name": "stdout",
     "output_type": "stream",
     "text": [
      "12/12 [==============================] - 1s 13ms/step\n",
      "              precision    recall  f1-score   support\n",
      "\n",
      "           0     0.8217    0.7725    0.7963       167\n",
      "           1     0.8208    0.8614    0.8406       202\n",
      "\n",
      "    accuracy                         0.8211       369\n",
      "   macro avg     0.8212    0.8169    0.8184       369\n",
      "weighted avg     0.8212    0.8211    0.8205       369\n",
      "\n"
     ]
    }
   ],
   "source": [
    "from sklearn.metrics import classification_report\n",
    "\n",
    "y_pred = model.predict(X_test)  # these predictions are probabilities (0-1) taken from the sigmoid function\n",
    "y_pred = (y_pred > 0.5) # let's turn these into predictions (0 or 1)\n",
    "\n",
    "print(classification_report(y_test, y_pred, digits=4))"
   ]
  },
  {
   "cell_type": "code",
   "execution_count": 39,
   "metadata": {},
   "outputs": [],
   "source": [
    "from sklearn.metrics import accuracy_score, precision_score, recall_score, f1_score\n",
    "\n",
    "df_result = pd.DataFrame(\n",
    "    {\n",
    "        'model': ['LSTM'], \n",
    "        'time': [end_time - start_time],\n",
    "        'accuracy': [accuracy_score(y_test, y_pred)], \n",
    "        'precision': [precision_score(y_test, y_pred)], \n",
    "        'recall': [recall_score(y_test, y_pred)], \n",
    "        'f1': [f1_score(y_test, y_pred)]\n",
    "    }\n",
    ")\n",
    "\n",
    "df_results = pd.concat([df_results, df_result], ignore_index=True, axis=0)"
   ]
  },
  {
   "cell_type": "markdown",
   "metadata": {},
   "source": [
    "# LSTM with more layers"
   ]
  },
  {
   "cell_type": "code",
   "execution_count": 40,
   "metadata": {},
   "outputs": [],
   "source": [
    "n_steps = 36\n",
    "n_inputs = 1\n",
    "\n",
    "model = keras.models.Sequential([\n",
    "    keras.layers.LSTM(32, return_sequences=True, input_shape=[n_steps, n_inputs]),\n",
    "    keras.layers.LSTM(32, return_sequences=True),\n",
    "    keras.layers.LSTM(32),\n",
    "    keras.layers.Dense(1, activation='sigmoid')\n",
    "])"
   ]
  },
  {
   "cell_type": "code",
   "execution_count": 41,
   "metadata": {
    "scrolled": true
   },
   "outputs": [
    {
     "name": "stdout",
     "output_type": "stream",
     "text": [
      "Model: \"sequential_4\"\n",
      "_________________________________________________________________\n",
      " Layer (type)                Output Shape              Param #   \n",
      "=================================================================\n",
      " lstm_1 (LSTM)               (None, 36, 32)            4352      \n",
      "                                                                 \n",
      " lstm_2 (LSTM)               (None, 36, 32)            8320      \n",
      "                                                                 \n",
      " lstm_3 (LSTM)               (None, 32)                8320      \n",
      "                                                                 \n",
      " dense_5 (Dense)             (None, 1)                 33        \n",
      "                                                                 \n",
      "=================================================================\n",
      "Total params: 21,025\n",
      "Trainable params: 21,025\n",
      "Non-trainable params: 0\n",
      "_________________________________________________________________\n"
     ]
    }
   ],
   "source": [
    "np.random.seed(42)\n",
    "tf.random.set_seed(42)\n",
    "\n",
    "model.compile(\n",
    "    loss=\"binary_crossentropy\", \n",
    "    optimizer=keras.optimizers.Nadam(learning_rate=0.001),\n",
    "    metrics=['accuracy']\n",
    ")\n",
    "\n",
    "model.summary()"
   ]
  },
  {
   "cell_type": "markdown",
   "metadata": {},
   "source": [
    "### Calculate the number of paramaters for the model"
   ]
  },
  {
   "cell_type": "code",
   "execution_count": 42,
   "metadata": {},
   "outputs": [
    {
     "name": "stdout",
     "output_type": "stream",
     "text": [
      "First layer params =  4352\n",
      "Second layer params =  8320\n",
      "Third layer params =  8320\n",
      "Last layer params =  33\n"
     ]
    }
   ],
   "source": [
    "# Everything is the same as calculating the RNN, except for p\n",
    "p = 4 # number of parameters per unit (for LSTM - 1 forget gate, 2 input gates, and 1 output gate)\n",
    "b = 1 # number of biases per unit, for LSTM this is 1\n",
    "\n",
    "##################################\n",
    "# For first layer....\n",
    "\n",
    "h = 32 # number of units in the layer\n",
    "i = 1  # number of inputs (if we are predicting a stock price based on previous stock prices, input = 1. \n",
    "# NOTE: If we are predicting a stock price based on previous stock prices and the price of oil, input = 2), etc.\n",
    "\n",
    "params = p*(h**2+i*h+b*h)\n",
    "print(\"First layer params = \", params)\n",
    "\n",
    "##################################\n",
    "# for the second layer\n",
    "\n",
    "h = 32 # number of units in the layer\n",
    "i = 32  # number of inputs (previous layer has 32 units, therefore 32 incoming inputs)\n",
    "\n",
    "params = p*(h**2+i*h+b*h)\n",
    "print(\"Second layer params = \", params)\n",
    "\n",
    "##################################\n",
    "# for the third layer\n",
    "\n",
    "h = 32 # number of units in the layer\n",
    "i = 32  # number of inputs (previous layer has 32 units, therefore 32 incoming inputs)\n",
    "\n",
    "params = p*(h**2+i*h+b*h)\n",
    "print(\"Third layer params = \", params)\n",
    "\n",
    "\n",
    "##################################\n",
    "# for the last layer\n",
    "\n",
    "# This is simply 32 outputs coming from the previous later plus 1 bias term\n",
    "print(\"Last layer params = \", 32+1)"
   ]
  },
  {
   "cell_type": "code",
   "execution_count": 43,
   "metadata": {},
   "outputs": [
    {
     "name": "stdout",
     "output_type": "stream",
     "text": [
      "Epoch 1/20\n",
      "27/27 [==============================] - 25s 249ms/step - loss: 0.5551 - accuracy: 0.7456 - val_loss: 0.4832 - val_accuracy: 0.7615\n",
      "Epoch 2/20\n",
      "27/27 [==============================] - 3s 110ms/step - loss: 0.4973 - accuracy: 0.7584 - val_loss: 0.4558 - val_accuracy: 0.7751\n",
      "Epoch 3/20\n",
      "27/27 [==============================] - 3s 108ms/step - loss: 0.4747 - accuracy: 0.7654 - val_loss: 0.4325 - val_accuracy: 0.8157\n",
      "Epoch 4/20\n",
      "27/27 [==============================] - 3s 112ms/step - loss: 0.4625 - accuracy: 0.7700 - val_loss: 0.4265 - val_accuracy: 0.8211\n",
      "Epoch 5/20\n",
      "27/27 [==============================] - 3s 112ms/step - loss: 0.4564 - accuracy: 0.7793 - val_loss: 0.4268 - val_accuracy: 0.8293\n",
      "Epoch 6/20\n",
      "27/27 [==============================] - 3s 112ms/step - loss: 0.4469 - accuracy: 0.7770 - val_loss: 0.4259 - val_accuracy: 0.8320\n",
      "Epoch 7/20\n",
      "27/27 [==============================] - 3s 122ms/step - loss: 0.4401 - accuracy: 0.7886 - val_loss: 0.4194 - val_accuracy: 0.8293\n",
      "Epoch 8/20\n",
      "27/27 [==============================] - 3s 119ms/step - loss: 0.4393 - accuracy: 0.7805 - val_loss: 0.4266 - val_accuracy: 0.8428\n",
      "Epoch 9/20\n",
      "27/27 [==============================] - 3s 115ms/step - loss: 0.4299 - accuracy: 0.7851 - val_loss: 0.4110 - val_accuracy: 0.8401\n",
      "Epoch 10/20\n",
      "27/27 [==============================] - 3s 118ms/step - loss: 0.4263 - accuracy: 0.7921 - val_loss: 0.4192 - val_accuracy: 0.8266\n",
      "Epoch 11/20\n",
      "27/27 [==============================] - 3s 114ms/step - loss: 0.4195 - accuracy: 0.7863 - val_loss: 0.4108 - val_accuracy: 0.8076\n",
      "Epoch 12/20\n",
      "27/27 [==============================] - 3s 111ms/step - loss: 0.4155 - accuracy: 0.7828 - val_loss: 0.4220 - val_accuracy: 0.8049\n",
      "Epoch 13/20\n",
      "27/27 [==============================] - 3s 111ms/step - loss: 0.4128 - accuracy: 0.7886 - val_loss: 0.4103 - val_accuracy: 0.8184\n",
      "Epoch 14/20\n",
      "27/27 [==============================] - 3s 111ms/step - loss: 0.4079 - accuracy: 0.7979 - val_loss: 0.4121 - val_accuracy: 0.8103\n",
      "Epoch 15/20\n",
      "27/27 [==============================] - 3s 114ms/step - loss: 0.4043 - accuracy: 0.7991 - val_loss: 0.4086 - val_accuracy: 0.8022\n",
      "Epoch 16/20\n",
      "27/27 [==============================] - 3s 111ms/step - loss: 0.3981 - accuracy: 0.8060 - val_loss: 0.4082 - val_accuracy: 0.8184\n",
      "Epoch 17/20\n",
      "27/27 [==============================] - 3s 113ms/step - loss: 0.3984 - accuracy: 0.8014 - val_loss: 0.4096 - val_accuracy: 0.7967\n",
      "Epoch 18/20\n",
      "27/27 [==============================] - 3s 111ms/step - loss: 0.3946 - accuracy: 0.8026 - val_loss: 0.4168 - val_accuracy: 0.7967\n",
      "Epoch 19/20\n",
      "27/27 [==============================] - 3s 112ms/step - loss: 0.3915 - accuracy: 0.8107 - val_loss: 0.4147 - val_accuracy: 0.8076\n",
      "Epoch 20/20\n",
      "27/27 [==============================] - 3s 110ms/step - loss: 0.3872 - accuracy: 0.8060 - val_loss: 0.4183 - val_accuracy: 0.7967\n"
     ]
    }
   ],
   "source": [
    "import time\n",
    "start_time = time.time()\n",
    "\n",
    "early_stop = EarlyStopping(monitor='val_loss', min_delta = 0.0, patience=5, verbose=1, mode='min')\n",
    "\n",
    "history = model.fit(\n",
    "    X_train, \n",
    "    y_train, \n",
    "    epochs=20,\n",
    "    validation_data=(X_test, y_test), \n",
    "    callbacks=[early_stop] # we defined this early_stop callback function earlier\n",
    ")\n",
    "\n",
    "end_time = time.time()"
   ]
  },
  {
   "cell_type": "code",
   "execution_count": 45,
   "metadata": {},
   "outputs": [
    {
     "data": {
      "image/png": "[encoded data removed]",
      "text/plain": [
       "<Figure size 1500x700 with 2 Axes>"
      ]
     },
     "metadata": {},
     "output_type": "display_data"
    }
   ],
   "source": [
    "fig, (ax1, ax2) = plt.subplots(1, 2, figsize=(15, 7))\n",
    "fig.suptitle('Deep LSTM Model Evaluation')\n",
    "\n",
    "ax1.set_title('loss')\n",
    "ax1.set_ylim(0, 1)\n",
    "ax1.plot(history.history['loss'])\n",
    "ax1.plot(history.history['val_loss'])\n",
    "ax1.legend(['train', 'test'], loc='upper left')\n",
    "\n",
    "ax2.set_title('accuracy')\n",
    "ax2.set_ylim(0, 1)\n",
    "ax2.plot(history.history['accuracy'])\n",
    "ax2.plot(history.history['val_accuracy'])\n",
    "ax2.legend(['train', 'test'], loc='upper left')\n",
    "\n",
    "plt.show()"
   ]
  },
  {
   "cell_type": "code",
   "execution_count": 44,
   "metadata": {},
   "outputs": [
    {
     "name": "stdout",
     "output_type": "stream",
     "text": [
      "12/12 [==============================] - 4s 32ms/step\n",
      "              precision    recall  f1-score   support\n",
      "\n",
      "           0     0.8239    0.7006    0.7573       167\n",
      "           1     0.7797    0.8762    0.8252       202\n",
      "\n",
      "    accuracy                         0.7967       369\n",
      "   macro avg     0.8018    0.7884    0.7912       369\n",
      "weighted avg     0.7997    0.7967    0.7944       369\n",
      "\n"
     ]
    }
   ],
   "source": [
    "from sklearn.metrics import classification_report\n",
    "\n",
    "y_pred = model.predict(X_test)  # these predictions are probabilities (0-1) taken from the sigmoid function\n",
    "y_pred = (y_pred > 0.5) # let's turn these into predictions (0 or 1)\n",
    "\n",
    "print(classification_report(y_test, y_pred, digits=4))"
   ]
  },
  {
   "cell_type": "code",
   "execution_count": 45,
   "metadata": {},
   "outputs": [],
   "source": [
    "from sklearn.metrics import accuracy_score, precision_score, recall_score, f1_score\n",
    "\n",
    "df_result = pd.DataFrame(\n",
    "    {\n",
    "        'model': ['Deep LSTM'], \n",
    "        'time': [end_time - start_time],\n",
    "        'accuracy': [accuracy_score(y_test, y_pred)], \n",
    "        'precision': [precision_score(y_test, y_pred)], \n",
    "        'recall': [recall_score(y_test, y_pred)], \n",
    "        'f1': [f1_score(y_test, y_pred)]\n",
    "    }\n",
    ")\n",
    "\n",
    "df_results = pd.concat([df_results, df_result], ignore_index=True, axis=0)"
   ]
  },
  {
   "cell_type": "markdown",
   "metadata": {},
   "source": [
    "# GRU with one layer"
   ]
  },
  {
   "cell_type": "code",
   "execution_count": 46,
   "metadata": {},
   "outputs": [],
   "source": [
    "n_steps = 36\n",
    "n_inputs = 1\n",
    "\n",
    "model = keras.models.Sequential([\n",
    "    keras.layers.GRU(32, input_shape=[n_steps, n_inputs]),\n",
    "    keras.layers.Dense(1, activation='sigmoid')\n",
    "])"
   ]
  },
  {
   "cell_type": "code",
   "execution_count": 47,
   "metadata": {
    "scrolled": true
   },
   "outputs": [
    {
     "name": "stdout",
     "output_type": "stream",
     "text": [
      "Model: \"sequential_5\"\n",
      "_________________________________________________________________\n",
      " Layer (type)                Output Shape              Param #   \n",
      "=================================================================\n",
      " gru (GRU)                   (None, 32)                3360      \n",
      "                                                                 \n",
      " dense_6 (Dense)             (None, 1)                 33        \n",
      "                                                                 \n",
      "=================================================================\n",
      "Total params: 3,393\n",
      "Trainable params: 3,393\n",
      "Non-trainable params: 0\n",
      "_________________________________________________________________\n"
     ]
    }
   ],
   "source": [
    "model.compile(\n",
    "    loss=\"binary_crossentropy\", \n",
    "    optimizer=keras.optimizers.Nadam(learning_rate=0.001), \n",
    "    metrics=['accuracy']\n",
    ")\n",
    "model.summary()"
   ]
  },
  {
   "cell_type": "markdown",
   "metadata": {},
   "source": [
    "### Calculate the number of paramaters for the model"
   ]
  },
  {
   "cell_type": "code",
   "execution_count": 48,
   "metadata": {},
   "outputs": [
    {
     "name": "stdout",
     "output_type": "stream",
     "text": [
      "First layer params =  3360\n",
      "Last layer params =  33\n"
     ]
    }
   ],
   "source": [
    "# Everything is the same as calculating the RNN or LSTM parameters, except for p\n",
    "p = 3 # number of parameters per unit (for GRU - 1 forget gate, 1 input gates, and 1 output gate)\n",
    "b = 2 # number of biases per unit, for GRU this is 2\n",
    "\n",
    "##################################\n",
    "# For first layer....\n",
    "\n",
    "h = 32 # number of units in the layer\n",
    "i = 1  # number of inputs (if we are predicting a stock price based on previous stock prices, input = 1. \n",
    "# NOTE: If we are predicting a stock price based on previous stock prices and the price of oil, input = 2), etc.\n",
    "\n",
    "params = p*(h**2+i*h+b*h)\n",
    "print(\"First layer params = \", params)\n",
    "\n",
    "##################################\n",
    "# for the last layer\n",
    "\n",
    "# This is simply 32 outputs coming from the previous later plus 1 bias term\n",
    "print(\"Last layer params = \", 32+1)"
   ]
  },
  {
   "cell_type": "code",
   "execution_count": 49,
   "metadata": {},
   "outputs": [
    {
     "name": "stdout",
     "output_type": "stream",
     "text": [
      "Epoch 1/20\n",
      "27/27 [==============================] - 10s 94ms/step - loss: 0.6856 - accuracy: 0.5389 - val_loss: 0.5257 - val_accuracy: 0.8238\n",
      "Epoch 2/20\n",
      "27/27 [==============================] - 1s 38ms/step - loss: 0.4990 - accuracy: 0.7886 - val_loss: 0.4326 - val_accuracy: 0.8266\n",
      "Epoch 3/20\n",
      "27/27 [==============================] - 1s 38ms/step - loss: 0.4531 - accuracy: 0.7967 - val_loss: 0.4112 - val_accuracy: 0.8266\n",
      "Epoch 4/20\n",
      "27/27 [==============================] - 1s 37ms/step - loss: 0.4364 - accuracy: 0.8026 - val_loss: 0.4031 - val_accuracy: 0.8266\n",
      "Epoch 5/20\n",
      "27/27 [==============================] - 1s 37ms/step - loss: 0.4270 - accuracy: 0.8049 - val_loss: 0.4009 - val_accuracy: 0.8184\n",
      "Epoch 6/20\n",
      "27/27 [==============================] - 1s 38ms/step - loss: 0.4211 - accuracy: 0.7967 - val_loss: 0.3985 - val_accuracy: 0.8184\n",
      "Epoch 7/20\n",
      "27/27 [==============================] - 1s 38ms/step - loss: 0.4167 - accuracy: 0.7933 - val_loss: 0.3970 - val_accuracy: 0.8184\n",
      "Epoch 8/20\n",
      "27/27 [==============================] - 1s 38ms/step - loss: 0.4145 - accuracy: 0.7967 - val_loss: 0.3972 - val_accuracy: 0.8157\n",
      "Epoch 9/20\n",
      "27/27 [==============================] - 1s 38ms/step - loss: 0.4114 - accuracy: 0.7967 - val_loss: 0.3963 - val_accuracy: 0.8130\n",
      "Epoch 10/20\n",
      "27/27 [==============================] - 1s 40ms/step - loss: 0.4099 - accuracy: 0.7991 - val_loss: 0.3965 - val_accuracy: 0.8103\n",
      "Epoch 11/20\n",
      "27/27 [==============================] - 1s 41ms/step - loss: 0.4082 - accuracy: 0.8014 - val_loss: 0.3955 - val_accuracy: 0.8103\n",
      "Epoch 12/20\n",
      "27/27 [==============================] - 1s 38ms/step - loss: 0.4076 - accuracy: 0.8014 - val_loss: 0.3961 - val_accuracy: 0.8076\n",
      "Epoch 13/20\n",
      "27/27 [==============================] - 1s 38ms/step - loss: 0.4058 - accuracy: 0.7979 - val_loss: 0.3969 - val_accuracy: 0.8130\n",
      "Epoch 14/20\n",
      "27/27 [==============================] - 1s 39ms/step - loss: 0.4051 - accuracy: 0.7967 - val_loss: 0.3931 - val_accuracy: 0.8211\n",
      "Epoch 15/20\n",
      "27/27 [==============================] - 1s 39ms/step - loss: 0.4041 - accuracy: 0.8049 - val_loss: 0.3931 - val_accuracy: 0.8184\n",
      "Epoch 16/20\n",
      "27/27 [==============================] - 1s 38ms/step - loss: 0.4033 - accuracy: 0.8026 - val_loss: 0.3938 - val_accuracy: 0.8184\n",
      "Epoch 17/20\n",
      "27/27 [==============================] - 1s 39ms/step - loss: 0.4020 - accuracy: 0.8060 - val_loss: 0.3953 - val_accuracy: 0.8157\n",
      "Epoch 18/20\n",
      "27/27 [==============================] - 1s 36ms/step - loss: 0.4015 - accuracy: 0.8072 - val_loss: 0.3963 - val_accuracy: 0.8157\n",
      "Epoch 19/20\n",
      "27/27 [==============================] - 1s 37ms/step - loss: 0.4004 - accuracy: 0.8026 - val_loss: 0.3944 - val_accuracy: 0.8157\n",
      "Epoch 20/20\n",
      "27/27 [==============================] - 1s 38ms/step - loss: 0.4000 - accuracy: 0.8049 - val_loss: 0.3930 - val_accuracy: 0.8184\n"
     ]
    }
   ],
   "source": [
    "import time\n",
    "start_time = time.time()\n",
    "\n",
    "early_stop = EarlyStopping(monitor='val_loss', min_delta = 0.0, patience=5, verbose=1, mode='min')\n",
    "\n",
    "history = model.fit(\n",
    "    X_train, \n",
    "    y_train, \n",
    "    epochs=20,\n",
    "    validation_data=(X_test, y_test),\n",
    "    callbacks=[early_stop] # we defined this early_stop callback function earlier\n",
    ")\n",
    "\n",
    "end_time = time.time()"
   ]
  },
  {
   "cell_type": "code",
   "execution_count": 50,
   "metadata": {},
   "outputs": [
    {
     "data": {
      "image/png": "[encoded data removed]",
      "text/plain": [
       "<Figure size 1500x700 with 2 Axes>"
      ]
     },
     "metadata": {},
     "output_type": "display_data"
    }
   ],
   "source": [
    "fig, (ax1, ax2) = plt.subplots(1, 2, figsize=(15, 7))\n",
    "fig.suptitle('GRU Model Evaluation')\n",
    "\n",
    "ax1.set_title('loss')\n",
    "ax1.set_ylim(0, 1)\n",
    "ax1.plot(history.history['loss'])\n",
    "ax1.plot(history.history['val_loss'])\n",
    "ax1.legend(['train', 'test'], loc='upper left')\n",
    "\n",
    "ax2.set_title('accuracy')\n",
    "ax2.set_ylim(0, 1)\n",
    "ax2.plot(history.history['accuracy'])\n",
    "ax2.plot(history.history['val_accuracy'])\n",
    "ax2.legend(['train', 'test'], loc='upper left')\n",
    "\n",
    "plt.show()"
   ]
  },
  {
   "cell_type": "code",
   "execution_count": 51,
   "metadata": {},
   "outputs": [
    {
     "name": "stdout",
     "output_type": "stream",
     "text": [
      "12/12 [==============================] - 1s 14ms/step\n",
      "              precision    recall  f1-score   support\n",
      "\n",
      "           0     0.8247    0.7605    0.7913       167\n",
      "           1     0.8140    0.8663    0.8393       202\n",
      "\n",
      "    accuracy                         0.8184       369\n",
      "   macro avg     0.8193    0.8134    0.8153       369\n",
      "weighted avg     0.8188    0.8184    0.8176       369\n",
      "\n"
     ]
    }
   ],
   "source": [
    "from sklearn.metrics import classification_report\n",
    "\n",
    "y_pred = model.predict(X_test)  # these predictions are probabilities (0-1) taken from the sigmoid function\n",
    "y_pred = (y_pred > 0.5) # let's turn these into predictions (0 or 1)\n",
    "\n",
    "print(classification_report(y_test, y_pred, digits=4))"
   ]
  },
  {
   "cell_type": "code",
   "execution_count": 52,
   "metadata": {},
   "outputs": [],
   "source": [
    "from sklearn.metrics import accuracy_score, precision_score, recall_score, f1_score\n",
    "\n",
    "df_result = pd.DataFrame(\n",
    "    {\n",
    "        'model': ['GRU'], \n",
    "        'time': [end_time - start_time],\n",
    "        'accuracy': [accuracy_score(y_test, y_pred)], \n",
    "        'precision': [precision_score(y_test, y_pred)], \n",
    "        'recall': [recall_score(y_test, y_pred)], \n",
    "        'f1': [f1_score(y_test, y_pred)]\n",
    "    }\n",
    ")\n",
    "\n",
    "df_results = pd.concat([df_results, df_result], ignore_index=True, axis=0)"
   ]
  },
  {
   "cell_type": "markdown",
   "metadata": {},
   "source": [
    "# GRU with more layers"
   ]
  },
  {
   "cell_type": "code",
   "execution_count": 53,
   "metadata": {},
   "outputs": [],
   "source": [
    "n_steps = 36\n",
    "n_inputs = 1\n",
    "\n",
    "model = keras.models.Sequential([\n",
    "    keras.layers.GRU(32, return_sequences=True, input_shape=[n_steps, n_inputs]),\n",
    "    keras.layers.GRU(32, return_sequences=True),\n",
    "    keras.layers.GRU(32),\n",
    "    keras.layers.Dense(1, activation='sigmoid')\n",
    "])"
   ]
  },
  {
   "cell_type": "code",
   "execution_count": 54,
   "metadata": {
    "scrolled": true
   },
   "outputs": [
    {
     "name": "stdout",
     "output_type": "stream",
     "text": [
      "Model: \"sequential_6\"\n",
      "_________________________________________________________________\n",
      " Layer (type)                Output Shape              Param #   \n",
      "=================================================================\n",
      " gru_1 (GRU)                 (None, 36, 32)            3360      \n",
      "                                                                 \n",
      " gru_2 (GRU)                 (None, 36, 32)            6336      \n",
      "                                                                 \n",
      " gru_3 (GRU)                 (None, 32)                6336      \n",
      "                                                                 \n",
      " dense_7 (Dense)             (None, 1)                 33        \n",
      "                                                                 \n",
      "=================================================================\n",
      "Total params: 16,065\n",
      "Trainable params: 16,065\n",
      "Non-trainable params: 0\n",
      "_________________________________________________________________\n"
     ]
    }
   ],
   "source": [
    "model.compile(\n",
    "    loss=\"binary_crossentropy\", \n",
    "    optimizer=keras.optimizers.Nadam(learning_rate=0.001), \n",
    "    metrics=['accuracy']\n",
    ")\n",
    "model.summary()"
   ]
  },
  {
   "cell_type": "markdown",
   "metadata": {},
   "source": [
    "### Calculate the number of paramaters for the model"
   ]
  },
  {
   "cell_type": "code",
   "execution_count": 55,
   "metadata": {},
   "outputs": [
    {
     "name": "stdout",
     "output_type": "stream",
     "text": [
      "First layer params =  3360\n",
      "First layer params =  6336\n",
      "First layer params =  6336\n",
      "Last layer params =  33\n"
     ]
    }
   ],
   "source": [
    "# Everything is the same as calculating the RNN or LSTM parameters, except for p\n",
    "p = 3 # number of parameters per unit (for GRU - 1 forget gate, 1 input gates, and 1 output gate)\n",
    "b = 2 # number of biases per unit, for GRU this is 2\n",
    "\n",
    "##################################\n",
    "# For first layer....\n",
    "\n",
    "h = 32 # number of units in the layer\n",
    "i = 1  # number of inputs (if we are predicting a stock price based on previous stock prices, input = 1. \n",
    "# NOTE: If we are predicting a stock price based on previous stock prices and the price of oil, input = 2), etc.\n",
    "\n",
    "params = p*(h**2+i*h+b*h)\n",
    "print(\"First layer params = \", params)\n",
    "\n",
    "##################################\n",
    "# For second layer....\n",
    "\n",
    "h = 32 # number of units in the layer\n",
    "i = 32  # number of inputs (previous layer has 32 units, therefore 32 inputs)\n",
    "\n",
    "params = p*(h**2+i*h+b*h)\n",
    "print(\"First layer params = \", params)\n",
    "\n",
    "##################################\n",
    "# For third layer....\n",
    "\n",
    "h = 32 # number of units in the layer\n",
    "i = 32  # number of inputs (previous layer has 32 units, therefore 32 inputs)\n",
    "\n",
    "params = p*(h**2+i*h+b*h)\n",
    "print(\"First layer params = \", params)\n",
    "\n",
    "\n",
    "##################################\n",
    "# for the last layer\n",
    "\n",
    "# This is simply 32 outputs coming from the previous later plus 1 bias term\n",
    "print(\"Last layer params = \", 32+1)"
   ]
  },
  {
   "cell_type": "code",
   "execution_count": 56,
   "metadata": {},
   "outputs": [
    {
     "name": "stdout",
     "output_type": "stream",
     "text": [
      "Epoch 1/20\n",
      "27/27 [==============================] - 25s 248ms/step - loss: 0.5144 - accuracy: 0.7584 - val_loss: 0.4245 - val_accuracy: 0.8266\n",
      "Epoch 2/20\n",
      "27/27 [==============================] - 3s 106ms/step - loss: 0.4580 - accuracy: 0.7793 - val_loss: 0.4130 - val_accuracy: 0.8374\n",
      "Epoch 3/20\n",
      "27/27 [==============================] - 3s 105ms/step - loss: 0.4408 - accuracy: 0.7816 - val_loss: 0.4005 - val_accuracy: 0.8347\n",
      "Epoch 4/20\n",
      "27/27 [==============================] - 3s 106ms/step - loss: 0.4301 - accuracy: 0.7851 - val_loss: 0.3984 - val_accuracy: 0.8238\n",
      "Epoch 5/20\n",
      "27/27 [==============================] - 3s 107ms/step - loss: 0.4229 - accuracy: 0.7933 - val_loss: 0.4035 - val_accuracy: 0.8157\n",
      "Epoch 6/20\n",
      "27/27 [==============================] - 3s 106ms/step - loss: 0.4173 - accuracy: 0.7956 - val_loss: 0.4054 - val_accuracy: 0.8103\n",
      "Epoch 7/20\n",
      "27/27 [==============================] - 3s 108ms/step - loss: 0.4123 - accuracy: 0.7967 - val_loss: 0.3974 - val_accuracy: 0.8130\n",
      "Epoch 8/20\n",
      "27/27 [==============================] - 3s 105ms/step - loss: 0.4113 - accuracy: 0.7979 - val_loss: 0.4064 - val_accuracy: 0.7995\n",
      "Epoch 9/20\n",
      "27/27 [==============================] - 3s 107ms/step - loss: 0.4064 - accuracy: 0.8014 - val_loss: 0.3980 - val_accuracy: 0.8076\n",
      "Epoch 10/20\n",
      "27/27 [==============================] - 3s 110ms/step - loss: 0.4049 - accuracy: 0.8014 - val_loss: 0.4037 - val_accuracy: 0.8049\n",
      "Epoch 11/20\n",
      "27/27 [==============================] - 3s 106ms/step - loss: 0.4027 - accuracy: 0.8049 - val_loss: 0.3976 - val_accuracy: 0.8184\n",
      "Epoch 12/20\n",
      "27/27 [==============================] - 3s 107ms/step - loss: 0.4012 - accuracy: 0.7979 - val_loss: 0.4102 - val_accuracy: 0.7940\n",
      "Epoch 12: early stopping\n"
     ]
    }
   ],
   "source": [
    "import time\n",
    "start_time = time.time()\n",
    "\n",
    "early_stop = EarlyStopping(monitor='val_loss', min_delta = 0.0, patience=5, verbose=1, mode='min')\n",
    "\n",
    "history = model.fit(\n",
    "    X_train, \n",
    "    y_train, \n",
    "    epochs=20,\n",
    "    validation_data=(X_test, y_test), \n",
    "    callbacks=[early_stop] \n",
    ")\n",
    "\n",
    "end_time = time.time()"
   ]
  },
  {
   "cell_type": "code",
   "execution_count": 57,
   "metadata": {},
   "outputs": [
    {
     "data": {
      "image/png": "[encoded data removed]",
      "text/plain": [
       "<Figure size 1500x700 with 2 Axes>"
      ]
     },
     "metadata": {},
     "output_type": "display_data"
    }
   ],
   "source": [
    "fig, (ax1, ax2) = plt.subplots(1, 2, figsize=(15, 7))\n",
    "fig.suptitle('Deep GRU Model Evaluation')\n",
    "\n",
    "ax1.set_title('loss')\n",
    "ax1.set_ylim(0, 1)\n",
    "ax1.plot(history.history['loss'])\n",
    "ax1.plot(history.history['val_loss'])\n",
    "ax1.legend(['train', 'test'], loc='upper left')\n",
    "\n",
    "ax2.set_title('accuracy')\n",
    "ax2.set_ylim(0, 1)\n",
    "ax2.plot(history.history['accuracy'])\n",
    "ax2.plot(history.history['val_accuracy'])\n",
    "ax2.legend(['train', 'test'], loc='upper left')\n",
    "\n",
    "plt.show()"
   ]
  },
  {
   "cell_type": "code",
   "execution_count": 58,
   "metadata": {},
   "outputs": [
    {
     "name": "stdout",
     "output_type": "stream",
     "text": [
      "12/12 [==============================] - 4s 40ms/step\n",
      "              precision    recall  f1-score   support\n",
      "\n",
      "           0     0.7935    0.7365    0.7640       167\n",
      "           1     0.7944    0.8416    0.8173       202\n",
      "\n",
      "    accuracy                         0.7940       369\n",
      "   macro avg     0.7940    0.7891    0.7906       369\n",
      "weighted avg     0.7940    0.7940    0.7932       369\n",
      "\n"
     ]
    }
   ],
   "source": [
    "from sklearn.metrics import classification_report\n",
    "\n",
    "y_pred = model.predict(X_test)  # these predictions are probabilities (0-1) taken from the sigmoid function\n",
    "y_pred = (y_pred > 0.5) # let's turn these into predictions (0 or 1)\n",
    "\n",
    "print(classification_report(y_test, y_pred, digits=4))"
   ]
  },
  {
   "cell_type": "code",
   "execution_count": 59,
   "metadata": {},
   "outputs": [],
   "source": [
    "from sklearn.metrics import accuracy_score, precision_score, recall_score, f1_score\n",
    "\n",
    "df_result = pd.DataFrame(\n",
    "    {\n",
    "        'model': ['Deep GRU'], \n",
    "        'time': [end_time - start_time],\n",
    "        'accuracy': [accuracy_score(y_test, y_pred)], \n",
    "        'precision': [precision_score(y_test, y_pred)], \n",
    "        'recall': [recall_score(y_test, y_pred)], \n",
    "        'f1': [f1_score(y_test, y_pred)]\n",
    "    }\n",
    ")\n",
    "\n",
    "df_results = pd.concat([df_results, df_result], ignore_index=True, axis=0)"
   ]
  },
  {
   "cell_type": "markdown",
   "metadata": {},
   "source": [
    "# Conv1D"
   ]
  },
  {
   "cell_type": "code",
   "execution_count": 60,
   "metadata": {},
   "outputs": [
    {
     "name": "stdout",
     "output_type": "stream",
     "text": [
      "Model: \"sequential_7\"\n",
      "_________________________________________________________________\n",
      " Layer (type)                Output Shape              Param #   \n",
      "=================================================================\n",
      " conv1d (Conv1D)             (None, 34, 10)            40        \n",
      "                                                                 \n",
      " conv1d_1 (Conv1D)           (None, 32, 20)            620       \n",
      "                                                                 \n",
      " lstm_4 (LSTM)               (None, 32, 32)            6784      \n",
      "                                                                 \n",
      " lstm_5 (LSTM)               (None, 32)                8320      \n",
      "                                                                 \n",
      " dense_8 (Dense)             (None, 1)                 33        \n",
      "                                                                 \n",
      "=================================================================\n",
      "Total params: 15,797\n",
      "Trainable params: 15,797\n",
      "Non-trainable params: 0\n",
      "_________________________________________________________________\n"
     ]
    }
   ],
   "source": [
    "n_steps = 36\n",
    "n_inputs = 1\n",
    "\n",
    "model = keras.models.Sequential([\n",
    "    keras.layers.Conv1D(filters=10, kernel_size=3, strides=1, padding=\"valid\", input_shape=[n_steps, n_inputs]),\n",
    "    keras.layers.Conv1D(filters=20, kernel_size=3, strides=1, padding=\"valid\"),\n",
    "    keras.layers.LSTM(32, return_sequences=True),\n",
    "    keras.layers.LSTM(32),\n",
    "    keras.layers.Dense(1, activation='sigmoid')\n",
    "])\n",
    "\n",
    "model.summary()"
   ]
  },
  {
   "cell_type": "code",
   "execution_count": 61,
   "metadata": {
    "scrolled": true
   },
   "outputs": [],
   "source": [
    "model.compile(\n",
    "    loss=\"binary_crossentropy\", \n",
    "    optimizer=keras.optimizers.Nadam(learning_rate=0.010), \n",
    "    metrics=['accuracy']\n",
    ")"
   ]
  },
  {
   "cell_type": "code",
   "execution_count": 62,
   "metadata": {},
   "outputs": [
    {
     "name": "stdout",
     "output_type": "stream",
     "text": [
      "Epoch 1/20\n",
      "27/27 [==============================] - 22s 314ms/step - loss: 0.5050 - accuracy: 0.7561 - val_loss: 0.4129 - val_accuracy: 0.8238\n",
      "Epoch 2/20\n",
      "27/27 [==============================] - 6s 210ms/step - loss: 0.4524 - accuracy: 0.7700 - val_loss: 0.4162 - val_accuracy: 0.8076\n",
      "Epoch 3/20\n",
      "27/27 [==============================] - 6s 212ms/step - loss: 0.4259 - accuracy: 0.8026 - val_loss: 0.4183 - val_accuracy: 0.8076\n",
      "Epoch 4/20\n",
      "27/27 [==============================] - 6s 208ms/step - loss: 0.4199 - accuracy: 0.8014 - val_loss: 0.4102 - val_accuracy: 0.8238\n",
      "Epoch 5/20\n",
      "27/27 [==============================] - 6s 208ms/step - loss: 0.4152 - accuracy: 0.8072 - val_loss: 0.4098 - val_accuracy: 0.8184\n",
      "Epoch 6/20\n",
      "27/27 [==============================] - 6s 212ms/step - loss: 0.4107 - accuracy: 0.7991 - val_loss: 0.4205 - val_accuracy: 0.8293\n",
      "Epoch 7/20\n",
      "27/27 [==============================] - 6s 213ms/step - loss: 0.4041 - accuracy: 0.8072 - val_loss: 0.4116 - val_accuracy: 0.8293\n",
      "Epoch 8/20\n",
      "27/27 [==============================] - 6s 217ms/step - loss: 0.3947 - accuracy: 0.8060 - val_loss: 0.4514 - val_accuracy: 0.8076\n",
      "Epoch 9/20\n",
      "27/27 [==============================] - 5s 196ms/step - loss: 0.3853 - accuracy: 0.8177 - val_loss: 0.4353 - val_accuracy: 0.8049\n",
      "Epoch 10/20\n",
      "27/27 [==============================] - 6s 220ms/step - loss: 0.3845 - accuracy: 0.8177 - val_loss: 0.4368 - val_accuracy: 0.7995\n",
      "Epoch 10: early stopping\n"
     ]
    }
   ],
   "source": [
    "import time\n",
    "start_time = time.time()\n",
    "\n",
    "early_stop = EarlyStopping(monitor='val_loss', min_delta = 0.0, patience=5, verbose=1, mode='min')\n",
    "\n",
    "history = model.fit(\n",
    "    X_train, \n",
    "    y_train, \n",
    "    epochs=20,\n",
    "    validation_data=(X_test, y_test), \n",
    "    callbacks=[early_stop] \n",
    ")\n",
    "\n",
    "end_time = time.time()"
   ]
  },
  {
   "cell_type": "code",
   "execution_count": 63,
   "metadata": {},
   "outputs": [
    {
     "data": {
      "image/png": "[encoded data removed]",
      "text/plain": [
       "<Figure size 1500x700 with 2 Axes>"
      ]
     },
     "metadata": {},
     "output_type": "display_data"
    }
   ],
   "source": [
    "fig, (ax1, ax2) = plt.subplots(1, 2, figsize=(15, 7))\n",
    "fig.suptitle('Con1D Model Evaluation')\n",
    "\n",
    "ax1.set_title('loss')\n",
    "ax1.set_ylim(0, 1)\n",
    "ax1.plot(history.history['loss'])\n",
    "ax1.plot(history.history['val_loss'])\n",
    "ax1.legend(['train', 'test'], loc='upper left')\n",
    "\n",
    "ax2.set_title('accuracy')\n",
    "ax2.set_ylim(0, 1)\n",
    "ax2.plot(history.history['accuracy'])\n",
    "ax2.plot(history.history['val_accuracy'])\n",
    "ax2.legend(['train', 'test'], loc='upper left')\n",
    "\n",
    "plt.show()"
   ]
  },
  {
   "cell_type": "code",
   "execution_count": 64,
   "metadata": {},
   "outputs": [
    {
     "name": "stdout",
     "output_type": "stream",
     "text": [
      "12/12 [==============================] - 3s 23ms/step\n",
      "              precision    recall  f1-score   support\n",
      "\n",
      "           0     0.8163    0.7186    0.7643       167\n",
      "           1     0.7883    0.8663    0.8255       202\n",
      "\n",
      "    accuracy                         0.7995       369\n",
      "   macro avg     0.8023    0.7924    0.7949       369\n",
      "weighted avg     0.8010    0.7995    0.7978       369\n",
      "\n"
     ]
    }
   ],
   "source": [
    "from sklearn.metrics import classification_report\n",
    "\n",
    "y_pred = model.predict(X_test)  # these predictions are probabilities (0-1) taken from the sigmoid function\n",
    "y_pred = (y_pred > 0.5) # let's turn these into predictions (0 or 1)\n",
    "\n",
    "print(classification_report(y_test, y_pred, digits=4))"
   ]
  },
  {
   "cell_type": "code",
   "execution_count": 65,
   "metadata": {},
   "outputs": [],
   "source": [
    "from sklearn.metrics import accuracy_score, precision_score, recall_score, f1_score\n",
    "\n",
    "df_result = pd.DataFrame(\n",
    "    {\n",
    "        'model': ['Conv1D Deep LSTM'], \n",
    "        'time': [end_time - start_time],\n",
    "        'accuracy': [accuracy_score(y_test, y_pred)], \n",
    "        'precision': [precision_score(y_test, y_pred)], \n",
    "        'recall': [recall_score(y_test, y_pred)], \n",
    "        'f1': [f1_score(y_test, y_pred)]\n",
    "    }\n",
    ")\n",
    "\n",
    "df_results = pd.concat([df_results, df_result], ignore_index=True, axis=0)"
   ]
  },
  {
   "cell_type": "markdown",
   "metadata": {},
   "source": [
    "## Summary of results"
   ]
  },
  {
   "cell_type": "code",
   "execution_count": 66,
   "metadata": {},
   "outputs": [
    {
     "data": {
      "text/html": [
       "<div>\n",
       "<style scoped>\n",
       "    .dataframe tbody tr th:only-of-type {\n",
       "        vertical-align: middle;\n",
       "    }\n",
       "\n",
       "    .dataframe tbody tr th {\n",
       "        vertical-align: top;\n",
       "    }\n",
       "\n",
       "    .dataframe thead th {\n",
       "        text-align: right;\n",
       "    }\n",
       "</style>\n",
       "<table border=\"1\" class=\"dataframe\">\n",
       "  <thead>\n",
       "    <tr style=\"text-align: right;\">\n",
       "      <th></th>\n",
       "      <th>model</th>\n",
       "      <th>time</th>\n",
       "      <th>accuracy</th>\n",
       "      <th>precision</th>\n",
       "      <th>recall</th>\n",
       "      <th>f1</th>\n",
       "    </tr>\n",
       "  </thead>\n",
       "  <tbody>\n",
       "    <tr>\n",
       "      <th>1</th>\n",
       "      <td>RNN</td>\n",
       "      <td>8.275707</td>\n",
       "      <td>0.821138</td>\n",
       "      <td>0.823810</td>\n",
       "      <td>0.856436</td>\n",
       "      <td>0.839806</td>\n",
       "    </tr>\n",
       "    <tr>\n",
       "      <th>3</th>\n",
       "      <td>LSTM</td>\n",
       "      <td>16.717640</td>\n",
       "      <td>0.821138</td>\n",
       "      <td>0.820755</td>\n",
       "      <td>0.861386</td>\n",
       "      <td>0.840580</td>\n",
       "    </tr>\n",
       "    <tr>\n",
       "      <th>5</th>\n",
       "      <td>GRU</td>\n",
       "      <td>29.735120</td>\n",
       "      <td>0.818428</td>\n",
       "      <td>0.813953</td>\n",
       "      <td>0.866337</td>\n",
       "      <td>0.839329</td>\n",
       "    </tr>\n",
       "    <tr>\n",
       "      <th>7</th>\n",
       "      <td>Conv1D Deep LSTM</td>\n",
       "      <td>73.593200</td>\n",
       "      <td>0.799458</td>\n",
       "      <td>0.788288</td>\n",
       "      <td>0.866337</td>\n",
       "      <td>0.825472</td>\n",
       "    </tr>\n",
       "    <tr>\n",
       "      <th>0</th>\n",
       "      <td>NN</td>\n",
       "      <td>4.180996</td>\n",
       "      <td>0.796748</td>\n",
       "      <td>0.792627</td>\n",
       "      <td>0.851485</td>\n",
       "      <td>0.821002</td>\n",
       "    </tr>\n",
       "    <tr>\n",
       "      <th>4</th>\n",
       "      <td>Deep LSTM</td>\n",
       "      <td>82.395439</td>\n",
       "      <td>0.796748</td>\n",
       "      <td>0.779736</td>\n",
       "      <td>0.876238</td>\n",
       "      <td>0.825175</td>\n",
       "    </tr>\n",
       "    <tr>\n",
       "      <th>6</th>\n",
       "      <td>Deep GRU</td>\n",
       "      <td>56.917886</td>\n",
       "      <td>0.794038</td>\n",
       "      <td>0.794393</td>\n",
       "      <td>0.841584</td>\n",
       "      <td>0.817308</td>\n",
       "    </tr>\n",
       "    <tr>\n",
       "      <th>2</th>\n",
       "      <td>Deep RNN</td>\n",
       "      <td>13.777741</td>\n",
       "      <td>0.791328</td>\n",
       "      <td>0.799043</td>\n",
       "      <td>0.826733</td>\n",
       "      <td>0.812652</td>\n",
       "    </tr>\n",
       "  </tbody>\n",
       "</table>\n",
       "</div>"
      ],
      "text/plain": [
       "              model       time  accuracy  precision    recall        f1\n",
       "1               RNN   8.275707  0.821138   0.823810  0.856436  0.839806\n",
       "3              LSTM  16.717640  0.821138   0.820755  0.861386  0.840580\n",
       "5               GRU  29.735120  0.818428   0.813953  0.866337  0.839329\n",
       "7  Conv1D Deep LSTM  73.593200  0.799458   0.788288  0.866337  0.825472\n",
       "0                NN   4.180996  0.796748   0.792627  0.851485  0.821002\n",
       "4         Deep LSTM  82.395439  0.796748   0.779736  0.876238  0.825175\n",
       "6          Deep GRU  56.917886  0.794038   0.794393  0.841584  0.817308\n",
       "2          Deep RNN  13.777741  0.791328   0.799043  0.826733  0.812652"
      ]
     },
     "execution_count": 66,
     "metadata": {},
     "output_type": "execute_result"
    }
   ],
   "source": [
    "df_results.sort_values(by=['accuracy', 'precision', 'recall', 'f1'], ascending=False)"
   ]
  }
 ],
 "metadata": {
  "kernelspec": {
   "display_name": "Python 3 (ipykernel)",
   "language": "python",
   "name": "python3"
  },
  "language_info": {
   "codemirror_mode": {
    "name": "ipython",
    "version": 3
   },
   "file_extension": ".py",
   "mimetype": "text/x-python",
   "name": "python",
   "nbconvert_exporter": "python",
   "pygments_lexer": "ipython3",
   "version": "3.10.10"
  },
  "nav_menu": {},
  "toc": {
   "base_numbering": 1,
   "nav_menu": {},
   "number_sections": false,
   "sideBar": true,
   "skip_h1_title": false,
   "title_cell": "Table of Contents",
   "title_sidebar": "Contents",
   "toc_cell": false,
   "toc_position": {
    "height": "calc(100% - 180px)",
    "left": "10px",
    "top": "150px",
    "width": "288px"
   },
   "toc_section_display": "block",
   "toc_window_display": true
  },
  "varInspector": {
   "cols": {
    "lenName": 16,
    "lenType": 16,
    "lenVar": 40
   },
   "kernels_config": {
    "python": {
     "delete_cmd_postfix": "",
     "delete_cmd_prefix": "del ",
     "library": "var_list.py",
     "varRefreshCmd": "print(var_dic_list())"
    },
    "r": {
     "delete_cmd_postfix": ") ",
     "delete_cmd_prefix": "rm(",
     "library": "var_list.r",
     "varRefreshCmd": "cat(var_dic_list()) "
    }
   },
   "types_to_exclude": [
    "module",
    "function",
    "builtin_function_or_method",
    "instance",
    "_Feature"
   ],
   "window_display": false
  }
 },
 "nbformat": 4,
 "nbformat_minor": 4
}
