{
 "cells": [
  {
   "cell_type": "markdown",
   "id": "08badc64-7673-4cae-a6df-e6a9482715e4",
   "metadata": {},
   "source": [
    "###  Subash Chandra Biswal (U77884251) ###"
   ]
  },
  {
   "cell_type": "markdown",
   "id": "5d6a7be4-2165-4e6e-882c-c4bac3c5a597",
   "metadata": {
    "tags": []
   },
   "source": [
    "## Set Up  ##"
   ]
  },
  {
   "cell_type": "code",
   "execution_count": 40,
   "id": "e95457ab-ed04-4b00-be34-a256c792efde",
   "metadata": {},
   "outputs": [],
   "source": [
    "# import numpy and pandas libraries\n",
    "import numpy as np\n",
    "import pandas as pd\n",
    "from sklearn.preprocessing import LabelEncoder\n",
    "from sklearn.model_selection import train_test_split\n",
    "from sklearn import preprocessing\n",
    "from sklearn.impute import SimpleImputer\n",
    "\n",
    "from sklearn.tree import DecisionTreeClassifier \n",
    "from sklearn.svm import SVC\n",
    "from matplotlib import pyplot as plt\n",
    "from sklearn.metrics import confusion_matrix\n",
    "from sklearn.model_selection import GridSearchCV, RandomizedSearchCV\n",
    "# set random seed to ensure that results are repeatable\n",
    "np.random.seed(1)"
   ]
  },
  {
   "cell_type": "markdown",
   "id": "bacf7426-8604-49f5-a179-8320b0ff0a72",
   "metadata": {},
   "source": [
    "## Data Load ##"
   ]
  },
  {
   "cell_type": "code",
   "execution_count": 2,
   "id": "b289b9e2-eb39-4d19-895d-a9230fc8f99a",
   "metadata": {},
   "outputs": [
    {
     "data": {
      "text/html": [
       "<div>\n",
       "<style scoped>\n",
       "    .dataframe tbody tr th:only-of-type {\n",
       "        vertical-align: middle;\n",
       "    }\n",
       "\n",
       "    .dataframe tbody tr th {\n",
       "        vertical-align: top;\n",
       "    }\n",
       "\n",
       "    .dataframe thead th {\n",
       "        text-align: right;\n",
       "    }\n",
       "</style>\n",
       "<table border=\"1\" class=\"dataframe\">\n",
       "  <thead>\n",
       "    <tr style=\"text-align: right;\">\n",
       "      <th></th>\n",
       "      <th>host_is_superhost</th>\n",
       "      <th>host_identity_verified</th>\n",
       "      <th>neighbourhood_cleansed</th>\n",
       "      <th>latitude</th>\n",
       "      <th>longitude</th>\n",
       "      <th>property_type</th>\n",
       "      <th>room_type</th>\n",
       "      <th>accommodates</th>\n",
       "      <th>bathrooms</th>\n",
       "      <th>bedrooms</th>\n",
       "      <th>...</th>\n",
       "      <th>guests_included</th>\n",
       "      <th>price_per_extra_person</th>\n",
       "      <th>minimum_nights</th>\n",
       "      <th>number_of_reviews</th>\n",
       "      <th>number_days_btw_first_last_review</th>\n",
       "      <th>review_scores_rating</th>\n",
       "      <th>cancellation_policy</th>\n",
       "      <th>price</th>\n",
       "      <th>price_gte_150</th>\n",
       "      <th>price_category</th>\n",
       "    </tr>\n",
       "  </thead>\n",
       "  <tbody>\n",
       "    <tr>\n",
       "      <th>0</th>\n",
       "      <td>0</td>\n",
       "      <td>0</td>\n",
       "      <td>Roslindale</td>\n",
       "      <td>42.282619</td>\n",
       "      <td>-71.133068</td>\n",
       "      <td>House</td>\n",
       "      <td>Entire home/apt</td>\n",
       "      <td>4</td>\n",
       "      <td>1.5</td>\n",
       "      <td>2.0</td>\n",
       "      <td>...</td>\n",
       "      <td>1</td>\n",
       "      <td>0</td>\n",
       "      <td>2</td>\n",
       "      <td>0</td>\n",
       "      <td>0</td>\n",
       "      <td>NaN</td>\n",
       "      <td>moderate</td>\n",
       "      <td>250</td>\n",
       "      <td>1</td>\n",
       "      <td>gte_226</td>\n",
       "    </tr>\n",
       "    <tr>\n",
       "      <th>1</th>\n",
       "      <td>0</td>\n",
       "      <td>1</td>\n",
       "      <td>Roslindale</td>\n",
       "      <td>42.286241</td>\n",
       "      <td>-71.134374</td>\n",
       "      <td>Apartment</td>\n",
       "      <td>Private room</td>\n",
       "      <td>2</td>\n",
       "      <td>1.0</td>\n",
       "      <td>1.0</td>\n",
       "      <td>...</td>\n",
       "      <td>0</td>\n",
       "      <td>0</td>\n",
       "      <td>2</td>\n",
       "      <td>36</td>\n",
       "      <td>804</td>\n",
       "      <td>94.0</td>\n",
       "      <td>moderate</td>\n",
       "      <td>65</td>\n",
       "      <td>0</td>\n",
       "      <td>lte_$75</td>\n",
       "    </tr>\n",
       "    <tr>\n",
       "      <th>2</th>\n",
       "      <td>1</td>\n",
       "      <td>1</td>\n",
       "      <td>Roslindale</td>\n",
       "      <td>42.292438</td>\n",
       "      <td>-71.135765</td>\n",
       "      <td>Apartment</td>\n",
       "      <td>Private room</td>\n",
       "      <td>2</td>\n",
       "      <td>1.0</td>\n",
       "      <td>1.0</td>\n",
       "      <td>...</td>\n",
       "      <td>1</td>\n",
       "      <td>20</td>\n",
       "      <td>3</td>\n",
       "      <td>41</td>\n",
       "      <td>2574</td>\n",
       "      <td>98.0</td>\n",
       "      <td>moderate</td>\n",
       "      <td>65</td>\n",
       "      <td>0</td>\n",
       "      <td>lte_$75</td>\n",
       "    </tr>\n",
       "  </tbody>\n",
       "</table>\n",
       "<p>3 rows × 23 columns</p>\n",
       "</div>"
      ],
      "text/plain": [
       "   host_is_superhost  host_identity_verified neighbourhood_cleansed  \\\n",
       "0                  0                       0             Roslindale   \n",
       "1                  0                       1             Roslindale   \n",
       "2                  1                       1             Roslindale   \n",
       "\n",
       "    latitude  longitude property_type        room_type  accommodates  \\\n",
       "0  42.282619 -71.133068         House  Entire home/apt             4   \n",
       "1  42.286241 -71.134374     Apartment     Private room             2   \n",
       "2  42.292438 -71.135765     Apartment     Private room             2   \n",
       "\n",
       "   bathrooms  bedrooms  ...  guests_included price_per_extra_person  \\\n",
       "0        1.5       2.0  ...                1                      0   \n",
       "1        1.0       1.0  ...                0                      0   \n",
       "2        1.0       1.0  ...                1                     20   \n",
       "\n",
       "   minimum_nights  number_of_reviews  number_days_btw_first_last_review  \\\n",
       "0               2                  0                                  0   \n",
       "1               2                 36                                804   \n",
       "2               3                 41                               2574   \n",
       "\n",
       "   review_scores_rating  cancellation_policy  price  price_gte_150  \\\n",
       "0                   NaN             moderate    250              1   \n",
       "1                  94.0             moderate     65              0   \n",
       "2                  98.0             moderate     65              0   \n",
       "\n",
       "  price_category  \n",
       "0        gte_226  \n",
       "1        lte_$75  \n",
       "2        lte_$75  \n",
       "\n",
       "[3 rows x 23 columns]"
      ]
     },
     "execution_count": 2,
     "metadata": {},
     "output_type": "execute_result"
    }
   ],
   "source": [
    "# load data\n",
    "airbnb = pd.read_csv(\"./data/airbnb.csv\")\n",
    "\n",
    "airbnb.head(3)"
   ]
  },
  {
   "cell_type": "markdown",
   "id": "c2761f4a-2feb-479f-992d-7882b3c6b55a",
   "metadata": {},
   "source": [
    "## Initial Analysis of Data ##"
   ]
  },
  {
   "cell_type": "code",
   "execution_count": 3,
   "id": "a3c4c99d-1ec5-471f-b0b5-f92bf298fbac",
   "metadata": {},
   "outputs": [
    {
     "name": "stdout",
     "output_type": "stream",
     "text": [
      "<class 'pandas.core.frame.DataFrame'>\n",
      "RangeIndex: 3555 entries, 0 to 3554\n",
      "Data columns (total 23 columns):\n",
      " #   Column                             Non-Null Count  Dtype  \n",
      "---  ------                             --------------  -----  \n",
      " 0   host_is_superhost                  3555 non-null   int64  \n",
      " 1   host_identity_verified             3555 non-null   int64  \n",
      " 2   neighbourhood_cleansed             3555 non-null   object \n",
      " 3   latitude                           3555 non-null   float64\n",
      " 4   longitude                          3555 non-null   float64\n",
      " 5   property_type                      3552 non-null   object \n",
      " 6   room_type                          3555 non-null   object \n",
      " 7   accommodates                       3555 non-null   int64  \n",
      " 8   bathrooms                          3541 non-null   float64\n",
      " 9   bedrooms                           3545 non-null   float64\n",
      " 10  beds                               3546 non-null   float64\n",
      " 11  bed_type                           3555 non-null   object \n",
      " 12  Number of amenities                3555 non-null   int64  \n",
      " 13  guests_included                    3555 non-null   int64  \n",
      " 14  price_per_extra_person             3555 non-null   int64  \n",
      " 15  minimum_nights                     3555 non-null   int64  \n",
      " 16  number_of_reviews                  3555 non-null   int64  \n",
      " 17  number_days_btw_first_last_review  3555 non-null   int64  \n",
      " 18  review_scores_rating               2755 non-null   float64\n",
      " 19  cancellation_policy                3555 non-null   object \n",
      " 20  price                              3555 non-null   int64  \n",
      " 21  price_gte_150                      3555 non-null   int64  \n",
      " 22  price_category                     3555 non-null   object \n",
      "dtypes: float64(6), int64(11), object(6)\n",
      "memory usage: 638.9+ KB\n"
     ]
    }
   ],
   "source": [
    "airbnb.info()"
   ]
  },
  {
   "cell_type": "code",
   "execution_count": 4,
   "id": "757839bd-f8b5-433d-8062-f06235fb9744",
   "metadata": {},
   "outputs": [
    {
     "data": {
      "text/html": [
       "<div>\n",
       "<style scoped>\n",
       "    .dataframe tbody tr th:only-of-type {\n",
       "        vertical-align: middle;\n",
       "    }\n",
       "\n",
       "    .dataframe tbody tr th {\n",
       "        vertical-align: top;\n",
       "    }\n",
       "\n",
       "    .dataframe thead th {\n",
       "        text-align: right;\n",
       "    }\n",
       "</style>\n",
       "<table border=\"1\" class=\"dataframe\">\n",
       "  <thead>\n",
       "    <tr style=\"text-align: right;\">\n",
       "      <th></th>\n",
       "      <th>host_is_superhost</th>\n",
       "      <th>host_identity_verified</th>\n",
       "      <th>latitude</th>\n",
       "      <th>longitude</th>\n",
       "      <th>accommodates</th>\n",
       "      <th>bathrooms</th>\n",
       "      <th>bedrooms</th>\n",
       "      <th>beds</th>\n",
       "      <th>Number of amenities</th>\n",
       "      <th>guests_included</th>\n",
       "      <th>price_per_extra_person</th>\n",
       "      <th>minimum_nights</th>\n",
       "      <th>number_of_reviews</th>\n",
       "      <th>number_days_btw_first_last_review</th>\n",
       "      <th>review_scores_rating</th>\n",
       "      <th>price</th>\n",
       "      <th>price_gte_150</th>\n",
       "    </tr>\n",
       "  </thead>\n",
       "  <tbody>\n",
       "    <tr>\n",
       "      <th>count</th>\n",
       "      <td>3555.000000</td>\n",
       "      <td>3555.000000</td>\n",
       "      <td>3555.000000</td>\n",
       "      <td>3555.000000</td>\n",
       "      <td>3555.000000</td>\n",
       "      <td>3541.000000</td>\n",
       "      <td>3545.000000</td>\n",
       "      <td>3546.000000</td>\n",
       "      <td>3555.00000</td>\n",
       "      <td>3555.000000</td>\n",
       "      <td>3555.000000</td>\n",
       "      <td>3555.000000</td>\n",
       "      <td>3555.000000</td>\n",
       "      <td>3555.000000</td>\n",
       "      <td>2755.000000</td>\n",
       "      <td>3555.000000</td>\n",
       "      <td>3555.000000</td>\n",
       "    </tr>\n",
       "    <tr>\n",
       "      <th>mean</th>\n",
       "      <td>0.113080</td>\n",
       "      <td>0.727989</td>\n",
       "      <td>42.339973</td>\n",
       "      <td>-71.084874</td>\n",
       "      <td>3.023629</td>\n",
       "      <td>1.215899</td>\n",
       "      <td>1.246544</td>\n",
       "      <td>1.597293</td>\n",
       "      <td>14.85879</td>\n",
       "      <td>1.427004</td>\n",
       "      <td>10.886639</td>\n",
       "      <td>3.116737</td>\n",
       "      <td>19.126582</td>\n",
       "      <td>279.052602</td>\n",
       "      <td>91.891470</td>\n",
       "      <td>166.060478</td>\n",
       "      <td>0.500422</td>\n",
       "    </tr>\n",
       "    <tr>\n",
       "      <th>std</th>\n",
       "      <td>0.316735</td>\n",
       "      <td>0.445058</td>\n",
       "      <td>0.024464</td>\n",
       "      <td>0.031614</td>\n",
       "      <td>1.754808</td>\n",
       "      <td>0.492656</td>\n",
       "      <td>0.738440</td>\n",
       "      <td>0.995467</td>\n",
       "      <td>4.82126</td>\n",
       "      <td>1.050204</td>\n",
       "      <td>19.092755</td>\n",
       "      <td>8.273949</td>\n",
       "      <td>35.666178</td>\n",
       "      <td>408.686952</td>\n",
       "      <td>9.548381</td>\n",
       "      <td>103.378456</td>\n",
       "      <td>0.500070</td>\n",
       "    </tr>\n",
       "    <tr>\n",
       "      <th>min</th>\n",
       "      <td>0.000000</td>\n",
       "      <td>0.000000</td>\n",
       "      <td>42.235942</td>\n",
       "      <td>-71.171789</td>\n",
       "      <td>1.000000</td>\n",
       "      <td>0.000000</td>\n",
       "      <td>0.000000</td>\n",
       "      <td>0.000000</td>\n",
       "      <td>0.00000</td>\n",
       "      <td>0.000000</td>\n",
       "      <td>0.000000</td>\n",
       "      <td>1.000000</td>\n",
       "      <td>0.000000</td>\n",
       "      <td>0.000000</td>\n",
       "      <td>20.000000</td>\n",
       "      <td>10.000000</td>\n",
       "      <td>0.000000</td>\n",
       "    </tr>\n",
       "    <tr>\n",
       "      <th>25%</th>\n",
       "      <td>0.000000</td>\n",
       "      <td>0.000000</td>\n",
       "      <td>42.329875</td>\n",
       "      <td>-71.105183</td>\n",
       "      <td>2.000000</td>\n",
       "      <td>1.000000</td>\n",
       "      <td>1.000000</td>\n",
       "      <td>1.000000</td>\n",
       "      <td>12.00000</td>\n",
       "      <td>1.000000</td>\n",
       "      <td>0.000000</td>\n",
       "      <td>1.000000</td>\n",
       "      <td>1.000000</td>\n",
       "      <td>0.000000</td>\n",
       "      <td>89.000000</td>\n",
       "      <td>85.000000</td>\n",
       "      <td>0.000000</td>\n",
       "    </tr>\n",
       "    <tr>\n",
       "      <th>50%</th>\n",
       "      <td>0.000000</td>\n",
       "      <td>1.000000</td>\n",
       "      <td>42.345191</td>\n",
       "      <td>-71.078487</td>\n",
       "      <td>2.000000</td>\n",
       "      <td>1.000000</td>\n",
       "      <td>1.000000</td>\n",
       "      <td>1.000000</td>\n",
       "      <td>15.00000</td>\n",
       "      <td>1.000000</td>\n",
       "      <td>0.000000</td>\n",
       "      <td>2.000000</td>\n",
       "      <td>5.000000</td>\n",
       "      <td>92.000000</td>\n",
       "      <td>94.000000</td>\n",
       "      <td>150.000000</td>\n",
       "      <td>1.000000</td>\n",
       "    </tr>\n",
       "    <tr>\n",
       "      <th>75%</th>\n",
       "      <td>0.000000</td>\n",
       "      <td>1.000000</td>\n",
       "      <td>42.354672</td>\n",
       "      <td>-71.062142</td>\n",
       "      <td>4.000000</td>\n",
       "      <td>1.000000</td>\n",
       "      <td>2.000000</td>\n",
       "      <td>2.000000</td>\n",
       "      <td>18.00000</td>\n",
       "      <td>1.000000</td>\n",
       "      <td>20.000000</td>\n",
       "      <td>3.000000</td>\n",
       "      <td>21.000000</td>\n",
       "      <td>402.000000</td>\n",
       "      <td>98.000000</td>\n",
       "      <td>219.000000</td>\n",
       "      <td>1.000000</td>\n",
       "    </tr>\n",
       "    <tr>\n",
       "      <th>max</th>\n",
       "      <td>1.000000</td>\n",
       "      <td>1.000000</td>\n",
       "      <td>42.389982</td>\n",
       "      <td>-71.000100</td>\n",
       "      <td>16.000000</td>\n",
       "      <td>6.000000</td>\n",
       "      <td>5.000000</td>\n",
       "      <td>16.000000</td>\n",
       "      <td>30.00000</td>\n",
       "      <td>14.000000</td>\n",
       "      <td>200.000000</td>\n",
       "      <td>300.000000</td>\n",
       "      <td>404.000000</td>\n",
       "      <td>2680.000000</td>\n",
       "      <td>100.000000</td>\n",
       "      <td>650.000000</td>\n",
       "      <td>1.000000</td>\n",
       "    </tr>\n",
       "  </tbody>\n",
       "</table>\n",
       "</div>"
      ],
      "text/plain": [
       "       host_is_superhost  host_identity_verified     latitude    longitude  \\\n",
       "count        3555.000000             3555.000000  3555.000000  3555.000000   \n",
       "mean            0.113080                0.727989    42.339973   -71.084874   \n",
       "std             0.316735                0.445058     0.024464     0.031614   \n",
       "min             0.000000                0.000000    42.235942   -71.171789   \n",
       "25%             0.000000                0.000000    42.329875   -71.105183   \n",
       "50%             0.000000                1.000000    42.345191   -71.078487   \n",
       "75%             0.000000                1.000000    42.354672   -71.062142   \n",
       "max             1.000000                1.000000    42.389982   -71.000100   \n",
       "\n",
       "       accommodates    bathrooms     bedrooms         beds  \\\n",
       "count   3555.000000  3541.000000  3545.000000  3546.000000   \n",
       "mean       3.023629     1.215899     1.246544     1.597293   \n",
       "std        1.754808     0.492656     0.738440     0.995467   \n",
       "min        1.000000     0.000000     0.000000     0.000000   \n",
       "25%        2.000000     1.000000     1.000000     1.000000   \n",
       "50%        2.000000     1.000000     1.000000     1.000000   \n",
       "75%        4.000000     1.000000     2.000000     2.000000   \n",
       "max       16.000000     6.000000     5.000000    16.000000   \n",
       "\n",
       "       Number of amenities  guests_included  price_per_extra_person  \\\n",
       "count           3555.00000      3555.000000             3555.000000   \n",
       "mean              14.85879         1.427004               10.886639   \n",
       "std                4.82126         1.050204               19.092755   \n",
       "min                0.00000         0.000000                0.000000   \n",
       "25%               12.00000         1.000000                0.000000   \n",
       "50%               15.00000         1.000000                0.000000   \n",
       "75%               18.00000         1.000000               20.000000   \n",
       "max               30.00000        14.000000              200.000000   \n",
       "\n",
       "       minimum_nights  number_of_reviews  number_days_btw_first_last_review  \\\n",
       "count     3555.000000        3555.000000                        3555.000000   \n",
       "mean         3.116737          19.126582                         279.052602   \n",
       "std          8.273949          35.666178                         408.686952   \n",
       "min          1.000000           0.000000                           0.000000   \n",
       "25%          1.000000           1.000000                           0.000000   \n",
       "50%          2.000000           5.000000                          92.000000   \n",
       "75%          3.000000          21.000000                         402.000000   \n",
       "max        300.000000         404.000000                        2680.000000   \n",
       "\n",
       "       review_scores_rating        price  price_gte_150  \n",
       "count           2755.000000  3555.000000    3555.000000  \n",
       "mean              91.891470   166.060478       0.500422  \n",
       "std                9.548381   103.378456       0.500070  \n",
       "min               20.000000    10.000000       0.000000  \n",
       "25%               89.000000    85.000000       0.000000  \n",
       "50%               94.000000   150.000000       1.000000  \n",
       "75%               98.000000   219.000000       1.000000  \n",
       "max              100.000000   650.000000       1.000000  "
      ]
     },
     "execution_count": 4,
     "metadata": {},
     "output_type": "execute_result"
    }
   ],
   "source": [
    "# generate a statistical summary of the numeric value in the data\n",
    "airbnb.describe()"
   ]
  },
  {
   "cell_type": "code",
   "execution_count": 5,
   "id": "998b4342-a5c1-4483-b5d6-19e77bfa8769",
   "metadata": {},
   "outputs": [
    {
     "data": {
      "text/plain": [
       "host_is_superhost                      0\n",
       "host_identity_verified                 0\n",
       "neighbourhood_cleansed                 0\n",
       "latitude                               0\n",
       "longitude                              0\n",
       "property_type                          3\n",
       "room_type                              0\n",
       "accommodates                           0\n",
       "bathrooms                             14\n",
       "bedrooms                              10\n",
       "beds                                   9\n",
       "bed_type                               0\n",
       "Number of amenities                    0\n",
       "guests_included                        0\n",
       "price_per_extra_person                 0\n",
       "minimum_nights                         0\n",
       "number_of_reviews                      0\n",
       "number_days_btw_first_last_review      0\n",
       "review_scores_rating                 800\n",
       "cancellation_policy                    0\n",
       "price                                  0\n",
       "price_gte_150                          0\n",
       "price_category                         0\n",
       "dtype: int64"
      ]
     },
     "execution_count": 5,
     "metadata": {},
     "output_type": "execute_result"
    }
   ],
   "source": [
    "# Check the missing values by summing the total na's for each variable\n",
    "airbnb.isna().sum()"
   ]
  },
  {
   "cell_type": "code",
   "execution_count": 6,
   "id": "a5a90d02-3f69-4da0-9b27-656ae16d02a0",
   "metadata": {},
   "outputs": [
    {
     "data": {
      "text/plain": [
       "['neighbourhood_cleansed',\n",
       " 'property_type',\n",
       " 'room_type',\n",
       " 'bed_type',\n",
       " 'cancellation_policy',\n",
       " 'price_category']"
      ]
     },
     "execution_count": 6,
     "metadata": {},
     "output_type": "execute_result"
    }
   ],
   "source": [
    "# create a list of these catagorical variables\n",
    "category_var_list = list(airbnb.select_dtypes(include='object').columns)\n",
    "category_var_list"
   ]
  },
  {
   "cell_type": "code",
   "execution_count": 7,
   "id": "bf092621-c6b4-46a8-a66d-02e80139e874",
   "metadata": {},
   "outputs": [
    {
     "name": "stdout",
     "output_type": "stream",
     "text": [
      "Category: neighbourhood_cleansed Values: ['Roslindale' 'Jamaica Plain' 'Mission Hill' 'Longwood Medical Area'\n",
      " 'Bay Village' 'Leather District' 'Chinatown' 'North End' 'Roxbury'\n",
      " 'South End' 'Back Bay' 'East Boston' 'Charlestown' 'West End'\n",
      " 'Beacon Hill' 'Downtown' 'Fenway' 'Brighton' 'West Roxbury' 'Hyde Park'\n",
      " 'Mattapan' 'Dorchester' 'South Boston Waterfront' 'South Boston'\n",
      " 'Allston']\n",
      "Category: property_type Values: ['House' 'Apartment' 'Condominium' 'Villa' 'Bed & Breakfast' 'Townhouse'\n",
      " 'Entire Floor' 'Loft' 'Guesthouse' 'Boat' 'Dorm' 'Other' nan 'Camper/RV']\n",
      "Category: room_type Values: ['Entire home/apt' 'Private room' 'Shared room']\n",
      "Category: bed_type Values: ['Real Bed' 'Pull-out Sofa' 'Futon' 'Airbed' 'Couch']\n",
      "Category: cancellation_policy Values: ['moderate' 'flexible' 'strict' 'super_strict_30']\n",
      "Category: price_category Values: ['gte_226' 'lte_$75' 'btw_$75-$150' 'btw_$151-$225']\n"
     ]
    }
   ],
   "source": [
    "# explore the categorical variable values - often there are typos here that need to be fixed.\n",
    "for cat in category_var_list: # generally, we want to avoid for loops and use a functional style (i.e. list comprehension)\n",
    "    print(f\"Category: {cat} Values: {airbnb[cat].unique()}\")"
   ]
  },
  {
   "cell_type": "markdown",
   "id": "2af85c19-2485-49bf-967a-71c0df8f3b52",
   "metadata": {},
   "source": [
    "## Drop Unnecessary Variables and fill missing categorical values ##"
   ]
  },
  {
   "cell_type": "code",
   "execution_count": 8,
   "id": "23aaf7bc-8a68-47bb-b5c9-0cf59779f5ae",
   "metadata": {},
   "outputs": [],
   "source": [
    "# Our target is price; but there are three related price variableds - price, price_gte_150, \n",
    "# and price_category. We need to drop price_gte_150, and price_category\n",
    "airbnb.drop(['price', 'price_category'], axis=1, inplace = True) # keep price_gte_150 for our target"
   ]
  },
  {
   "cell_type": "code",
   "execution_count": 9,
   "id": "12072b62-8c4f-401e-8b5d-a012e7ae8bbb",
   "metadata": {},
   "outputs": [
    {
     "data": {
      "text/plain": [
       "3"
      ]
     },
     "execution_count": 9,
     "metadata": {},
     "output_type": "execute_result"
    }
   ],
   "source": [
    "airbnb['property_type'].isna().sum()"
   ]
  },
  {
   "cell_type": "code",
   "execution_count": 10,
   "id": "5a9eaeea-53d4-43a0-9812-422339a22155",
   "metadata": {},
   "outputs": [],
   "source": [
    "airbnb[\"property_type\"].fillna(\"unkown\", inplace = True)"
   ]
  },
  {
   "cell_type": "code",
   "execution_count": 11,
   "id": "e3d484b4-497b-436e-9fe4-7ff524a11eaa",
   "metadata": {},
   "outputs": [
    {
     "data": {
      "text/plain": [
       "0"
      ]
     },
     "execution_count": 11,
     "metadata": {},
     "output_type": "execute_result"
    }
   ],
   "source": [
    "airbnb['neighbourhood_cleansed'].isna().sum() "
   ]
  },
  {
   "cell_type": "code",
   "execution_count": 12,
   "id": "7f83d58f-0368-46dd-a04e-2b2763c0508c",
   "metadata": {},
   "outputs": [
    {
     "data": {
      "text/plain": [
       "0"
      ]
     },
     "execution_count": 12,
     "metadata": {},
     "output_type": "execute_result"
    }
   ],
   "source": [
    "airbnb['room_type'].isna().sum() # can see by the results below, no missing values"
   ]
  },
  {
   "cell_type": "code",
   "execution_count": 13,
   "id": "0b837027-5268-40b4-8c96-565ee66ba040",
   "metadata": {},
   "outputs": [
    {
     "data": {
      "text/plain": [
       "0"
      ]
     },
     "execution_count": 13,
     "metadata": {},
     "output_type": "execute_result"
    }
   ],
   "source": [
    "airbnb['bed_type'].isna().sum() # can see by the results below, no missing values"
   ]
  },
  {
   "cell_type": "code",
   "execution_count": 14,
   "id": "9836de17-5dd9-4cbe-9650-46f55afdb89d",
   "metadata": {},
   "outputs": [
    {
     "data": {
      "text/plain": [
       "0"
      ]
     },
     "execution_count": 14,
     "metadata": {},
     "output_type": "execute_result"
    }
   ],
   "source": [
    "airbnb['cancellation_policy'].isna().sum() # can see by the results below, no missing values"
   ]
  },
  {
   "cell_type": "markdown",
   "id": "2a6376de-230c-4028-8bdd-f2912c3fd67a",
   "metadata": {},
   "source": [
    "## Encode the categorical variables ##"
   ]
  },
  {
   "cell_type": "code",
   "execution_count": 15,
   "id": "60da7b50-591f-4f67-9040-3e5a9d7de8da",
   "metadata": {},
   "outputs": [],
   "source": [
    "dummies_df = pd.get_dummies(airbnb['neighbourhood_cleansed'], prefix='neighbourhood_cleansed', drop_first=True)"
   ]
  },
  {
   "cell_type": "code",
   "execution_count": 16,
   "id": "2b749545-a9ae-4c5b-a998-a1c4ec814ded",
   "metadata": {},
   "outputs": [],
   "source": [
    "airbnb = airbnb.join(dummies_df)\n",
    "airbnb.drop('neighbourhood_cleansed', axis=1, inplace = True)"
   ]
  },
  {
   "cell_type": "code",
   "execution_count": 17,
   "id": "eaff69ec-e06d-4ed0-89f1-c26544a1e30a",
   "metadata": {},
   "outputs": [],
   "source": [
    "airbnb = airbnb.join(pd.get_dummies(airbnb['property_type'], prefix='property_type', drop_first=True))\n",
    "airbnb.drop('property_type', axis=1, inplace = True)"
   ]
  },
  {
   "cell_type": "code",
   "execution_count": 18,
   "id": "a991d783-e746-42a3-977d-044c2b71a12f",
   "metadata": {},
   "outputs": [],
   "source": [
    "labelencoder = LabelEncoder()\n",
    "airbnb['room_type'] = labelencoder.fit_transform(airbnb['room_type'])\n",
    "airbnb['bed_type'] = labelencoder.fit_transform(airbnb['bed_type'])\n",
    "airbnb['cancellation_policy'] = labelencoder.fit_transform(airbnb['cancellation_policy'])"
   ]
  },
  {
   "cell_type": "code",
   "execution_count": 19,
   "id": "4e59ca14-9bf7-4a0d-9695-ae9127570e29",
   "metadata": {},
   "outputs": [
    {
     "name": "stdout",
     "output_type": "stream",
     "text": [
      "<class 'pandas.core.frame.DataFrame'>\n",
      "RangeIndex: 3555 entries, 0 to 3554\n",
      "Data columns (total 56 columns):\n",
      " #   Column                                          Non-Null Count  Dtype  \n",
      "---  ------                                          --------------  -----  \n",
      " 0   host_is_superhost                               3555 non-null   int64  \n",
      " 1   host_identity_verified                          3555 non-null   int64  \n",
      " 2   latitude                                        3555 non-null   float64\n",
      " 3   longitude                                       3555 non-null   float64\n",
      " 4   room_type                                       3555 non-null   int32  \n",
      " 5   accommodates                                    3555 non-null   int64  \n",
      " 6   bathrooms                                       3541 non-null   float64\n",
      " 7   bedrooms                                        3545 non-null   float64\n",
      " 8   beds                                            3546 non-null   float64\n",
      " 9   bed_type                                        3555 non-null   int32  \n",
      " 10  Number of amenities                             3555 non-null   int64  \n",
      " 11  guests_included                                 3555 non-null   int64  \n",
      " 12  price_per_extra_person                          3555 non-null   int64  \n",
      " 13  minimum_nights                                  3555 non-null   int64  \n",
      " 14  number_of_reviews                               3555 non-null   int64  \n",
      " 15  number_days_btw_first_last_review               3555 non-null   int64  \n",
      " 16  review_scores_rating                            2755 non-null   float64\n",
      " 17  cancellation_policy                             3555 non-null   int32  \n",
      " 18  price_gte_150                                   3555 non-null   int64  \n",
      " 19  neighbourhood_cleansed_Back Bay                 3555 non-null   uint8  \n",
      " 20  neighbourhood_cleansed_Bay Village              3555 non-null   uint8  \n",
      " 21  neighbourhood_cleansed_Beacon Hill              3555 non-null   uint8  \n",
      " 22  neighbourhood_cleansed_Brighton                 3555 non-null   uint8  \n",
      " 23  neighbourhood_cleansed_Charlestown              3555 non-null   uint8  \n",
      " 24  neighbourhood_cleansed_Chinatown                3555 non-null   uint8  \n",
      " 25  neighbourhood_cleansed_Dorchester               3555 non-null   uint8  \n",
      " 26  neighbourhood_cleansed_Downtown                 3555 non-null   uint8  \n",
      " 27  neighbourhood_cleansed_East Boston              3555 non-null   uint8  \n",
      " 28  neighbourhood_cleansed_Fenway                   3555 non-null   uint8  \n",
      " 29  neighbourhood_cleansed_Hyde Park                3555 non-null   uint8  \n",
      " 30  neighbourhood_cleansed_Jamaica Plain            3555 non-null   uint8  \n",
      " 31  neighbourhood_cleansed_Leather District         3555 non-null   uint8  \n",
      " 32  neighbourhood_cleansed_Longwood Medical Area    3555 non-null   uint8  \n",
      " 33  neighbourhood_cleansed_Mattapan                 3555 non-null   uint8  \n",
      " 34  neighbourhood_cleansed_Mission Hill             3555 non-null   uint8  \n",
      " 35  neighbourhood_cleansed_North End                3555 non-null   uint8  \n",
      " 36  neighbourhood_cleansed_Roslindale               3555 non-null   uint8  \n",
      " 37  neighbourhood_cleansed_Roxbury                  3555 non-null   uint8  \n",
      " 38  neighbourhood_cleansed_South Boston             3555 non-null   uint8  \n",
      " 39  neighbourhood_cleansed_South Boston Waterfront  3555 non-null   uint8  \n",
      " 40  neighbourhood_cleansed_South End                3555 non-null   uint8  \n",
      " 41  neighbourhood_cleansed_West End                 3555 non-null   uint8  \n",
      " 42  neighbourhood_cleansed_West Roxbury             3555 non-null   uint8  \n",
      " 43  property_type_Bed & Breakfast                   3555 non-null   uint8  \n",
      " 44  property_type_Boat                              3555 non-null   uint8  \n",
      " 45  property_type_Camper/RV                         3555 non-null   uint8  \n",
      " 46  property_type_Condominium                       3555 non-null   uint8  \n",
      " 47  property_type_Dorm                              3555 non-null   uint8  \n",
      " 48  property_type_Entire Floor                      3555 non-null   uint8  \n",
      " 49  property_type_Guesthouse                        3555 non-null   uint8  \n",
      " 50  property_type_House                             3555 non-null   uint8  \n",
      " 51  property_type_Loft                              3555 non-null   uint8  \n",
      " 52  property_type_Other                             3555 non-null   uint8  \n",
      " 53  property_type_Townhouse                         3555 non-null   uint8  \n",
      " 54  property_type_Villa                             3555 non-null   uint8  \n",
      " 55  property_type_unkown                            3555 non-null   uint8  \n",
      "dtypes: float64(6), int32(3), int64(10), uint8(37)\n",
      "memory usage: 614.6 KB\n"
     ]
    }
   ],
   "source": [
    "# explore the dataframe columns to verify encoding and dropped columns\n",
    "airbnb.info()"
   ]
  },
  {
   "cell_type": "code",
   "execution_count": 26,
   "id": "618adfba-7ebb-495c-b3c4-fd8159f0ae0b",
   "metadata": {},
   "outputs": [],
   "source": [
    "airbnb.to_csv('./Data/airbnb_presplit_processed.csv', index=False)\n"
   ]
  },
  {
   "cell_type": "markdown",
   "id": "1fc61fc1-3175-4f62-91dc-ec1484f8ea75",
   "metadata": {},
   "source": [
    "## Train Test Split ##"
   ]
  },
  {
   "cell_type": "code",
   "execution_count": 27,
   "id": "4bd87184-db91-4e55-8fd6-376dc3fb6d55",
   "metadata": {},
   "outputs": [],
   "source": [
    "# split the data into validation and training set\n",
    "train_df, test_df = train_test_split(airbnb, test_size=0.3)\n",
    "\n",
    "# to reduce repetition in later code, create variables to represent the columns\n",
    "# that are our predictors and target\n",
    "target = 'price_gte_150'\n",
    "predictors = list(airbnb.columns)\n",
    "predictors.remove(target)"
   ]
  },
  {
   "cell_type": "markdown",
   "id": "5bd6ebd3-f1f7-4436-81ea-2acd718e7e59",
   "metadata": {},
   "source": [
    "## Impute missing values of numerical variables ##"
   ]
  },
  {
   "cell_type": "code",
   "execution_count": 28,
   "id": "849d8cf4-583d-4a2f-8656-45f929c357d9",
   "metadata": {},
   "outputs": [
    {
     "data": {
      "text/plain": [
       "['bathrooms', 'bedrooms', 'beds', 'review_scores_rating']"
      ]
     },
     "execution_count": 28,
     "metadata": {},
     "output_type": "execute_result"
    }
   ],
   "source": [
    "numeric_cols_with_nas = list(train_df.isna().sum()[train_df.isna().sum() > 0].index)\n",
    "numeric_cols_with_nas"
   ]
  },
  {
   "cell_type": "code",
   "execution_count": 29,
   "id": "a75360a9-b6cb-44d7-9ddb-ee3a0f2c7adf",
   "metadata": {},
   "outputs": [],
   "source": [
    "imputer = SimpleImputer(strategy=\"median\")\n",
    "\n",
    "train_df[numeric_cols_with_nas] = imputer.fit_transform(train_df[numeric_cols_with_nas])\n",
    "test_df[numeric_cols_with_nas] = imputer.transform(test_df[numeric_cols_with_nas])"
   ]
  },
  {
   "cell_type": "markdown",
   "id": "904530c9-d55f-4a3f-90c3-c8cb194e4550",
   "metadata": {},
   "source": [
    "## Standardize the numeric variables ##"
   ]
  },
  {
   "cell_type": "code",
   "execution_count": 30,
   "id": "d8106e42-e4cc-4162-b2b0-60b0c46294ef",
   "metadata": {},
   "outputs": [],
   "source": [
    "# create a standard scaler and fit it to the training set of predictors\n",
    "scaler = preprocessing.StandardScaler()\n",
    "cols_to_stdize = ['latitude', 'longitude', 'accommodates', \n",
    "                   'bathrooms', 'bedrooms', 'beds', 'Number of amenities', \n",
    "                   'guests_included', 'price_per_extra_person', 'minimum_nights', \n",
    "                   'number_of_reviews', 'number_days_btw_first_last_review', \n",
    "                   'review_scores_rating']                \n",
    "               \n",
    "# Transform the predictors of training and validation sets\n",
    "train_df[cols_to_stdize] = scaler.fit_transform(train_df[cols_to_stdize]) # train_predictors is not a numpy array\n",
    "\n",
    "\n",
    "test_df[cols_to_stdize] = scaler.transform(test_df[cols_to_stdize]) # validation_target is now a series object"
   ]
  },
  {
   "cell_type": "code",
   "execution_count": 31,
   "id": "54f0aac9-0260-405c-bd4d-388a755c020f",
   "metadata": {},
   "outputs": [],
   "source": [
    "train_X = train_df[predictors]\n",
    "train_y = train_df[target] # train_target is now a series objecttrain_df.to_csv('airbnb_train_df.csv', index=False)\n",
    "test_X = test_df[predictors]\n",
    "test_y = test_df[target] # validation_target is now a series object\n",
    "\n",
    "#train_df.to_csv('./data/airbnb_train_df_price_gte_150.csv', index=False)\n",
    "#train_X.to_csv('./data/airbnb_train_X_price_gte_150.csv', index=False)\n",
    "#train_y.to_csv('./data/airbnb_train_y_price_gte_150.csv', index=False)\n",
    "#test_df.to_csv('./data/airbnb_test_df_price_gte_150.csv', index=False)\n",
    "#test_X.to_csv('./data/airbnb_test_X_price_gte_150.csv', index=False)\n",
    "#test_y.to_csv('./data/airbnb_test_y_price_gte_150.csv', index=False)"
   ]
  },
  {
   "cell_type": "markdown",
   "id": "384f9d65-0bae-496e-9b4a-058fb69eb096",
   "metadata": {},
   "source": [
    "## Random search of parameters grid ##"
   ]
  },
  {
   "cell_type": "code",
   "execution_count": 41,
   "id": "ae5a701a-b70d-4baa-b626-d69c6e837703",
   "metadata": {},
   "outputs": [
    {
     "name": "stdout",
     "output_type": "stream",
     "text": [
      "Fitting 5 folds for each of 500 candidates, totalling 2500 fits\n"
     ]
    },
    {
     "name": "stderr",
     "output_type": "stream",
     "text": [
      "C:\\Users\\scbis\\anaconda3\\lib\\site-packages\\sklearn\\model_selection\\_validation.py:372: FitFailedWarning: \n",
      "30 fits failed out of a total of 2500.\n",
      "The score on these train-test partitions for these parameters will be set to nan.\n",
      "If these failures are not expected, you can try to debug them by setting error_score='raise'.\n",
      "\n",
      "Below are more details about the failures:\n",
      "--------------------------------------------------------------------------------\n",
      "30 fits failed with the following error:\n",
      "Traceback (most recent call last):\n",
      "  File \"C:\\Users\\scbis\\anaconda3\\lib\\site-packages\\sklearn\\model_selection\\_validation.py\", line 680, in _fit_and_score\n",
      "    estimator.fit(X_train, y_train, **fit_params)\n",
      "  File \"C:\\Users\\scbis\\anaconda3\\lib\\site-packages\\sklearn\\tree\\_classes.py\", line 937, in fit\n",
      "    super().fit(\n",
      "  File \"C:\\Users\\scbis\\anaconda3\\lib\\site-packages\\sklearn\\tree\\_classes.py\", line 250, in fit\n",
      "    raise ValueError(\n",
      "ValueError: min_samples_split must be an integer greater than 1 or a float in (0.0, 1.0]; got the integer 1\n",
      "\n",
      "  warnings.warn(some_fits_failed_message, FitFailedWarning)\n",
      "C:\\Users\\scbis\\anaconda3\\lib\\site-packages\\sklearn\\model_selection\\_search.py:969: UserWarning: One or more of the test scores are non-finite: [0.82532953 0.82488631 0.77844887 0.83133873 0.83581309 0.82532953\n",
      " 0.83942426 0.82488631 0.82507291 0.82488631 0.82487201 0.82488631\n",
      " 0.82488631 0.82488631        nan 0.83848795 0.82532953 0.8312966\n",
      " 0.82855513 0.82488631 0.82488631 0.82938888 0.83032083 0.82756901\n",
      " 0.82488631 0.82490463 0.82488631 0.82488631 0.82886716 0.82552271\n",
      " 0.82488631 0.82488631 0.83766907 0.83304336 0.82514459 0.82488631\n",
      " 0.82488631 0.82488631 0.82488631 0.82488631 0.82488631 0.83556602\n",
      " 0.83585906 0.82488631 0.83585906 0.82488631 0.82488631 0.83766907\n",
      " 0.83773101 0.82488631 0.82488631 0.82599224 0.82488631 0.83381465\n",
      " 0.82756901 0.82488631 0.82488631 0.8268126  0.82488631 0.83271256\n",
      " 0.84574416 0.82488631 0.82532953 0.82552271 0.82769013 0.82929658\n",
      " 0.83035102 0.82488631 0.77844887 0.82627955 0.82488631 0.82488631\n",
      " 0.84299907 0.82488631 0.82488631 0.77844887 0.82488631 0.82712333\n",
      " 0.82488631 0.82564676 0.82488631 0.82488631 0.82488631 0.82756901\n",
      " 0.82756901 0.82488631 0.82532953 0.85374786 0.82488631 0.83585906\n",
      " 0.82514459 0.82488631 0.8296367  0.82488631 0.84123466 0.82488631\n",
      " 0.82488631 0.82488631 0.82595586 0.83364647 0.83760339 0.82488631\n",
      " 0.77844887 0.82488631 0.82627955 0.82488631 0.82488631 0.84398494\n",
      " 0.82488631 0.82488631 0.82488631 0.82488631 0.82932352 0.82488631\n",
      " 0.82488631 0.8312966  0.82490463 0.82488631 0.82488631 0.82488631\n",
      " 0.82488631 0.84291253 0.83247073 0.82756901 0.82488631 0.82488631\n",
      " 0.82856943 0.82488631 0.82488631 0.82488631 0.82488631        nan\n",
      " 0.82595586 0.82586846 0.82488631 0.83019424 0.83480762 0.77844887\n",
      " 0.8287884  0.82488631 0.82488631 0.82532953 0.82488631 0.83133873\n",
      " 0.77844887 0.77844887 0.82532953 0.82532953 0.82488631 0.82488631\n",
      " 0.82488631 0.77844887 0.83766907 0.82488631 0.82488631 0.82488631\n",
      " 0.83825509 0.82532953 0.83766907 0.82488631 0.82488631 0.82488631\n",
      " 0.82532953 0.82488631 0.82488631 0.8302432  0.82488631 0.85158584\n",
      " 0.82756901 0.82488631 0.83099752 0.8312966  0.82488631 0.77844887\n",
      " 0.82488631 0.82532953 0.82488631 0.84665208 0.82488631 0.82575817\n",
      " 0.82769013 0.82627955 0.82488631 0.82488631 0.82488631 0.82488631\n",
      " 0.83247073 0.8312966  0.82488631 0.8280068  0.82488631 0.82488631\n",
      " 0.82532953 0.83766907 0.82488631 0.82488631 0.82488631 0.83556602\n",
      " 0.82488631 0.82488631 0.82488631 0.77844887 0.83672868 0.82552271\n",
      " 0.82488631 0.82488631 0.82488631 0.82488631 0.82488631 0.84822\n",
      " 0.82488631 0.84123466 0.8280068  0.77844887 0.82488631 0.82488631\n",
      " 0.82488631 0.8312966         nan 0.82488631 0.82488631 0.82488631\n",
      " 0.83766907 0.83132262 0.82488631 0.82586846 0.83585906 0.82532953\n",
      " 0.82488631 0.83585906 0.84150025 0.83585906 0.83585906 0.82488631\n",
      " 0.82488631 0.82532953 0.82595586 0.77844887 0.83585906 0.83585906\n",
      " 0.82567763 0.82488631 0.82488631 0.82532953 0.82488631 0.82488631\n",
      " 0.8317569  0.83773101 0.82488631 0.82488631 0.82756901 0.82488631\n",
      " 0.82488631 0.83077653 0.82841043 0.83351662 0.83861123 0.82488631\n",
      " 0.8280068  0.82532953 0.82488631 0.82532953 0.82488631 0.77844887\n",
      " 0.83556602 0.84414979 0.83585906 0.82488631 0.82488631 0.82532953\n",
      " 0.82488631        nan 0.82488631 0.82488631 0.82488631 0.82488631\n",
      " 0.82488631 0.82488631 0.82488631 0.83766907 0.82488631 0.82595586\n",
      " 0.82488631 0.82488631 0.82488631 0.82488631 0.82488631 0.82488631\n",
      "        nan 0.83019972 0.82488631 0.82841455 0.82856943 0.84123466\n",
      " 0.82488631 0.82756901 0.8280068  0.82488631 0.8407057  0.82532953\n",
      " 0.82532953 0.83585906 0.83470591 0.82841043 0.77844887 0.83886618\n",
      " 0.82488631        nan 0.82488631 0.83585906 0.82488631 0.83381465\n",
      " 0.83552884 0.82490463 0.82488631 0.83186319 0.82532953 0.83157624\n",
      " 0.82488631 0.82488631 0.82488631 0.82488631 0.82940688 0.82488631\n",
      " 0.82488631 0.82488631 0.82488631 0.82947064 0.82627955 0.82488631\n",
      " 0.82488631 0.82488631 0.82578511 0.82488631 0.82488631 0.83766907\n",
      " 0.82488631 0.83727502 0.82488631 0.82532953 0.82488631 0.82532953\n",
      " 0.82488631 0.83019972 0.83347878 0.77844887 0.82756901 0.82488631\n",
      " 0.82488631 0.84970498 0.82488631 0.82488631 0.82595586 0.82488631\n",
      " 0.82488631 0.82487201 0.77844887 0.82488631 0.82488631 0.82488631\n",
      " 0.82488631 0.82488631 0.82488631 0.82488631 0.82532953 0.83301534\n",
      " 0.82488631 0.83766907 0.82514459 0.82488631 0.83367319 0.77844887\n",
      " 0.84196023 0.82488631 0.82488631 0.82756901 0.83030411 0.82488631\n",
      " 0.82487201 0.77844887 0.83212209 0.83585906 0.82488631 0.83002511\n",
      " 0.83711882 0.82488631 0.83890348 0.82552271 0.82926049 0.82532953\n",
      " 0.82855513 0.82488631 0.82532953 0.82039937 0.82488631 0.82487201\n",
      " 0.82532953 0.83857143 0.8317569  0.82487201 0.82488631 0.83026191\n",
      " 0.82488631 0.82532953 0.82488631 0.82488631 0.82488631 0.82488631\n",
      " 0.83847851 0.84708677 0.82595586 0.82855513 0.82552271 0.82488631\n",
      " 0.82488631 0.84679758 0.8278815  0.82488631 0.8435269  0.83766907\n",
      " 0.77844887 0.82488631 0.82488631 0.82488631 0.82488631 0.82488631\n",
      " 0.77844887 0.82488631 0.82488631 0.82488631 0.82841455 0.84094552\n",
      " 0.82488631 0.83980868 0.82488631 0.82488631 0.82627955 0.77844887\n",
      " 0.84757433 0.82595586 0.83766907 0.82488631 0.82769013 0.82627955\n",
      " 0.85587517 0.82488631 0.82488631 0.83879432 0.83235847 0.83766907\n",
      " 0.82488631 0.83864066 0.82488631 0.82586846 0.82532953 0.82532953\n",
      " 0.82488631 0.82488631 0.82488631 0.83491274 0.82855513 0.82488631\n",
      " 0.82487201 0.82488631 0.82488631 0.82488631 0.82488631 0.82488631\n",
      " 0.82488631 0.83794377 0.82532953 0.83304336 0.82756901 0.82488631\n",
      " 0.82488631 0.82488631 0.83640461 0.82488631 0.82490463 0.82488631\n",
      " 0.82488631 0.77844887 0.83763562 0.82488631 0.83390551 0.85022589\n",
      " 0.82488631 0.82488631 0.8328052  0.83019972 0.82488631 0.82488631\n",
      " 0.84679758 0.8317569  0.82488631 0.82488631 0.82488631 0.82488631\n",
      " 0.82488631 0.82488631]\n",
      "  warnings.warn(\n",
      "C:\\Users\\scbis\\anaconda3\\lib\\site-packages\\sklearn\\model_selection\\_search.py:969: UserWarning: One or more of the train scores are non-finite: [0.826048   0.82583601 0.77774902 0.83647977 0.84238417 0.82598391\n",
      " 0.85623245 0.82583601 0.83772011 0.82583601 0.82814917 0.82583601\n",
      " 0.82583601 0.82583601        nan 0.86742904 0.82601598 0.83504222\n",
      " 0.83202072 0.82583601 0.82583601 0.84517217 0.83544251 0.83093316\n",
      " 0.82583601 0.8268113  0.82583601 0.82583601 0.83440142 0.82637164\n",
      " 0.82583601 0.82583601 0.84452029 0.84049152 0.82851932 0.82583601\n",
      " 0.82583601 0.82583601 0.82583601 0.82583601 0.82583601 0.8428255\n",
      " 0.84341642 0.82583601 0.84341642 0.82583601 0.82583601 0.84452029\n",
      " 0.84818137 0.82583601 0.82583601 0.83077589 0.82583601 0.84738863\n",
      " 0.83093316 0.82583601 0.82583601 0.83299591 0.82583601 0.83782\n",
      " 0.8526681  0.82583601 0.826048   0.82637164 0.83061584 0.8343879\n",
      " 0.83667334 0.82583601 0.77774902 0.83082791 0.82583601 0.82583601\n",
      " 0.87997779 0.82583601 0.82583601 0.77774902 0.82583601 0.84850853\n",
      " 0.82583601 0.84196059 0.82583601 0.82583601 0.82583601 0.83093316\n",
      " 0.83093316 0.82583601 0.826048   0.88000617 0.82583601 0.84341642\n",
      " 0.82851932 0.82583601 0.8627131  0.82583601 0.85036837 0.82583601\n",
      " 0.82583601 0.82583601 0.82697856 0.83978321 0.84238523 0.82583601\n",
      " 0.77774902 0.82583601 0.83082791 0.82583601 0.82583601 0.85716222\n",
      " 0.82583601 0.82583601 0.82583601 0.82583601 0.83266429 0.82583601\n",
      " 0.82583601 0.83504222 0.8268113  0.82583601 0.82583601 0.82583601\n",
      " 0.82583601 0.85455366 0.83861476 0.83093316 0.82583601 0.82583601\n",
      " 0.82973987 0.82583601 0.82583601 0.82583601 0.82583601        nan\n",
      " 0.82697856 0.83080794 0.82583601 0.83572419 0.84214072 0.77774902\n",
      " 0.83546913 0.82583601 0.82583601 0.826048   0.82583601 0.83647977\n",
      " 0.77774902 0.77774902 0.82601598 0.82601598 0.82583601 0.82583601\n",
      " 0.82583601 0.77774902 0.84452029 0.82583601 0.82583601 0.82583601\n",
      " 0.84786933 0.826048   0.84449037 0.82583601 0.82583601 0.82583601\n",
      " 0.826048   0.82583601 0.82583601 0.83673203 0.82583601 0.86651097\n",
      " 0.83093316 0.82583601 0.85416074 0.83504222 0.82583601 0.77774902\n",
      " 0.82583601 0.826048   0.82583601 0.85945505 0.82583601 0.83018155\n",
      " 0.83061584 0.83082791 0.82583601 0.82583601 0.82583601 0.82583601\n",
      " 0.83861476 0.83504222 0.82583601 0.83272552 0.82583601 0.82583601\n",
      " 0.826048   0.84452029 0.82583601 0.82583601 0.82583601 0.8428255\n",
      " 0.82583601 0.82583601 0.82583601 0.77774902 0.85314966 0.82637164\n",
      " 0.82583601 0.82583601 0.82583601 0.82583601 0.82583601 0.86744453\n",
      " 0.82583601 0.85036837 0.83272552 0.77774902 0.82583601 0.82583601\n",
      " 0.82583601 0.83504222        nan 0.82583601 0.82583601 0.82583601\n",
      " 0.84452029 0.84761411 0.82583601 0.83087084 0.84341642 0.826048\n",
      " 0.82583601 0.84341642 0.84945282 0.84341642 0.84341642 0.82583601\n",
      " 0.82583601 0.826048   0.82697856 0.77774902 0.84341642 0.84341642\n",
      " 0.83065526 0.82583601 0.82583601 0.82598391 0.82583601 0.82583601\n",
      " 0.83864725 0.84800719 0.82583601 0.82583601 0.83093316 0.82583601\n",
      " 0.82583601 0.83461817 0.83235552 0.8403701  0.84625332 0.82583601\n",
      " 0.83272552 0.826048   0.82583601 0.826048   0.82583601 0.77774902\n",
      " 0.8428255  0.85635595 0.84341642 0.82583601 0.82583601 0.82598391\n",
      " 0.82583601        nan 0.82583601 0.82583601 0.82583601 0.82583601\n",
      " 0.82583601 0.82583601 0.82583601 0.84452029 0.82583601 0.82697856\n",
      " 0.82583601 0.82583601 0.82583601 0.82583601 0.82583601 0.82583601\n",
      "        nan 0.83578976 0.82583601 0.83487784 0.82973987 0.85036837\n",
      " 0.82583601 0.83093316 0.83272552 0.82583601 0.85197904 0.826048\n",
      " 0.82598391 0.84341642 0.84072084 0.83235552 0.77774902 0.85969102\n",
      " 0.82583601        nan 0.82583601 0.84341642 0.82583601 0.84729952\n",
      " 0.84314121 0.8268113  0.82583601 0.83918818 0.82601598 0.85925445\n",
      " 0.82583601 0.82583601 0.82583601 0.82583601 0.8345461  0.82583601\n",
      " 0.82583601 0.82583601 0.82583601 0.85092494 0.83082791 0.82583601\n",
      " 0.82583601 0.82583601 0.82845794 0.82583601 0.82583601 0.84452029\n",
      " 0.82583601 0.84616532 0.82583601 0.826048   0.82583601 0.826048\n",
      " 0.82583601 0.83578976 0.85425487 0.77774902 0.83093316 0.82583601\n",
      " 0.82583601 0.86970142 0.82583601 0.82583601 0.82697856 0.82583601\n",
      " 0.82583601 0.82811686 0.77774902 0.82583601 0.82583601 0.82583601\n",
      " 0.82583601 0.82583601 0.82583601 0.82583601 0.82598391 0.83765142\n",
      " 0.82583601 0.84452029 0.82851932 0.82583601 0.84029205 0.77774902\n",
      " 0.85062256 0.82583601 0.82583601 0.83093316 0.8360138  0.82583601\n",
      " 0.82811686 0.77774902 0.86644719 0.84341642 0.82583601 0.83676151\n",
      " 0.84613639 0.82583601 0.85039497 0.82637164 0.83397202 0.826048\n",
      " 0.83219021 0.82583601 0.826048   0.83620896 0.82583601 0.82814917\n",
      " 0.826048   0.86497396 0.83864725 0.82814917 0.82583601 0.83261379\n",
      " 0.82583601 0.82598391 0.82583601 0.82583601 0.82583601 0.82583601\n",
      " 0.86403712 0.85513746 0.82697856 0.83202072 0.82637164 0.82583601\n",
      " 0.82583601 0.85496571 0.83301112 0.82583601 0.85286529 0.84452029\n",
      " 0.77774902 0.82583601 0.82583601 0.82583601 0.82583601 0.82583601\n",
      " 0.77774902 0.82583601 0.82583601 0.82583601 0.83487784 0.85031799\n",
      " 0.82583601 0.84628998 0.82583601 0.82583601 0.83082791 0.77774902\n",
      " 0.86584897 0.82697856 0.84452029 0.82583601 0.83061584 0.83082791\n",
      " 0.8720168  0.82583601 0.82583601 0.84458972 0.86650455 0.84452029\n",
      " 0.82583601 0.8470861  0.82583601 0.83087084 0.826048   0.82598391\n",
      " 0.82583601 0.82583601 0.82583601 0.84409992 0.83202072 0.82583601\n",
      " 0.82814917 0.82583601 0.82583601 0.82583601 0.82583601 0.82583601\n",
      " 0.82583601 0.84890125 0.826048   0.84049152 0.83093316 0.82583601\n",
      " 0.82583601 0.82583601 0.85911606 0.82583601 0.8268113  0.82583601\n",
      " 0.82583601 0.77774902 0.85456963 0.82583601 0.87609367 0.87135374\n",
      " 0.82583601 0.82583601 0.84002235 0.83578976 0.82583601 0.82583601\n",
      " 0.85496571 0.83864725 0.82583601 0.82583601 0.82583601 0.82583601\n",
      " 0.82583601 0.82583601]\n",
      "  warnings.warn(\n",
      "C:\\Users\\scbis\\anaconda3\\lib\\site-packages\\sklearn\\model_selection\\_search.py:292: UserWarning: The total space of parameters 126 is smaller than n_iter=500. Running 126 iterations. For exhaustive searches, use GridSearchCV.\n",
      "  warnings.warn(\n"
     ]
    },
    {
     "name": "stdout",
     "output_type": "stream",
     "text": [
      "The best precision score is 0.8558751673518566\n",
      "... with parameters: {'min_samples_split': 44, 'min_samples_leaf': 21, 'min_impurity_decrease': 0.0021, 'max_leaf_nodes': 18, 'max_depth': 25, 'criterion': 'gini'}\n",
      "Fitting 5 folds for each of 126 candidates, totalling 630 fits\n",
      "The best precision score is 0.8559629990754983\n",
      "... with parameters: {'kernel': 'poly', 'degree': 2, 'coef0': 2, 'C': 13}\n"
     ]
    }
   ],
   "source": [
    "score_measure = \"precision\"\n",
    "kfolds = 5\n",
    "\n",
    "# Grid for decision tree\n",
    "param_grid_tree = {\n",
    "    'min_samples_split': np.arange(1,100),  \n",
    "    'min_samples_leaf': np.arange(1,100),\n",
    "    'min_impurity_decrease': np.arange(0.0001, 0.01, 0.0005),\n",
    "    'max_leaf_nodes': np.arange(5, 50), \n",
    "    'max_depth': np.arange(1,50), \n",
    "    'criterion': ['entropy', 'gini'],\n",
    "}\n",
    "\n",
    "# Grid for SVM\n",
    "param_grid_svm = {\n",
    "    'degree': np.arange(1,4),\n",
    "    'coef0': np.arange(1,4),\n",
    "    'C': np.arange(1,15),\n",
    "    'kernel': ['poly'],   \n",
    "}\n",
    "\n",
    "dtree = DecisionTreeClassifier()\n",
    "svmpoly = SVC()\n",
    "\n",
    "rand_search_tree = RandomizedSearchCV(estimator = dtree, param_distributions=param_grid_tree, cv=kfolds, n_iter=500,\n",
    "                           scoring=score_measure, verbose=1, n_jobs=-1,  # n_jobs=-1 will utilize all available CPUs \n",
    "                           return_train_score=True)\n",
    "rand_search_svm = RandomizedSearchCV(estimator = svmpoly, param_distributions=param_grid_svm, cv=kfolds, n_iter=500,\n",
    "                           scoring=score_measure, verbose=1, n_jobs=-1,  # n_jobs=-1 will utilize all available CPUs \n",
    "                           return_train_score=True)\n",
    "\n",
    "# Decision tree model fit for grid search\n",
    "_ = rand_search_tree.fit(train_X, train_y)\n",
    "\n",
    "print(f\"The best {score_measure} score is {rand_search_tree.best_score_}\")\n",
    "print(f\"... with parameters: {rand_search_tree.best_params_}\")\n",
    "\n",
    "bestRecallTree = rand_search_tree.best_estimator_\n",
    "\n",
    "# SVM model fit for grid search\n",
    "_ = rand_search_svm.fit(train_X, train_y)\n",
    "\n",
    "print(f\"The best {score_measure} score is {rand_search_svm.best_score_}\")\n",
    "print(f\"... with parameters: {rand_search_svm.best_params_}\")\n",
    "\n",
    "bestRecallTree = rand_search_svm.best_estimator_"
   ]
  },
  {
   "cell_type": "markdown",
   "id": "6419dd50-b96c-4d5a-8914-b9df261f4f99",
   "metadata": {},
   "source": [
    "## Confusion matrix of Models ##"
   ]
  },
  {
   "cell_type": "code",
   "execution_count": 43,
   "id": "259a88a1-a10f-409b-b9d3-f2c1118ec2f6",
   "metadata": {},
   "outputs": [
    {
     "name": "stdout",
     "output_type": "stream",
     "text": [
      "Accuracy=0.8472352 Precision=0.8333333 Recall=0.8662900 F1=0.8494922\n"
     ]
    }
   ],
   "source": [
    "## Decision Tree\n",
    "c_matrix = confusion_matrix(test_y, rand_search_tree.predict(test_X))\n",
    "TP = c_matrix[1][1]\n",
    "TN = c_matrix[0][0]\n",
    "FP = c_matrix[0][1]\n",
    "FN = c_matrix[1][0]\n",
    "print(f\"Accuracy={(TP+TN)/(TP+TN+FP+FN):.7f} Precision={TP/(TP+FP):.7f} Recall={TP/(TP+FN):.7f} F1={2*TP/(2*TP+FP+FN):.7f}\")"
   ]
  },
  {
   "cell_type": "code",
   "execution_count": 44,
   "id": "d2dbad4b-e0e1-4cfd-b89e-89317f424608",
   "metadata": {},
   "outputs": [
    {
     "name": "stdout",
     "output_type": "stream",
     "text": [
      "Accuracy=0.8631678 Precision=0.8493648 Recall=0.8813559 F1=0.8650647\n"
     ]
    }
   ],
   "source": [
    "## SVM\n",
    "c_matrix = confusion_matrix(test_y, rand_search_svm.predict(test_X))\n",
    "TP = c_matrix[1][1]\n",
    "TN = c_matrix[0][0]\n",
    "FP = c_matrix[0][1]\n",
    "FN = c_matrix[1][0]\n",
    "print(f\"Accuracy={(TP+TN)/(TP+TN+FP+FN):.7f} Precision={TP/(TP+FP):.7f} Recall={TP/(TP+FN):.7f} F1={2*TP/(2*TP+FP+FN):.7f}\")"
   ]
  },
  {
   "cell_type": "markdown",
   "id": "a560c901-1798-4db9-b5b1-0b529e9eb032",
   "metadata": {},
   "source": [
    "## Final grid search with smaller range ##"
   ]
  },
  {
   "cell_type": "code",
   "execution_count": 51,
   "id": "e201866b-e3a0-4782-8775-7df4cd7a1ffc",
   "metadata": {},
   "outputs": [
    {
     "name": "stdout",
     "output_type": "stream",
     "text": [
      "Fitting 5 folds for each of 7776 candidates, totalling 38880 fits\n",
      "The best precision score is 0.8584728930092839\n",
      "... with parameters: {'criterion': 'gini', 'max_depth': 22, 'max_leaf_nodes': 15, 'min_impurity_decrease': 0.0021000000000000003, 'min_samples_leaf': 19, 'min_samples_split': 45}\n",
      "Fitting 5 folds for each of 24 candidates, totalling 120 fits\n",
      "The best precision score is 0.8559629990754983\n",
      "... with parameters: {'C': 13, 'coef0': 2, 'degree': 2, 'kernel': 'poly'}\n"
     ]
    }
   ],
   "source": [
    "score_measure = \"precision\"\n",
    "kfolds = 5\n",
    "\n",
    "# Decision tree grid\n",
    "param_grid_tree = {\n",
    "    'min_samples_split': np.arange(41,47),  \n",
    "    'min_samples_leaf': np.arange(18,24),\n",
    "    'min_impurity_decrease': np.arange(0.0018, 0.0024, 0.0001),\n",
    "    'max_leaf_nodes': np.arange(15,21), \n",
    "    'max_depth': np.arange(22,28), \n",
    "    'criterion': ['gini'],\n",
    "}\n",
    "\n",
    "# SVM grid\n",
    "param_grid_svm = {\n",
    "    'degree': np.arange(1,3),\n",
    "    'coef0': np.arange(1,3),\n",
    "    'C': np.arange(10,16),\n",
    "    'kernel': ['poly'],   \n",
    "}\n",
    "\n",
    "dtree = DecisionTreeClassifier()\n",
    "svmpoly = SVC()\n",
    "\n",
    "grid_search_tree = GridSearchCV(estimator = dtree, param_grid=param_grid_tree, cv=kfolds, \n",
    "                           scoring=score_measure, verbose=1, n_jobs=-1,  # n_jobs=-1 will utilize all available CPUs \n",
    "                           return_train_score=True)\n",
    "\n",
    "grid_search_svm = GridSearchCV(estimator = svmpoly, param_grid=param_grid_svm, cv=kfolds, \n",
    "                           scoring=score_measure, verbose=1, n_jobs=-1,  # n_jobs=-1 will utilize all available CPUs \n",
    "                           return_train_score=True)\n",
    "\n",
    "# Decision tree fit\n",
    "_ = grid_search_tree.fit(train_X, train_y)\n",
    "\n",
    "print(f\"The best {score_measure} score is {grid_search_tree.best_score_}\")\n",
    "print(f\"... with parameters: {grid_search_tree.best_params_}\")\n",
    "\n",
    "bestRecallTree = grid_search_tree.best_estimator_\n",
    "\n",
    "\n",
    "# SVM fit\n",
    "_ = grid_search_svm.fit(train_X, train_y)\n",
    "\n",
    "print(f\"The best {score_measure} score is {grid_search_svm.best_score_}\")\n",
    "print(f\"... with parameters: {grid_search_svm.best_params_}\")\n",
    "\n",
    "bestRecallTree = grid_search_svm.best_estimator_"
   ]
  },
  {
   "cell_type": "code",
   "execution_count": 52,
   "id": "04b91d81-6174-4af8-a286-d5aeba1ae06c",
   "metadata": {},
   "outputs": [
    {
     "name": "stdout",
     "output_type": "stream",
     "text": [
      "Accuracy=0.8472352 Precision=0.8333333 Recall=0.8662900 F1=0.8494922\n"
     ]
    }
   ],
   "source": [
    "# Confusion matrix of Decision tree\n",
    "c_matrix = confusion_matrix(test_y, grid_search_tree.predict(test_X))\n",
    "TP = c_matrix[1][1]\n",
    "TN = c_matrix[0][0]\n",
    "FP = c_matrix[0][1]\n",
    "FN = c_matrix[1][0]\n",
    "print(f\"Accuracy={(TP+TN)/(TP+TN+FP+FN):.7f} Precision={TP/(TP+FP):.7f} Recall={TP/(TP+FN):.7f} F1={2*TP/(2*TP+FP+FN):.7f}\")"
   ]
  },
  {
   "cell_type": "code",
   "execution_count": 53,
   "id": "39cb58ef-9c8d-4d4a-a2da-5add32b43706",
   "metadata": {},
   "outputs": [
    {
     "name": "stdout",
     "output_type": "stream",
     "text": [
      "Accuracy=0.8631678 Precision=0.8493648 Recall=0.8813559 F1=0.8650647\n"
     ]
    }
   ],
   "source": [
    "# Confusion matrix of SVM\n",
    "c_matrix = confusion_matrix(test_y, grid_search_svm.predict(test_X))\n",
    "TP = c_matrix[1][1]\n",
    "TN = c_matrix[0][0]\n",
    "FP = c_matrix[0][1]\n",
    "FN = c_matrix[1][0]\n",
    "print(f\"Accuracy={(TP+TN)/(TP+TN+FP+FN):.7f} Precision={TP/(TP+FP):.7f} Recall={TP/(TP+FN):.7f} F1={2*TP/(2*TP+FP+FN):.7f}\")"
   ]
  },
  {
   "cell_type": "markdown",
   "id": "1c11ece3-e5da-493d-9867-396bcfead48c",
   "metadata": {},
   "source": [
    "## Important features of Decision tree model ##"
   ]
  },
  {
   "cell_type": "code",
   "execution_count": 54,
   "id": "86d9437f-1308-4439-90c3-0d4e02c5c3ee",
   "metadata": {},
   "outputs": [
    {
     "data": {
      "text/plain": [
       "array([0.  , 0.  , 0.03, 0.1 , 0.78, 0.  , 0.  , 0.05, 0.01, 0.  , 0.  ,\n",
       "       0.  , 0.  , 0.  , 0.  , 0.  , 0.  , 0.  , 0.  , 0.  , 0.  , 0.  ,\n",
       "       0.  , 0.  , 0.  , 0.  , 0.03, 0.  , 0.  , 0.  , 0.  , 0.  , 0.  ,\n",
       "       0.  , 0.01, 0.  , 0.  , 0.  , 0.  , 0.  , 0.  , 0.  , 0.  , 0.  ,\n",
       "       0.  , 0.  , 0.  , 0.  , 0.  , 0.  , 0.  , 0.  , 0.  , 0.  , 0.  ])"
      ]
     },
     "execution_count": 54,
     "metadata": {},
     "output_type": "execute_result"
    }
   ],
   "source": [
    "np.round(grid_search_tree.best_estimator_.feature_importances_,2)"
   ]
  },
  {
   "cell_type": "markdown",
   "id": "37b069a4-87bf-4ce6-b758-c5c5cda898dd",
   "metadata": {},
   "source": [
    "## Analysis of models ## "
   ]
  },
  {
   "cell_type": "markdown",
   "id": "c5fa2763-0252-4c97-8e1b-90611c3c96e5",
   "metadata": {},
   "source": [
    "By doing grid search of model parameters, we have got the optimum values of parameters to get best precision. The precision score of decision tree model is 0.833 and that of SVM model is .849. From precision score its clear that SVM model with kernel poly, degree 2, coef0 2 and C of 13 is the best model for the given dataset. "
   ]
  }
 ],
 "metadata": {
  "kernelspec": {
   "display_name": "Python 3 (ipykernel)",
   "language": "python",
   "name": "python3"
  },
  "language_info": {
   "codemirror_mode": {
    "name": "ipython",
    "version": 3
   },
   "file_extension": ".py",
   "mimetype": "text/x-python",
   "name": "python",
   "nbconvert_exporter": "python",
   "pygments_lexer": "ipython3",
   "version": "3.9.12"
  }
 },
 "nbformat": 4,
 "nbformat_minor": 5
}
